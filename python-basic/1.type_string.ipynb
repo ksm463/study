{
 "cells": [
  {
   "cell_type": "code",
   "execution_count": 1,
   "metadata": {},
   "outputs": [
    {
     "name": "stdout",
     "output_type": "stream",
     "text": [
      "<class 'int'>\n",
      "<class 'float'>\n",
      "<class 'bool'>\n",
      "<class 'bool'>\n",
      "<class 'str'>\n"
     ]
    }
   ],
   "source": [
    "'''기본 타입'''\n",
    "\n",
    "print(type(1))\n",
    "print(type(1.5))\n",
    "print(type(True))\n",
    "print(type(False))\n",
    "print(type('문자열'))"
   ]
  },
  {
   "cell_type": "code",
   "execution_count": 3,
   "metadata": {},
   "outputs": [
    {
     "name": "stdout",
     "output_type": "stream",
     "text": [
      "hello world\n",
      "'hello world'\n",
      "\"hello world\"\n",
      "\"'hello world\"\n",
      "\"hello \n",
      "world\"\n",
      "hello \n",
      "world\n"
     ]
    }
   ],
   "source": [
    "'''문자열 만들기'''\n",
    "\n",
    "print('hello world')\n",
    "print(\"'hello world'\")\n",
    "print('\"hello world\"')\n",
    "print('\"\\'hello world\"')\n",
    "print('\"hello \\nworld\"')\n",
    "print('''\\\n",
    "hello \n",
    "world\\\n",
    "''')"
   ]
  },
  {
   "cell_type": "code",
   "execution_count": 9,
   "metadata": {},
   "outputs": [
    {
     "name": "stdout",
     "output_type": "stream",
     "text": [
      "hello world\n",
      "hello,hello,hello,world\n",
      "주소는 3번지다.\n",
      "3\n",
      "4\n"
     ]
    }
   ],
   "source": [
    "'''문자열 연산'''\n",
    "\n",
    "print('hello ' + 'world')\n",
    "print('hello,' * 3 + 'world')\n",
    "print('주소는 ' + str(3) + '번지다.')\n",
    "\n",
    "print(int('3'))\n",
    "print(len('ㄱㄴㄷㄹ'))"
   ]
  }
 ],
 "metadata": {
  "kernelspec": {
   "display_name": "venv",
   "language": "python",
   "name": "python3"
  },
  "language_info": {
   "codemirror_mode": {
    "name": "ipython",
    "version": 3
   },
   "file_extension": ".py",
   "mimetype": "text/x-python",
   "name": "python",
   "nbconvert_exporter": "python",
   "pygments_lexer": "ipython3",
   "version": "3.9.12"
  }
 },
 "nbformat": 4,
 "nbformat_minor": 2
}
