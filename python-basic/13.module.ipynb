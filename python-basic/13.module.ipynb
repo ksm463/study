{
 "cells": [
  {
   "cell_type": "code",
   "execution_count": 4,
   "metadata": {},
   "outputs": [
    {
     "name": "stdout",
     "output_type": "stream",
     "text": [
      "3.141592653589793\n",
      "0.6931471805599453\n",
      "3.141592653589793\n",
      "0.6931471805599453\n",
      "2\n"
     ]
    }
   ],
   "source": [
    "'''모듈'''\n",
    "\n",
    "# import로 모듈을 가져올 수 있다.\n",
    "import math\n",
    "\n",
    "print(math.pi)\n",
    "print(math.log(2))\n",
    "\n",
    "# 모듈 내의 함수를 개별로 가져오면 사용할 함수를 모두 가져와야 한다.\n",
    "from math import pi, log\n",
    "\n",
    "print(pi)\n",
    "print(log(2))\n",
    "\n",
    "# *로 모듈 내의 모든 함수를 가져올 수 있다.\n",
    "# 모듈이 작은 경우가 아니라면 사용을 자제하는 것이 좋다.\n",
    "from math import *\n",
    "\n",
    "# 다른 폴더의 모듈도 가져올 수 있다.\n",
    "# pkg폴더의 mul 함수를 호출\n",
    "from pkg import mul\n",
    "print(mul.mul(1, 2))"
   ]
  }
 ],
 "metadata": {
  "kernelspec": {
   "display_name": "venv",
   "language": "python",
   "name": "python3"
  },
  "language_info": {
   "codemirror_mode": {
    "name": "ipython",
    "version": 3
   },
   "file_extension": ".py",
   "mimetype": "text/x-python",
   "name": "python",
   "nbconvert_exporter": "python",
   "pygments_lexer": "ipython3",
   "version": "3.9.12"
  }
 },
 "nbformat": 4,
 "nbformat_minor": 2
}
