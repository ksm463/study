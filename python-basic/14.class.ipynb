{
 "cells": [
  {
   "cell_type": "code",
   "execution_count": 5,
   "metadata": {},
   "outputs": [
    {
     "name": "stdout",
     "output_type": "stream",
     "text": [
      "성 3 100\n",
      "name : 상, number : 4, score : 50\n",
      "True\n"
     ]
    }
   ],
   "source": [
    "'''클래스'''\n",
    "# 객체지향, 인스턴스, 다형성, 캡슐화 등의 개념이 있지만 문제풀이엔 사용하지 않음.\n",
    "# 만들어놓은 틀을 여러 번 사용할 수 있게 해준다.\n",
    "\n",
    "class A:\n",
    "    def __init__(self, name, number, score) -> None:\n",
    "        self.name = name\n",
    "        self.number = number\n",
    "        self.score = score\n",
    "    \n",
    "    # 메서드 : 자기 자신을 self로 변수로 선언해줘야 한다.\n",
    "    def to_string(self):\n",
    "        return 'name : {}, number : {}, score : {}'.format(self.name, self.number, self.score)\n",
    "    \n",
    "    # 정적(static) 함수 : 단순 함수만 쓰고 싶은 경우\n",
    "    def example(a, b):\n",
    "        return a.number < b.number\n",
    "        \n",
    "a = A('성', 3, 100)\n",
    "\n",
    "print(a.name, a.number, a.score)\n",
    "\n",
    "b = A(\"상\", 4, 50)\n",
    "\n",
    "print(b.to_string())\n",
    "\n",
    "print(A.example(a, b))"
   ]
  }
 ],
 "metadata": {
  "kernelspec": {
   "display_name": "venv",
   "language": "python",
   "name": "python3"
  },
  "language_info": {
   "codemirror_mode": {
    "name": "ipython",
    "version": 3
   },
   "file_extension": ".py",
   "mimetype": "text/x-python",
   "name": "python",
   "nbconvert_exporter": "python",
   "pygments_lexer": "ipython3",
   "version": "3.9.12"
  }
 },
 "nbformat": 4,
 "nbformat_minor": 2
}
