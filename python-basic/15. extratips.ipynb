{
 "cells": [
  {
   "cell_type": "code",
   "execution_count": 1,
   "metadata": {},
   "outputs": [
    {
     "name": "stdout",
     "output_type": "stream",
     "text": [
      "1 2 3\n"
     ]
    }
   ],
   "source": [
    "'''구조 분해 할당'''\n",
    "\n",
    "a = [1, 2, 3]\n",
    "[x, y, z] = [1, 2, 3]\n",
    "\n",
    "print(x, y, z)"
   ]
  },
  {
   "cell_type": "code",
   "execution_count": 4,
   "metadata": {},
   "outputs": [
    {
     "name": "stdout",
     "output_type": "stream",
     "text": [
      "[2, 8, 10, 12, 14, 20]\n"
     ]
    }
   ],
   "source": [
    "'''list comprehension'''\n",
    "\n",
    "a = [1, 4, 5, 6, 7, 10]\n",
    "\n",
    "# b = []\n",
    "# for x in a:\n",
    "#     b.append(x * 2)\n",
    "# 위 식은 길고 복잡함\n",
    "\n",
    "b = [x * 2 for x in a]\n",
    "    \n",
    "print(b)"
   ]
  },
  {
   "cell_type": "code",
   "execution_count": 5,
   "metadata": {},
   "outputs": [
    {
     "name": "stdout",
     "output_type": "stream",
     "text": [
      "[6, 7, 10]\n"
     ]
    }
   ],
   "source": [
    "a = [1, 4, 5, 6, 7, 10]\n",
    "\n",
    "pivot = 5\n",
    "b = [x for x in a if x > pivot]\n",
    "\n",
    "print(b)"
   ]
  },
  {
   "cell_type": "code",
   "execution_count": 9,
   "metadata": {},
   "outputs": [
    {
     "name": "stdout",
     "output_type": "stream",
     "text": [
      "7\n"
     ]
    }
   ],
   "source": [
    "'''unpacking'''\n",
    "\n",
    "# 아래와 같이 기호를 생략하면 보통 튜플로 인식한다.\n",
    "a = 1, 2, 3\n",
    "\n",
    "def f(w, x, y, z):\n",
    "    return w + x + y + z\n",
    "\n",
    "print(f(1, *a))"
   ]
  },
  {
   "cell_type": "code",
   "execution_count": 12,
   "metadata": {},
   "outputs": [
    {
     "name": "stdout",
     "output_type": "stream",
     "text": [
      "[1, 2, 3, 4]\n"
     ]
    }
   ],
   "source": [
    "# 리스트를 활용한 언패킹\n",
    "x = '1', '2', '3', '4'\n",
    "\n",
    "y = [*map(int, x)]\n",
    "print(y)"
   ]
  },
  {
   "cell_type": "code",
   "execution_count": 15,
   "metadata": {},
   "outputs": [
    {
     "name": "stdout",
     "output_type": "stream",
     "text": [
      "짱\n",
      "{1: '갓', 2: '흥', 3: '민', 4: '짱'}\n",
      "{1: '손', 2: '흥', 3: '민', 4: '짱'}\n"
     ]
    }
   ],
   "source": [
    "# 딕셔너리를 활용한 언패킹\n",
    "z = {1 : '손', 2 : '흥', 3 : '민', 4 : '짱'}\n",
    "# 언패킹을 이용해 복사\n",
    "w = {**z}\n",
    "\n",
    "z[1] = '갓'\n",
    "print(z[4])\n",
    "print(z)\n",
    "print(w)"
   ]
  },
  {
   "cell_type": "code",
   "execution_count": 16,
   "metadata": {},
   "outputs": [
    {
     "name": "stdout",
     "output_type": "stream",
     "text": [
      "3\n"
     ]
    }
   ],
   "source": [
    "'''lambda'''\n",
    "\n",
    "def A(x):\n",
    "    return x*x + x + 1\n",
    "\n",
    "def B(key, x):\n",
    "    return key(x)\n",
    "\n",
    "print(B(A, 1))"
   ]
  },
  {
   "cell_type": "code",
   "execution_count": 17,
   "metadata": {},
   "outputs": [
    {
     "name": "stdout",
     "output_type": "stream",
     "text": [
      "3\n"
     ]
    }
   ],
   "source": [
    "# 위 수식은 간단한 기능인데 너무 길고 복잡함\n",
    "# lambda로 일회성 함수를 만들 수 있음\n",
    "# 함수가 함수 자체를 인자로 받게 작성\n",
    "\n",
    "def B(key, x):\n",
    "    return key(x)\n",
    "\n",
    "print(B(lambda x : x*x + x + 1, 1))"
   ]
  },
  {
   "cell_type": "code",
   "execution_count": 19,
   "metadata": {},
   "outputs": [
    {
     "name": "stdout",
     "output_type": "stream",
     "text": [
      "1 2 3 4\n"
     ]
    },
    {
     "ename": "UnboundLocalError",
     "evalue": "local variable 'glo' referenced before assignment",
     "output_type": "error",
     "traceback": [
      "\u001b[1;31m---------------------------------------------------------------------------\u001b[0m",
      "\u001b[1;31mUnboundLocalError\u001b[0m                         Traceback (most recent call last)",
      "Cell \u001b[1;32mIn [19], line 10\u001b[0m\n\u001b[0;32m      7\u001b[0m     glo \u001b[38;5;241m+\u001b[39m\u001b[38;5;241m=\u001b[39m \u001b[38;5;241m1\u001b[39m\n\u001b[0;32m      8\u001b[0m     \u001b[38;5;28mprint\u001b[39m(glo)\n\u001b[1;32m---> 10\u001b[0m \u001b[43mfunction\u001b[49m\u001b[43m(\u001b[49m\u001b[38;5;241;43m1\u001b[39;49m\u001b[43m,\u001b[49m\u001b[38;5;241;43m2\u001b[39;49m\u001b[43m,\u001b[49m\u001b[38;5;241;43m3\u001b[39;49m\u001b[43m,\u001b[49m\u001b[38;5;241;43m4\u001b[39;49m\u001b[43m)\u001b[49m\n",
      "Cell \u001b[1;32mIn [19], line 7\u001b[0m, in \u001b[0;36mfunction\u001b[1;34m(a, b, c, d)\u001b[0m\n\u001b[0;32m      5\u001b[0m \u001b[38;5;28;01mdef\u001b[39;00m \u001b[38;5;21mfunction\u001b[39m(a, b, c, d):\n\u001b[0;32m      6\u001b[0m     \u001b[38;5;28mprint\u001b[39m(a,b,c,d)\n\u001b[1;32m----> 7\u001b[0m     glo \u001b[38;5;241m+\u001b[39m\u001b[38;5;241m=\u001b[39m \u001b[38;5;241m1\u001b[39m\n\u001b[0;32m      8\u001b[0m     \u001b[38;5;28mprint\u001b[39m(glo)\n",
      "\u001b[1;31mUnboundLocalError\u001b[0m: local variable 'glo' referenced before assignment"
     ]
    }
   ],
   "source": [
    "'''전역변수'''\n",
    "# 파이썬은 기본적으로 로컬에 있는 변수만 읽어온다.\n",
    "\n",
    "glo = 0\n",
    "\n",
    "def function(a, b, c, d):\n",
    "    print(a,b,c,d)\n",
    "    glo += 1\n",
    "    print(glo)\n",
    "\n",
    "function(1,2,3,4)"
   ]
  },
  {
   "cell_type": "code",
   "execution_count": null,
   "metadata": {},
   "outputs": [
    {
     "name": "stdout",
     "output_type": "stream",
     "text": [
      "1 2 3 4\n",
      "1\n"
     ]
    }
   ],
   "source": [
    "# 파이썬은 로컬에서 먼저 찾아보고 전역변수를 찾게 된다.\n",
    "# 전역변수를 읽어오게 설정하면 읽어온다.\n",
    "# 전역변수를 쓰면 편해보이지만, 오버헤드가 발생해서 느려질 수 있다.\n",
    "\n",
    "glo = 0\n",
    "\n",
    "def function(a, b, c, d):\n",
    "    print(a,b,c,d)\n",
    "    global glo\n",
    "    glo += 1\n",
    "    print(glo)\n",
    "\n",
    "function(1,2,3,4)"
   ]
  },
  {
   "cell_type": "code",
   "execution_count": 1,
   "metadata": {},
   "outputs": [],
   "source": [
    "# __name__을 이용하여 main에서 실행한다는 설정으로 빠르게 해줄 수 있음.\n",
    "\n",
    "def main():\n",
    "    a = 0\n",
    "    \n",
    "    for _ in range(100000000):\n",
    "        a += 1\n",
    "        \n",
    "if __name__ == '__main__':\n",
    "    main()"
   ]
  },
  {
   "cell_type": "code",
   "execution_count": 1,
   "metadata": {},
   "outputs": [
    {
     "name": "stdout",
     "output_type": "stream",
     "text": [
      "[(0, 111), (1, 222), (2, 333), (3, 444), (4, 555)]\n"
     ]
    }
   ],
   "source": [
    "# enumerate\n",
    "\n",
    "a = [111, 222, 333, 444, 555]\n",
    "\n",
    "# [(0, 111), (1, 222), (2, 333)...]\n",
    "\n",
    "print([*enumerate(a)])"
   ]
  }
 ],
 "metadata": {
  "kernelspec": {
   "display_name": "Python 3",
   "language": "python",
   "name": "python3"
  },
  "language_info": {
   "codemirror_mode": {
    "name": "ipython",
    "version": 3
   },
   "file_extension": ".py",
   "mimetype": "text/x-python",
   "name": "python",
   "nbconvert_exporter": "python",
   "pygments_lexer": "ipython3",
   "version": "3.10.5"
  }
 },
 "nbformat": 4,
 "nbformat_minor": 2
}
