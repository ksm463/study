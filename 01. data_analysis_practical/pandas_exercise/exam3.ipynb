{
 "cells": [
  {
   "cell_type": "markdown",
   "metadata": {},
   "source": [
    "# Q1. 2022년 데이터 중 2022년 중앙값보다 큰 값의 데이터 수\n",
    "- data: t1-data2.csv"
   ]
  },
  {
   "cell_type": "code",
   "execution_count": null,
   "metadata": {},
   "outputs": [],
   "source": [
    "import pandas as pd\n",
    "df = pd.read_csv(\"../input/big-data-analytics-certification/t1-data2.csv\", index_col='year')\n",
    "df"
   ]
  },
  {
   "cell_type": "code",
   "execution_count": null,
   "metadata": {},
   "outputs": [],
   "source": [
    "tdf = df.T\n",
    "mdf = tdf[\"2022년\"].median()\n",
    "udf = tdf[tdf[\"2022년\"]>mdf]\n",
    "print(len(udf))"
   ]
  },
  {
   "cell_type": "markdown",
   "metadata": {},
   "source": [
    "# Q2. 결측치 데이터(행)을 제거하고, 앞에서부터 60% 데이터만 활용해, 'f1' 컬럼 3사분위 값을 구하시오 \n",
    "- 60%가 소수점일 경우 절사(예: 36.6 일때 36으로 계산)\n",
    "- data: t1-data1.csv"
   ]
  },
  {
   "cell_type": "code",
   "execution_count": null,
   "metadata": {},
   "outputs": [],
   "source": [
    "import pandas as pd\n",
    "df = pd.read_csv(\"../input/big-data-analytics-certification/t1-data1.csv\")\n",
    "df"
   ]
  },
  {
   "cell_type": "code",
   "execution_count": null,
   "metadata": {},
   "outputs": [],
   "source": [
    "df = df.dropna()\n",
    "len6 = len(df)*0.6\n",
    "print(len6) # 36\n",
    "ndf = df.head(36)\n",
    "ans = ndf['f1'].quantile(0.75)\n",
    "print(ans)"
   ]
  },
  {
   "cell_type": "markdown",
   "metadata": {},
   "source": [
    "# Q3. 결측치가 제일 큰 값의 컬럼명을 구하시오\n",
    "- data: t1-data1.csv"
   ]
  },
  {
   "cell_type": "code",
   "execution_count": null,
   "metadata": {},
   "outputs": [],
   "source": [
    "import pandas as pd\n",
    "df = pd.read_csv(\"../input/big-data-analytics-certification/t1-data1.csv\")\n",
    "df.head()"
   ]
  },
  {
   "cell_type": "code",
   "execution_count": null,
   "metadata": {},
   "outputs": [],
   "source": [
    "df = df.isnull().sum()\n",
    "print(df.index[3])"
   ]
  },
  {
   "cell_type": "markdown",
   "metadata": {},
   "source": [
    "# 작업형2 기출 유형(심화)\n",
    "- 본 문제는 변형한 심화 문제 입니다.\n",
    "\n",
    "### 여행 보험 패키지 상품을 구매할 확률 값을 구하시오\n",
    "- 예측할 값(y): TravelInsurance (여행보험 패지지를 구매 했는지 여부 0:구매안함, 1:구매)\n",
    "- 평가: roc-auc 평가지표\n",
    "- data: t2-1-train.csv, t2-1-test.csv\n",
    "- 제출 형식\n",
    "\n",
    "~~~\n",
    "id,TravelInsurance\n",
    "0,0.3\n",
    "1,0.48\n",
    "2,0.3\n",
    "3,0.83\n",
    "~~~"
   ]
  },
  {
   "cell_type": "code",
   "execution_count": null,
   "metadata": {},
   "outputs": [],
   "source": [
    "# 라이브러리 불러오기\n",
    "import pandas as pd"
   ]
  },
  {
   "cell_type": "code",
   "execution_count": null,
   "metadata": {},
   "outputs": [],
   "source": [
    "# 데이터 불러오기\n",
    "train = pd.read_csv(\"../input/big-data-analytics-certification/t2-1-train.csv\")\n",
    "test = pd.read_csv(\"../input/big-data-analytics-certification/t2-1-test.csv\")"
   ]
  },
  {
   "cell_type": "markdown",
   "metadata": {},
   "source": [
    "2. 데이터 탐색"
   ]
  },
  {
   "cell_type": "code",
   "execution_count": null,
   "metadata": {},
   "outputs": [],
   "source": [
    "# 데이터 사이즈\n",
    "train.shape, test.shape\n",
    "# ((1490, 10), (497, 9))"
   ]
  },
  {
   "cell_type": "code",
   "execution_count": null,
   "metadata": {},
   "outputs": [],
   "source": [
    "# type 확인\n",
    "print(train.info())\n",
    "print(test.info())"
   ]
  },
  {
   "cell_type": "code",
   "execution_count": null,
   "metadata": {},
   "outputs": [],
   "source": [
    "# x 데이터 설정\n",
    "x_train = train.drop(['TravelInsurance'], axis=1)\n",
    "x_test = test\n",
    "x_train.head()"
   ]
  },
  {
   "cell_type": "code",
   "execution_count": null,
   "metadata": {},
   "outputs": [],
   "source": [
    "# y 데이터 설정\n",
    "y_train = train['TravelInsurance']\n",
    "y_train"
   ]
  },
  {
   "cell_type": "markdown",
   "metadata": {},
   "source": [
    "3. 데이터 전처리"
   ]
  },
  {
   "cell_type": "code",
   "execution_count": null,
   "metadata": {},
   "outputs": [],
   "source": [
    "# 결측치 확인\n",
    "print(x_train.info())\n",
    "print(x_test.info())"
   ]
  },
  {
   "cell_type": "code",
   "execution_count": null,
   "metadata": {},
   "outputs": [],
   "source": [
    "# 중앙값 측정\n",
    "ai1 = x_train['AnnualIncome'].median()\n",
    "ai2 = x_test['AnnualIncome'].median()\n",
    "\n",
    "print(ai1)\n",
    "print(ai2)\n",
    "# 900000.0"
   ]
  },
  {
   "cell_type": "code",
   "execution_count": null,
   "metadata": {},
   "outputs": [],
   "source": [
    "# 결측치 대체\n",
    "x_train[\"AnnualIncome\"] = x_train[\"AnnualIncome\"].fillna(ai1)\n",
    "x_test[\"AnnualIncome\"] = x_test[\"AnnualIncome\"].fillna(ai2)\n",
    "print(x_train.info())\n",
    "print(x_test.info())"
   ]
  },
  {
   "cell_type": "code",
   "execution_count": null,
   "metadata": {},
   "outputs": [],
   "source": [
    "# 원핫인코딩\n",
    "x_train = pd.get_dummies(x_train)\n",
    "x_test = pd.get_dummies(x_test)\n",
    "\n",
    "print(x_train.info())\n",
    "print(x_test.info())"
   ]
  },
  {
   "cell_type": "code",
   "execution_count": null,
   "metadata": {},
   "outputs": [],
   "source": [
    "# 열 맞추기\n",
    "x_test = x_test.reindex(columns=x_train.columns, fill_value=0)\n",
    "x_test.info()"
   ]
  },
  {
   "cell_type": "code",
   "execution_count": null,
   "metadata": {},
   "outputs": [],
   "source": [
    "# 데이터 분리\n",
    "from sklearn.model_selection import train_test_split\n",
    "x_train, x_val, y_train, y_val = train_test_split(x_train,\n",
    "                                                 y_train,\n",
    "                                                 test_size=0.2,\n",
    "                                                 stratify=y_train,\n",
    "                                                 random_state=2023)\n",
    "print(x_train.shape)\n",
    "print(x_val.shape)\n",
    "print(y_train.shape)\n",
    "print(y_val.shape)\n",
    "\n",
    "# (1192, 13)\n",
    "# (298, 13)\n",
    "# (1192,)\n",
    "# (298,)"
   ]
  },
  {
   "cell_type": "markdown",
   "metadata": {},
   "source": [
    "4. 모델링 및 성능평가"
   ]
  },
  {
   "cell_type": "code",
   "execution_count": null,
   "metadata": {},
   "outputs": [],
   "source": [
    "# 랜포분류 설정\n",
    "from sklearn.ensemble import RandomForestClassifier\n",
    "model = RandomForestClassifier(random_state=2023)\n",
    "model.fit(x_train, y_train)"
   ]
  },
  {
   "cell_type": "code",
   "execution_count": null,
   "metadata": {},
   "outputs": [],
   "source": [
    "# 측정 지표 설정\n",
    "y_pred = model.predict(x_val)\n",
    "\n",
    "from sklearn.metrics import accuracy_score, f1_score, roc_auc_score\n",
    "acc = accuracy_score(y_val, y_pred)\n",
    "f1 = f1_score(y_val, y_pred)\n",
    "roc = roc_auc_score(y_val, y_pred)\n",
    "\n",
    "print(acc)\n",
    "print(f1)\n",
    "print(roc)\n",
    "\n",
    "# 0.785234899328859\n",
    "# 0.6595744680851063\n",
    "# 0.7408339501603752"
   ]
  },
  {
   "cell_type": "markdown",
   "metadata": {},
   "source": [
    "5. 예측값 제출"
   ]
  },
  {
   "cell_type": "code",
   "execution_count": null,
   "metadata": {},
   "outputs": [],
   "source": [
    "# 결과값 도출\n",
    "y_result = model.predict(x_test)\n",
    "\n",
    "# csv 내보내기\n",
    "column_name = ['TravelInsurance']\n",
    "result = pd.DataFrame(y_result, columns=column_name).to_csv('1234.csv', index=False)\n",
    "result = pd.read_csv('1234.csv')\n",
    "print(result)"
   ]
  }
 ],
 "metadata": {
  "kernelspec": {
   "display_name": "venv",
   "language": "python",
   "name": "python3"
  },
  "language_info": {
   "name": "python",
   "version": "3.8.10"
  }
 },
 "nbformat": 4,
 "nbformat_minor": 2
}
