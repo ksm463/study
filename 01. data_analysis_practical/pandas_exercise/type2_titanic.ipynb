{
 "cells": [
  {
   "cell_type": "markdown",
   "metadata": {},
   "source": [
    "# 2유형 연습_타이타닉 생존자 분류"
   ]
  },
  {
   "cell_type": "markdown",
   "metadata": {},
   "source": [
    "## 데이터 분석 순서\n",
    "\n",
    "1. 라이브러리 및 데이터 확인\n",
    "2. 데이터 탐색(EDA)\n",
    "3. 데이터 전처리 및 분리\n",
    "4. 모델링 및 성능평가\n",
    "5. 예측값 제출"
   ]
  },
  {
   "cell_type": "code",
   "execution_count": 1,
   "metadata": {},
   "outputs": [],
   "source": [
    "#### 복사 영역\n",
    "# 실기 시험 데이터셋으로 세팅하기 (수정금지)\n",
    "import pandas as pd\n",
    "import numpy as np\n",
    "\n",
    "import seaborn as sns\n",
    "# titanic 데이터셋 로드\n",
    "df = sns.load_dataset('titanic')\n",
    "\n",
    "x = df.drop(['survived'], axis=1)\n",
    "y = df['survived']\n",
    "\n",
    "# 실기 시험 데이터셋으로 세팅하기 (수정금지)\n",
    "from sklearn.model_selection import train_test_split\n",
    "x_train, x_test, y_train, y_test = train_test_split(x, y, test_size=0.2, stratify=y, random_state=2023)\n",
    "\n",
    "x_test = pd.DataFrame(x_test)\n",
    "x_train = pd.DataFrame(x_train)\n",
    "y_train = pd.DataFrame(y_train)\n",
    "y_test = pd.DataFrame(y_test) # 평가용\n",
    "\n",
    "\n",
    "x_test.reset_index()\n",
    "y_train.columns = ['target']\n",
    "y_test.columns = ['target']\n",
    "\n",
    "#### 참고사항 ####\n",
    "# y_test는 주어지지 않음\n",
    "# X를 대문자로 쓰지 말고 소문자 x로 쓸것. 타이핑할때 실수하기 쉽다."
   ]
  },
  {
   "cell_type": "markdown",
   "metadata": {},
   "source": [
    "### 타이타닉 생존자 예측 문제\n",
    "\n",
    "- 데이터의 결측치, 중복 변수값에 대해 처리하고\n",
    "- 분류모델을 사용하여 Accuracy, F1 score, AUC 값을 산출하시오.\n",
    "\n",
    "데이터 설명\n",
    "* survival : 0 = No, 1 = Yes\n",
    "* pclass : 객실 등급(1, 2, 3)\n",
    "* sex : 성별\n",
    "* age : 나이\n",
    "* sibsp : 탑승한 형제/배우자 수\n",
    "* parch : 탑승한 부모/자녀의 수\n",
    "* fare : 요금\n",
    "* embarked : 탑승지 이름 Cherbourg / Queenstown / Southhampton\n",
    "* (중복) class : 객실 등급(first, Second, Third)\n",
    "* who : man, women, chind\n",
    "* adult_male : 성인남자 True/False\n",
    "* deck :  선실번호 알파벳(A~G)\n",
    "* (중복) embark_town : 탑승지 이름 Cherbourg / Queenstown / Southhampton\n",
    "* (중복) alive : 생존여부(no:사망, yes:생존)\n",
    "* alone : 혼자 탑승했는지 여부(True=혼자, False=가족과 함께)"
   ]
  },
  {
   "cell_type": "markdown",
   "metadata": {},
   "source": [
    "### 2. 데이터 탐색(EDA)"
   ]
  },
  {
   "cell_type": "code",
   "execution_count": 2,
   "metadata": {},
   "outputs": [
    {
     "name": "stdout",
     "output_type": "stream",
     "text": [
      "(712, 14)\n",
      "(179, 14)\n",
      "(712, 1)\n"
     ]
    }
   ],
   "source": [
    "# 데이터의 행/열 확인\n",
    "print(x_train.shape)\n",
    "print(x_test.shape)\n",
    "print(y_train.shape)"
   ]
  },
  {
   "cell_type": "code",
   "execution_count": 3,
   "metadata": {},
   "outputs": [
    {
     "name": "stdout",
     "output_type": "stream",
     "text": [
      "     pclass     sex   age  sibsp  parch   fare embarked   class    who  \\\n",
      "3         1  female  35.0      1      0  53.10        S   First  woman   \n",
      "517       3    male   NaN      0      0  24.15        Q   Third    man   \n",
      "861       2    male  21.0      1      0  11.50        S  Second    man   \n",
      "\n",
      "     adult_male deck  embark_town alive  alone  \n",
      "3         False    C  Southampton   yes  False  \n",
      "517        True  NaN   Queenstown    no   True  \n",
      "861        True  NaN  Southampton    no  False  \n",
      "     pclass     sex   age  sibsp  parch   fare embarked   class    who  \\\n",
      "800       2    male  34.0      0      0   13.0        S  Second    man   \n",
      "341       1  female  24.0      3      2  263.0        S   First  woman   \n",
      "413       2    male   NaN      0      0    0.0        S  Second    man   \n",
      "\n",
      "     adult_male deck  embark_town alive  alone  \n",
      "800        True  NaN  Southampton    no   True  \n",
      "341       False    C  Southampton   yes  False  \n",
      "413        True  NaN  Southampton    no   True  \n",
      "     target\n",
      "3         1\n",
      "517       0\n",
      "861       0\n"
     ]
    }
   ],
   "source": [
    "# 초기 데이터 확인\n",
    "print(x_train.head(3))\n",
    "print(x_test.head(3))\n",
    "print(y_train.head(3))"
   ]
  },
  {
   "cell_type": "code",
   "execution_count": 4,
   "metadata": {},
   "outputs": [
    {
     "name": "stdout",
     "output_type": "stream",
     "text": [
      "<class 'pandas.core.frame.DataFrame'>\n",
      "Index: 712 entries, 3 to 608\n",
      "Data columns (total 14 columns):\n",
      " #   Column       Non-Null Count  Dtype   \n",
      "---  ------       --------------  -----   \n",
      " 0   pclass       712 non-null    int64   \n",
      " 1   sex          712 non-null    object  \n",
      " 2   age          579 non-null    float64 \n",
      " 3   sibsp        712 non-null    int64   \n",
      " 4   parch        712 non-null    int64   \n",
      " 5   fare         712 non-null    float64 \n",
      " 6   embarked     710 non-null    object  \n",
      " 7   class        712 non-null    category\n",
      " 8   who          712 non-null    object  \n",
      " 9   adult_male   712 non-null    bool    \n",
      " 10  deck         164 non-null    category\n",
      " 11  embark_town  710 non-null    object  \n",
      " 12  alive        712 non-null    object  \n",
      " 13  alone        712 non-null    bool    \n",
      "dtypes: bool(2), category(2), float64(2), int64(3), object(5)\n",
      "memory usage: 64.4+ KB\n",
      "None\n",
      "<class 'pandas.core.frame.DataFrame'>\n",
      "Index: 179 entries, 800 to 410\n",
      "Data columns (total 14 columns):\n",
      " #   Column       Non-Null Count  Dtype   \n",
      "---  ------       --------------  -----   \n",
      " 0   pclass       179 non-null    int64   \n",
      " 1   sex          179 non-null    object  \n",
      " 2   age          135 non-null    float64 \n",
      " 3   sibsp        179 non-null    int64   \n",
      " 4   parch        179 non-null    int64   \n",
      " 5   fare         179 non-null    float64 \n",
      " 6   embarked     179 non-null    object  \n",
      " 7   class        179 non-null    category\n",
      " 8   who          179 non-null    object  \n",
      " 9   adult_male   179 non-null    bool    \n",
      " 10  deck         39 non-null     category\n",
      " 11  embark_town  179 non-null    object  \n",
      " 12  alive        179 non-null    object  \n",
      " 13  alone        179 non-null    bool    \n",
      "dtypes: bool(2), category(2), float64(2), int64(3), object(5)\n",
      "memory usage: 16.6+ KB\n",
      "None\n",
      "<class 'pandas.core.frame.DataFrame'>\n",
      "Index: 712 entries, 3 to 608\n",
      "Data columns (total 1 columns):\n",
      " #   Column  Non-Null Count  Dtype\n",
      "---  ------  --------------  -----\n",
      " 0   target  712 non-null    int64\n",
      "dtypes: int64(1)\n",
      "memory usage: 11.1 KB\n",
      "None\n"
     ]
    }
   ],
   "source": [
    "# 타입 매칭, 결측치 확인\n",
    "# object, category -> 원핫인코딩 필요\n",
    "\n",
    "print(x_train.info())\n",
    "print(x_test.info())\n",
    "print(y_train.info())"
   ]
  },
  {
   "cell_type": "code",
   "execution_count": 5,
   "metadata": {},
   "outputs": [
    {
     "name": "stdout",
     "output_type": "stream",
     "text": [
      "           pclass         age       sibsp       parch        fare\n",
      "count  712.000000  579.000000  712.000000  712.000000  712.000000\n",
      "mean     2.307584   29.479568    0.518258    0.372191   31.741836\n",
      "std      0.834926   14.355304    1.094522    0.792341   45.403910\n",
      "min      1.000000    0.420000    0.000000    0.000000    0.000000\n",
      "25%      2.000000   20.000000    0.000000    0.000000    7.895800\n",
      "50%      3.000000   28.000000    0.000000    0.000000   14.454200\n",
      "75%      3.000000   38.000000    1.000000    0.000000   31.275000\n",
      "max      3.000000   74.000000    8.000000    6.000000  512.329200\n",
      "           pclass         age       sibsp       parch        fare\n",
      "count  179.000000  135.000000  179.000000  179.000000  179.000000\n",
      "mean     2.312849   30.640741    0.541899    0.418994   34.043364\n",
      "std      0.842950   15.258427    1.137797    0.859760   64.097184\n",
      "min      1.000000    1.000000    0.000000    0.000000    0.000000\n",
      "25%      2.000000   22.000000    0.000000    0.000000    7.925000\n",
      "50%      3.000000   29.000000    0.000000    0.000000   14.500000\n",
      "75%      3.000000   39.000000    1.000000    0.000000   30.285400\n",
      "max      3.000000   80.000000    8.000000    5.000000  512.329200\n",
      "           target\n",
      "count  712.000000\n",
      "mean     0.383427\n",
      "std      0.486563\n",
      "min      0.000000\n",
      "25%      0.000000\n",
      "50%      0.000000\n",
      "75%      1.000000\n",
      "max      1.000000\n"
     ]
    }
   ],
   "source": [
    "# x_train과 x_test 데이터의 기초통계량 비교\n",
    "print(x_train.describe())\n",
    "print(x_test.describe())\n",
    "print(y_train.describe())"
   ]
  },
  {
   "cell_type": "code",
   "execution_count": 6,
   "metadata": {},
   "outputs": [
    {
     "name": "stdout",
     "output_type": "stream",
     "text": [
      "         sex embarked  who  embark_town alive\n",
      "count    712      710  712          710   712\n",
      "unique     2        3    3            3     2\n",
      "top     male        S  man  Southampton    no\n",
      "freq     469      518  432          518   439\n",
      "         sex embarked  who  embark_town alive\n",
      "count    179      179  179          179   179\n",
      "unique     2        3    3            3     2\n",
      "top     male        S  man  Southampton    no\n",
      "freq     108      126  105          126   110\n",
      "        class deck\n",
      "count     712  164\n",
      "unique      3    7\n",
      "top     Third    C\n",
      "freq      391   47\n",
      "        class deck\n",
      "count     179   39\n",
      "unique      3    7\n",
      "top     Third    C\n",
      "freq      100   12\n"
     ]
    }
   ],
   "source": [
    "# object, category 데이터도 추가 확인\n",
    "print(x_train.describe(include='object'))\n",
    "print(x_test.describe(include='object'))\n",
    "\n",
    "print(x_train.describe(include='category'))\n",
    "print(x_test.describe(include='category'))"
   ]
  },
  {
   "cell_type": "code",
   "execution_count": 7,
   "metadata": {},
   "outputs": [
    {
     "name": "stdout",
     "output_type": "stream",
     "text": [
      "     target\n",
      "3         1\n",
      "517       0\n",
      "861       0\n",
      "487       0\n",
      "58        1\n"
     ]
    }
   ],
   "source": [
    "# y데이터 살펴보기\n",
    "print(y_train.head())"
   ]
  },
  {
   "cell_type": "code",
   "execution_count": 8,
   "metadata": {},
   "outputs": [
    {
     "name": "stdout",
     "output_type": "stream",
     "text": [
      "target\n",
      "0         439\n",
      "1         273\n",
      "Name: count, dtype: int64\n"
     ]
    }
   ],
   "source": [
    "print(y_train.value_counts())"
   ]
  },
  {
   "cell_type": "markdown",
   "metadata": {},
   "source": [
    "### 3. 데이터 전처리 및 분리\n",
    "1) 결측치\n",
    "2) 이상치\n",
    "3) 변수 처리하기"
   ]
  },
  {
   "cell_type": "code",
   "execution_count": 9,
   "metadata": {},
   "outputs": [
    {
     "name": "stdout",
     "output_type": "stream",
     "text": [
      "pclass           0\n",
      "sex              0\n",
      "age            133\n",
      "sibsp            0\n",
      "parch            0\n",
      "fare             0\n",
      "embarked         2\n",
      "class            0\n",
      "who              0\n",
      "adult_male       0\n",
      "deck           548\n",
      "embark_town      2\n",
      "alive            0\n",
      "alone            0\n",
      "dtype: int64\n",
      "pclass           0\n",
      "sex              0\n",
      "age             44\n",
      "sibsp            0\n",
      "parch            0\n",
      "fare             0\n",
      "embarked         0\n",
      "class            0\n",
      "who              0\n",
      "adult_male       0\n",
      "deck           140\n",
      "embark_town      0\n",
      "alive            0\n",
      "alone            0\n",
      "dtype: int64\n",
      "target    0\n",
      "dtype: int64\n"
     ]
    }
   ],
   "source": [
    "# 결측치 확인\n",
    "print(x_train.isnull().sum())\n",
    "print(x_test.isnull().sum())\n",
    "print(y_train.isnull().sum())"
   ]
  },
  {
   "cell_type": "code",
   "execution_count": 10,
   "metadata": {},
   "outputs": [],
   "source": [
    "# 결측치 제거\n",
    "# df = df.dropna()\n",
    "# print(df)\n",
    "\n",
    "# 참고사항\n",
    "# print(df.dropna().shape) # 행 기준으로 삭제"
   ]
  },
  {
   "cell_type": "code",
   "execution_count": 11,
   "metadata": {},
   "outputs": [],
   "source": [
    "# 결측치 대체\n",
    "# x_train(712,14) : age(133), embarked(2), deck(548), embark_town(2)\n",
    "# x_test(179,14) : age(44), deck(140)\n",
    "\n",
    "# 변수 제거\n",
    "# (중복) class, embark_town, alive\n",
    "# (결측치 다수) deck -> 이정도의 숫자면 제거하는게 성능 향상"
   ]
  },
  {
   "cell_type": "code",
   "execution_count": 12,
   "metadata": {},
   "outputs": [],
   "source": [
    "# 중복변수 제거\n",
    "x_train = x_train.drop(['class', 'embark_town', 'alive', 'deck'], axis=1)\n",
    "x_test = x_test.drop(['class', 'embark_town', 'alive', 'deck'], axis=1)"
   ]
  },
  {
   "cell_type": "code",
   "execution_count": 13,
   "metadata": {},
   "outputs": [
    {
     "name": "stdout",
     "output_type": "stream",
     "text": [
      "<class 'pandas.core.frame.DataFrame'>\n",
      "Index: 712 entries, 3 to 608\n",
      "Data columns (total 10 columns):\n",
      " #   Column      Non-Null Count  Dtype  \n",
      "---  ------      --------------  -----  \n",
      " 0   pclass      712 non-null    int64  \n",
      " 1   sex         712 non-null    object \n",
      " 2   age         579 non-null    float64\n",
      " 3   sibsp       712 non-null    int64  \n",
      " 4   parch       712 non-null    int64  \n",
      " 5   fare        712 non-null    float64\n",
      " 6   embarked    710 non-null    object \n",
      " 7   who         712 non-null    object \n",
      " 8   adult_male  712 non-null    bool   \n",
      " 9   alone       712 non-null    bool   \n",
      "dtypes: bool(2), float64(2), int64(3), object(3)\n",
      "memory usage: 51.5+ KB\n",
      "None\n",
      "<class 'pandas.core.frame.DataFrame'>\n",
      "Index: 179 entries, 800 to 410\n",
      "Data columns (total 10 columns):\n",
      " #   Column      Non-Null Count  Dtype  \n",
      "---  ------      --------------  -----  \n",
      " 0   pclass      179 non-null    int64  \n",
      " 1   sex         179 non-null    object \n",
      " 2   age         135 non-null    float64\n",
      " 3   sibsp       179 non-null    int64  \n",
      " 4   parch       179 non-null    int64  \n",
      " 5   fare        179 non-null    float64\n",
      " 6   embarked    179 non-null    object \n",
      " 7   who         179 non-null    object \n",
      " 8   adult_male  179 non-null    bool   \n",
      " 9   alone       179 non-null    bool   \n",
      "dtypes: bool(2), float64(2), int64(3), object(3)\n",
      "memory usage: 12.9+ KB\n",
      "None\n"
     ]
    }
   ],
   "source": [
    "# 변수제거 확인\n",
    "print(x_train.info())\n",
    "print(x_test.info())"
   ]
  },
  {
   "cell_type": "code",
   "execution_count": 14,
   "metadata": {},
   "outputs": [],
   "source": [
    "# 결측치 대체\n",
    "# x_train(712, 14) : age(133), emarked(2)\n",
    "# x_test(179, 14) : age(44)\n",
    "\n",
    "# age 변수 -> 수치데이터는 중앙값으로 대체\n",
    "med_age = x_train['age'].median()\n",
    "x_train['age'] = x_train['age'].fillna(med_age)\n",
    "x_test['age'] = x_test['age'].fillna(med_age) # train data의 중앙값으로\n",
    "\n",
    "# embarked -> object 타입은 최빈값으로 대체\n",
    "mode_et = x_train['embarked'].mode()\n",
    "x_train['embarked'] = x_train['embarked'].fillna(mode_et[0]) # 최빈값 [0] 주의"
   ]
  },
  {
   "cell_type": "code",
   "execution_count": 15,
   "metadata": {},
   "outputs": [
    {
     "name": "stdout",
     "output_type": "stream",
     "text": [
      "pclass        0\n",
      "sex           0\n",
      "age           0\n",
      "sibsp         0\n",
      "parch         0\n",
      "fare          0\n",
      "embarked      0\n",
      "who           0\n",
      "adult_male    0\n",
      "alone         0\n",
      "dtype: int64\n",
      "pclass        0\n",
      "sex           0\n",
      "age           0\n",
      "sibsp         0\n",
      "parch         0\n",
      "fare          0\n",
      "embarked      0\n",
      "who           0\n",
      "adult_male    0\n",
      "alone         0\n",
      "dtype: int64\n"
     ]
    }
   ],
   "source": [
    "# 결측치 대체 여부 확인\n",
    "print(x_train.isnull().sum())\n",
    "print(x_test.isnull().sum())"
   ]
  },
  {
   "cell_type": "code",
   "execution_count": 16,
   "metadata": {},
   "outputs": [
    {
     "name": "stdout",
     "output_type": "stream",
     "text": [
      "<class 'pandas.core.frame.DataFrame'>\n",
      "Index: 712 entries, 3 to 608\n",
      "Data columns (total 15 columns):\n",
      " #   Column      Non-Null Count  Dtype  \n",
      "---  ------      --------------  -----  \n",
      " 0   pclass      712 non-null    int64  \n",
      " 1   age         712 non-null    float64\n",
      " 2   sibsp       712 non-null    int64  \n",
      " 3   parch       712 non-null    int64  \n",
      " 4   fare        712 non-null    float64\n",
      " 5   adult_male  712 non-null    bool   \n",
      " 6   alone       712 non-null    bool   \n",
      " 7   sex_female  712 non-null    bool   \n",
      " 8   sex_male    712 non-null    bool   \n",
      " 9   embarked_C  712 non-null    bool   \n",
      " 10  embarked_Q  712 non-null    bool   \n",
      " 11  embarked_S  712 non-null    bool   \n",
      " 12  who_child   712 non-null    bool   \n",
      " 13  who_man     712 non-null    bool   \n",
      " 14  who_woman   712 non-null    bool   \n",
      "dtypes: bool(10), float64(2), int64(3)\n",
      "memory usage: 40.3 KB\n",
      "None\n",
      "<class 'pandas.core.frame.DataFrame'>\n",
      "Index: 179 entries, 800 to 410\n",
      "Data columns (total 15 columns):\n",
      " #   Column      Non-Null Count  Dtype  \n",
      "---  ------      --------------  -----  \n",
      " 0   pclass      179 non-null    int64  \n",
      " 1   age         179 non-null    float64\n",
      " 2   sibsp       179 non-null    int64  \n",
      " 3   parch       179 non-null    int64  \n",
      " 4   fare        179 non-null    float64\n",
      " 5   adult_male  179 non-null    bool   \n",
      " 6   alone       179 non-null    bool   \n",
      " 7   sex_female  179 non-null    bool   \n",
      " 8   sex_male    179 non-null    bool   \n",
      " 9   embarked_C  179 non-null    bool   \n",
      " 10  embarked_Q  179 non-null    bool   \n",
      " 11  embarked_S  179 non-null    bool   \n",
      " 12  who_child   179 non-null    bool   \n",
      " 13  who_man     179 non-null    bool   \n",
      " 14  who_woman   179 non-null    bool   \n",
      "dtypes: bool(10), float64(2), int64(3)\n",
      "memory usage: 10.1 KB\n",
      "None\n"
     ]
    }
   ],
   "source": [
    "# 변수처리 (원핫인코딩)\n",
    "x_train = pd.get_dummies(x_train)\n",
    "x_test = pd.get_dummies(x_test)\n",
    "\n",
    "print(x_train.info())\n",
    "print(x_test.info())\n",
    "\n",
    "# advanced 버전 사용\n",
    "x_train_ad = x_train.copy()\n",
    "x_test_ad = x_test.copy()\n",
    "y_train_ad = y_train.copy()"
   ]
  },
  {
   "cell_type": "code",
   "execution_count": 17,
   "metadata": {},
   "outputs": [],
   "source": [
    "# 참고사항 : 원핫인코딩 후 변수의 수가 다른 경우\n",
    "# => x_test의 변수의 수가 x_train 보다 많은 경우 (혹은 그 반대인 경우)\n",
    "\n",
    "# 원핫인코딩 후 Feature 수가 다를 경우\n",
    "# x_train = pd.get_dummies(x_train)\n",
    "# x_test = pd.get_dummies(x_test)\n",
    "# x_train.info()\n",
    "# x_test.info()\n",
    "\n",
    "# 해결방법(x_test의 변수가 수가 더 많은 경우의 코드)\n",
    "# x_train = x_train.reindex(columns = x_test.columns, fill_value=0)\n",
    "# x_train.info()"
   ]
  },
  {
   "cell_type": "markdown",
   "metadata": {},
   "source": [
    "데이터 분리"
   ]
  },
  {
   "cell_type": "code",
   "execution_count": 18,
   "metadata": {},
   "outputs": [
    {
     "name": "stdout",
     "output_type": "stream",
     "text": [
      "(569, 15)\n",
      "(143, 15)\n",
      "(569,)\n",
      "(143,)\n"
     ]
    }
   ],
   "source": [
    "# 데이터 훈련 세트와 검증용 세트 분할 (8:2)\n",
    "from sklearn.model_selection import train_test_split\n",
    "x_train, x_val, y_train, y_val = train_test_split(x_train, \n",
    "                                                  y_train['target'], \n",
    "                                                  test_size=0.2, \n",
    "                                                  stratify=y_train['target'], \n",
    "                                                  random_state=2023)\n",
    "print(x_train.shape)\n",
    "print(x_val.shape)\n",
    "print(y_train.shape)\n",
    "print(y_val.shape)"
   ]
  },
  {
   "cell_type": "markdown",
   "metadata": {},
   "source": [
    "### 4. 모델링 및 성능평가"
   ]
  },
  {
   "cell_type": "code",
   "execution_count": 19,
   "metadata": {},
   "outputs": [
    {
     "data": {
      "text/html": [
       "<style>#sk-container-id-1 {color: black;}#sk-container-id-1 pre{padding: 0;}#sk-container-id-1 div.sk-toggleable {background-color: white;}#sk-container-id-1 label.sk-toggleable__label {cursor: pointer;display: block;width: 100%;margin-bottom: 0;padding: 0.3em;box-sizing: border-box;text-align: center;}#sk-container-id-1 label.sk-toggleable__label-arrow:before {content: \"▸\";float: left;margin-right: 0.25em;color: #696969;}#sk-container-id-1 label.sk-toggleable__label-arrow:hover:before {color: black;}#sk-container-id-1 div.sk-estimator:hover label.sk-toggleable__label-arrow:before {color: black;}#sk-container-id-1 div.sk-toggleable__content {max-height: 0;max-width: 0;overflow: hidden;text-align: left;background-color: #f0f8ff;}#sk-container-id-1 div.sk-toggleable__content pre {margin: 0.2em;color: black;border-radius: 0.25em;background-color: #f0f8ff;}#sk-container-id-1 input.sk-toggleable__control:checked~div.sk-toggleable__content {max-height: 200px;max-width: 100%;overflow: auto;}#sk-container-id-1 input.sk-toggleable__control:checked~label.sk-toggleable__label-arrow:before {content: \"▾\";}#sk-container-id-1 div.sk-estimator input.sk-toggleable__control:checked~label.sk-toggleable__label {background-color: #d4ebff;}#sk-container-id-1 div.sk-label input.sk-toggleable__control:checked~label.sk-toggleable__label {background-color: #d4ebff;}#sk-container-id-1 input.sk-hidden--visually {border: 0;clip: rect(1px 1px 1px 1px);clip: rect(1px, 1px, 1px, 1px);height: 1px;margin: -1px;overflow: hidden;padding: 0;position: absolute;width: 1px;}#sk-container-id-1 div.sk-estimator {font-family: monospace;background-color: #f0f8ff;border: 1px dotted black;border-radius: 0.25em;box-sizing: border-box;margin-bottom: 0.5em;}#sk-container-id-1 div.sk-estimator:hover {background-color: #d4ebff;}#sk-container-id-1 div.sk-parallel-item::after {content: \"\";width: 100%;border-bottom: 1px solid gray;flex-grow: 1;}#sk-container-id-1 div.sk-label:hover label.sk-toggleable__label {background-color: #d4ebff;}#sk-container-id-1 div.sk-serial::before {content: \"\";position: absolute;border-left: 1px solid gray;box-sizing: border-box;top: 0;bottom: 0;left: 50%;z-index: 0;}#sk-container-id-1 div.sk-serial {display: flex;flex-direction: column;align-items: center;background-color: white;padding-right: 0.2em;padding-left: 0.2em;position: relative;}#sk-container-id-1 div.sk-item {position: relative;z-index: 1;}#sk-container-id-1 div.sk-parallel {display: flex;align-items: stretch;justify-content: center;background-color: white;position: relative;}#sk-container-id-1 div.sk-item::before, #sk-container-id-1 div.sk-parallel-item::before {content: \"\";position: absolute;border-left: 1px solid gray;box-sizing: border-box;top: 0;bottom: 0;left: 50%;z-index: -1;}#sk-container-id-1 div.sk-parallel-item {display: flex;flex-direction: column;z-index: 1;position: relative;background-color: white;}#sk-container-id-1 div.sk-parallel-item:first-child::after {align-self: flex-end;width: 50%;}#sk-container-id-1 div.sk-parallel-item:last-child::after {align-self: flex-start;width: 50%;}#sk-container-id-1 div.sk-parallel-item:only-child::after {width: 0;}#sk-container-id-1 div.sk-dashed-wrapped {border: 1px dashed gray;margin: 0 0.4em 0.5em 0.4em;box-sizing: border-box;padding-bottom: 0.4em;background-color: white;}#sk-container-id-1 div.sk-label label {font-family: monospace;font-weight: bold;display: inline-block;line-height: 1.2em;}#sk-container-id-1 div.sk-label-container {text-align: center;}#sk-container-id-1 div.sk-container {/* jupyter's `normalize.less` sets `[hidden] { display: none; }` but bootstrap.min.css set `[hidden] { display: none !important; }` so we also need the `!important` here to be able to override the default hidden behavior on the sphinx rendered scikit-learn.org. See: https://github.com/scikit-learn/scikit-learn/issues/21755 */display: inline-block !important;position: relative;}#sk-container-id-1 div.sk-text-repr-fallback {display: none;}</style><div id=\"sk-container-id-1\" class=\"sk-top-container\"><div class=\"sk-text-repr-fallback\"><pre>RandomForestClassifier(random_state=2023)</pre><b>In a Jupyter environment, please rerun this cell to show the HTML representation or trust the notebook. <br />On GitHub, the HTML representation is unable to render, please try loading this page with nbviewer.org.</b></div><div class=\"sk-container\" hidden><div class=\"sk-item\"><div class=\"sk-estimator sk-toggleable\"><input class=\"sk-toggleable__control sk-hidden--visually\" id=\"sk-estimator-id-1\" type=\"checkbox\" checked><label for=\"sk-estimator-id-1\" class=\"sk-toggleable__label sk-toggleable__label-arrow\">RandomForestClassifier</label><div class=\"sk-toggleable__content\"><pre>RandomForestClassifier(random_state=2023)</pre></div></div></div></div></div>"
      ],
      "text/plain": [
       "RandomForestClassifier(random_state=2023)"
      ]
     },
     "execution_count": 19,
     "metadata": {},
     "output_type": "execute_result"
    }
   ],
   "source": [
    "# 랜덤포레스트 모델 사용\n",
    "from sklearn.ensemble import RandomForestClassifier\n",
    "model  = RandomForestClassifier(random_state=2023)\n",
    "model.fit(x_train, y_train)"
   ]
  },
  {
   "cell_type": "code",
   "execution_count": 20,
   "metadata": {},
   "outputs": [],
   "source": [
    "# 모델을 사용하여 테스트 데이터 예측\n",
    "y_pred = model.predict(x_val)"
   ]
  },
  {
   "cell_type": "code",
   "execution_count": 21,
   "metadata": {},
   "outputs": [],
   "source": [
    "# 모델 성능 평가 (정확도, F1 score, 민감도, 특이도 등)\n",
    "from sklearn.metrics import accuracy_score, f1_score, roc_auc_score, recall_score\n",
    "acc = accuracy_score(y_val, y_pred) # (실제값, 예측값)\n",
    "f1 = f1_score(y_val, y_pred)\n",
    "auc = roc_auc_score(y_val, y_pred)"
   ]
  },
  {
   "cell_type": "code",
   "execution_count": 22,
   "metadata": {},
   "outputs": [
    {
     "name": "stdout",
     "output_type": "stream",
     "text": [
      "0.8531468531468531\n",
      "0.8108108108108109\n",
      "0.8465909090909092\n"
     ]
    }
   ],
   "source": [
    "print(acc) # 정확도\n",
    "print(f1) # f1 score\n",
    "print(auc) # AUC"
   ]
  },
  {
   "cell_type": "code",
   "execution_count": 23,
   "metadata": {},
   "outputs": [
    {
     "name": "stdout",
     "output_type": "stream",
     "text": [
      "[[77 11]\n",
      " [10 45]]\n"
     ]
    }
   ],
   "source": [
    "# 참고사항 : 혼동행렬\n",
    "from sklearn.metrics import confusion_matrix\n",
    "cm = confusion_matrix(y_val, y_pred)\n",
    "print(cm)"
   ]
  },
  {
   "cell_type": "markdown",
   "metadata": {},
   "source": [
    "실제 test셋으로 성능평가를 한다면?"
   ]
  },
  {
   "cell_type": "code",
   "execution_count": 27,
   "metadata": {},
   "outputs": [],
   "source": [
    "# 모델을 사용하여 테스트 데이터 예측\n",
    "y_pred_f = model.predict(x_test)\n",
    "\n",
    "# 모델 성능 평가 (정확도, F1 score, 민감도, 특이도 등)\n",
    "from sklearn.metrics import accuracy_score, f1_score, roc_auc_score, recall_score\n",
    "acc_f = accuracy_score(y_test, y_pred_f) # (실제값, 예측값)\n",
    "f1_f = f1_score(y_test, y_pred_f)\n",
    "auc_f = roc_auc_score(y_test, y_pred_f)"
   ]
  },
  {
   "cell_type": "code",
   "execution_count": 28,
   "metadata": {},
   "outputs": [
    {
     "name": "stdout",
     "output_type": "stream",
     "text": [
      "0.7821229050279329\n",
      "0.7153284671532847\n",
      "0.7687088274044797\n"
     ]
    }
   ],
   "source": [
    "print(acc_f)\n",
    "print(f1_f)\n",
    "print(auc_f)"
   ]
  },
  {
   "cell_type": "markdown",
   "metadata": {},
   "source": [
    "Advanced 버전 (hyperparameter 최적화)\n",
    "\n",
    "주의. 가능하면 실행시간을 30초 미만으로 할 것"
   ]
  },
  {
   "cell_type": "code",
   "execution_count": 29,
   "metadata": {},
   "outputs": [
    {
     "name": "stdout",
     "output_type": "stream",
     "text": [
      "최적 하이퍼파라미터:  {'max_depth': 10, 'min_samples_leaf': 3, 'n_estimators': 70}\n",
      "Best 예측정확도:  0.8427034428794992\n"
     ]
    }
   ],
   "source": [
    "# GridSearch CV를 활용한 하이퍼파라미터 최적화\n",
    "# GridSearch : 격자탐색\n",
    "# CV : 교차검증(crossvalidation)\n",
    "\n",
    "# (주의) 별도로 train/val 분리가 필요하지 않음\n",
    "from sklearn.model_selection import GridSearchCV\n",
    "from sklearn.ensemble import RandomForestClassifier\n",
    "\n",
    "rf_params = {'n_estimators' : [30, 70, 100],\n",
    "             'max_depth' : [6, 8, 10],\n",
    "             'min_samples_leaf' : [1, 2, 3]\n",
    "             }\n",
    "# n_estimators : tree의 개수\n",
    "# max_depth : tree의 최대 깊이\n",
    "# min_samples_leaf : leaf node(더 이상 분할되지 않는 마지막 노드)가 되기 위해 필요한 최소 샘플 수\n",
    "# (이 값보다 작은 수의 샘플이 해당 노드에 있을 경우, 더 이상 분할하지 않음)\n",
    "\n",
    "# RandomForestClassifier 객체 생성 후 GridSearchCV 수행\n",
    "rf = RandomForestClassifier(random_state = 2023)\n",
    "grid_rf = GridSearchCV(rf, param_grid = rf_params, cv = 10)\n",
    "grid_rf.fit(x_train_ad, y_train_ad['target'])\n",
    "# y값 입력 시 주의 (1차원 형태로 들어가야 함)\n",
    "\n",
    "print('최적 하이퍼파라미터: ', grid_rf.best_params_)\n",
    "print('Best 예측정확도: ', grid_rf.best_score_)"
   ]
  },
  {
   "cell_type": "code",
   "execution_count": 30,
   "metadata": {},
   "outputs": [],
   "source": [
    "# (참고) help 함수를 통한 함수 사용법 확인\n",
    "\n",
    "# from sklearn.model_selection import GridSearchCV\n",
    "# help(GridSearchCV)\n",
    "\n",
    "# from sklearn.ensemble import RandomForestClassifier\n",
    "# help(RandomForestClassifier)"
   ]
  },
  {
   "cell_type": "code",
   "execution_count": 33,
   "metadata": {},
   "outputs": [
    {
     "data": {
      "text/html": [
       "<style>#sk-container-id-2 {color: black;}#sk-container-id-2 pre{padding: 0;}#sk-container-id-2 div.sk-toggleable {background-color: white;}#sk-container-id-2 label.sk-toggleable__label {cursor: pointer;display: block;width: 100%;margin-bottom: 0;padding: 0.3em;box-sizing: border-box;text-align: center;}#sk-container-id-2 label.sk-toggleable__label-arrow:before {content: \"▸\";float: left;margin-right: 0.25em;color: #696969;}#sk-container-id-2 label.sk-toggleable__label-arrow:hover:before {color: black;}#sk-container-id-2 div.sk-estimator:hover label.sk-toggleable__label-arrow:before {color: black;}#sk-container-id-2 div.sk-toggleable__content {max-height: 0;max-width: 0;overflow: hidden;text-align: left;background-color: #f0f8ff;}#sk-container-id-2 div.sk-toggleable__content pre {margin: 0.2em;color: black;border-radius: 0.25em;background-color: #f0f8ff;}#sk-container-id-2 input.sk-toggleable__control:checked~div.sk-toggleable__content {max-height: 200px;max-width: 100%;overflow: auto;}#sk-container-id-2 input.sk-toggleable__control:checked~label.sk-toggleable__label-arrow:before {content: \"▾\";}#sk-container-id-2 div.sk-estimator input.sk-toggleable__control:checked~label.sk-toggleable__label {background-color: #d4ebff;}#sk-container-id-2 div.sk-label input.sk-toggleable__control:checked~label.sk-toggleable__label {background-color: #d4ebff;}#sk-container-id-2 input.sk-hidden--visually {border: 0;clip: rect(1px 1px 1px 1px);clip: rect(1px, 1px, 1px, 1px);height: 1px;margin: -1px;overflow: hidden;padding: 0;position: absolute;width: 1px;}#sk-container-id-2 div.sk-estimator {font-family: monospace;background-color: #f0f8ff;border: 1px dotted black;border-radius: 0.25em;box-sizing: border-box;margin-bottom: 0.5em;}#sk-container-id-2 div.sk-estimator:hover {background-color: #d4ebff;}#sk-container-id-2 div.sk-parallel-item::after {content: \"\";width: 100%;border-bottom: 1px solid gray;flex-grow: 1;}#sk-container-id-2 div.sk-label:hover label.sk-toggleable__label {background-color: #d4ebff;}#sk-container-id-2 div.sk-serial::before {content: \"\";position: absolute;border-left: 1px solid gray;box-sizing: border-box;top: 0;bottom: 0;left: 50%;z-index: 0;}#sk-container-id-2 div.sk-serial {display: flex;flex-direction: column;align-items: center;background-color: white;padding-right: 0.2em;padding-left: 0.2em;position: relative;}#sk-container-id-2 div.sk-item {position: relative;z-index: 1;}#sk-container-id-2 div.sk-parallel {display: flex;align-items: stretch;justify-content: center;background-color: white;position: relative;}#sk-container-id-2 div.sk-item::before, #sk-container-id-2 div.sk-parallel-item::before {content: \"\";position: absolute;border-left: 1px solid gray;box-sizing: border-box;top: 0;bottom: 0;left: 50%;z-index: -1;}#sk-container-id-2 div.sk-parallel-item {display: flex;flex-direction: column;z-index: 1;position: relative;background-color: white;}#sk-container-id-2 div.sk-parallel-item:first-child::after {align-self: flex-end;width: 50%;}#sk-container-id-2 div.sk-parallel-item:last-child::after {align-self: flex-start;width: 50%;}#sk-container-id-2 div.sk-parallel-item:only-child::after {width: 0;}#sk-container-id-2 div.sk-dashed-wrapped {border: 1px dashed gray;margin: 0 0.4em 0.5em 0.4em;box-sizing: border-box;padding-bottom: 0.4em;background-color: white;}#sk-container-id-2 div.sk-label label {font-family: monospace;font-weight: bold;display: inline-block;line-height: 1.2em;}#sk-container-id-2 div.sk-label-container {text-align: center;}#sk-container-id-2 div.sk-container {/* jupyter's `normalize.less` sets `[hidden] { display: none; }` but bootstrap.min.css set `[hidden] { display: none !important; }` so we also need the `!important` here to be able to override the default hidden behavior on the sphinx rendered scikit-learn.org. See: https://github.com/scikit-learn/scikit-learn/issues/21755 */display: inline-block !important;position: relative;}#sk-container-id-2 div.sk-text-repr-fallback {display: none;}</style><div id=\"sk-container-id-2\" class=\"sk-top-container\"><div class=\"sk-text-repr-fallback\"><pre>RandomForestClassifier(max_depth=10, min_samples_leaf=3, n_estimators=70,\n",
       "                       random_state=2023)</pre><b>In a Jupyter environment, please rerun this cell to show the HTML representation or trust the notebook. <br />On GitHub, the HTML representation is unable to render, please try loading this page with nbviewer.org.</b></div><div class=\"sk-container\" hidden><div class=\"sk-item\"><div class=\"sk-estimator sk-toggleable\"><input class=\"sk-toggleable__control sk-hidden--visually\" id=\"sk-estimator-id-2\" type=\"checkbox\" checked><label for=\"sk-estimator-id-2\" class=\"sk-toggleable__label sk-toggleable__label-arrow\">RandomForestClassifier</label><div class=\"sk-toggleable__content\"><pre>RandomForestClassifier(max_depth=10, min_samples_leaf=3, n_estimators=70,\n",
       "                       random_state=2023)</pre></div></div></div></div></div>"
      ],
      "text/plain": [
       "RandomForestClassifier(max_depth=10, min_samples_leaf=3, n_estimators=70,\n",
       "                       random_state=2023)"
      ]
     },
     "execution_count": 33,
     "metadata": {},
     "output_type": "execute_result"
    }
   ],
   "source": [
    "# 위의 최적 하이퍼파라미터로 랜덤포레스트 모델 생성\n",
    "from sklearn.ensemble import RandomForestClassifier\n",
    "model_h = RandomForestClassifier(n_estimators = 70, \n",
    "                                 max_depth = 10, \n",
    "                                 min_samples_leaf = 3, \n",
    "                                 random_state = 2023)\n",
    "model_h.fit(x_train_ad, y_train_ad['target']) # y 데이터 입력시 주의"
   ]
  },
  {
   "cell_type": "code",
   "execution_count": 34,
   "metadata": {},
   "outputs": [
    {
     "name": "stdout",
     "output_type": "stream",
     "text": [
      "HP 최적화 Acc: 0.7988826815642458\n",
      "HP 최적화 f1: 0.7272727272727272\n",
      "HP 최적화 AUC: 0.7796442687747035\n",
      "기본모델 Acc: 0.7821229050279329\n",
      "기본모델 f1: 0.7153284671532847\n",
      "기본모델 AUC: 0.7687088274044797\n"
     ]
    }
   ],
   "source": [
    "# 모델 성능 평가 (정확도, F1 score, AUC)\n",
    "from sklearn.metrics import accuracy_score, f1_score, roc_auc_score\n",
    "\n",
    "# test 데이터셋으로 성능평가\n",
    "y_pred_h = model_h.predict(x_test)\n",
    "\n",
    "acc_h = accuracy_score(y_test, y_pred_h) # (실제값, 예측값)\n",
    "f1_h = f1_score(y_test, y_pred_h)\n",
    "auc_h = roc_auc_score(y_test, y_pred_h)\n",
    "\n",
    "print('HP 최적화 Acc:', acc_h)\n",
    "print('HP 최적화 f1:', f1_h)\n",
    "print('HP 최적화 AUC:', auc_h)\n",
    "# HP: hyperparameter\n",
    "\n",
    "print('기본모델 Acc:', acc_f)\n",
    "print('기본모델 f1:', f1_f)\n",
    "print('기본모델 AUC:', auc_f)"
   ]
  },
  {
   "cell_type": "markdown",
   "metadata": {},
   "source": [
    "### 5. 예측값 제출"
   ]
  },
  {
   "cell_type": "code",
   "execution_count": 35,
   "metadata": {},
   "outputs": [
    {
     "name": "stdout",
     "output_type": "stream",
     "text": [
      "[1 1 0 0 0]\n",
      "[[0.32 0.68]\n",
      " [0.24 0.76]\n",
      " [1.   0.  ]\n",
      " [0.93 0.07]\n",
      " [0.93 0.07]]\n",
      "   result  prob_0\n",
      "0       1    0.32\n",
      "1       1    0.24\n",
      "2       0    1.00\n",
      "3       0    0.93\n",
      "4       0    0.93\n"
     ]
    }
   ],
   "source": [
    "# (실기시험 안내사항)\n",
    "# 아래 코드 예측변수와 수험번호를 개인별로 변경하여 활용\n",
    "# pd.DataFrame({'result': y_result}).to_csv('수험번호.csv', index=False)\n",
    "\n",
    "# 모델을 사용하여 테스트 데이터 예측\n",
    "y_result = model.predict(x_test)\n",
    "\n",
    "# 1. 특정 클래스로 분류할 경우 (predict)\n",
    "y_result = model.predict(x_test)\n",
    "print(y_result[:5])\n",
    "\n",
    "# 2. 특정 클래스로 분류될 확률을 구할 경우 (predict_proba)\n",
    "y_result_prob = model.predict_proba(x_test)\n",
    "print(y_result_prob[:5])\n",
    "\n",
    "# 이해해보기\n",
    "result_prob = pd.DataFrame({\n",
    "    'result': y_result,\n",
    "    'prob_0': y_result_prob[:,0]\n",
    "})\n",
    "\n",
    "print(result_prob[:5])"
   ]
  },
  {
   "cell_type": "code",
   "execution_count": 36,
   "metadata": {},
   "outputs": [
    {
     "name": "stdout",
     "output_type": "stream",
     "text": [
      "   result\n",
      "0       1\n",
      "1       1\n",
      "2       0\n",
      "3       0\n",
      "4       0\n"
     ]
    }
   ],
   "source": [
    "# tip : 데이터를 저장한다음 불러와서 제대로 제출했는지 확인해보자\n",
    "# pd.DataFrame({'result': y_result}).to_csv('수험번호.csv', index=False)\n",
    "# df2 = pd.read_csv(\"수험번호.csv\")\n",
    "# print(df2.head())"
   ]
  },
  {
   "cell_type": "code",
   "execution_count": null,
   "metadata": {},
   "outputs": [],
   "source": []
  }
 ],
 "metadata": {
  "kernelspec": {
   "display_name": "venv",
   "language": "python",
   "name": "python3"
  },
  "language_info": {
   "codemirror_mode": {
    "name": "ipython",
    "version": 3
   },
   "file_extension": ".py",
   "mimetype": "text/x-python",
   "name": "python",
   "nbconvert_exporter": "python",
   "pygments_lexer": "ipython3",
   "version": "3.9.12"
  }
 },
 "nbformat": 4,
 "nbformat_minor": 2
}
