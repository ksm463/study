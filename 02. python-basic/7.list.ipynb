{
 "cells": [
  {
   "cell_type": "code",
   "execution_count": 1,
   "metadata": {},
   "outputs": [
    {
     "name": "stdout",
     "output_type": "stream",
     "text": [
      "[1, 2, 3, 4]\n"
     ]
    }
   ],
   "source": [
    "'''리스트'''\n",
    "\n",
    "a = [1,2,3,4]\n",
    "print(a)"
   ]
  },
  {
   "cell_type": "code",
   "execution_count": 2,
   "metadata": {},
   "outputs": [
    {
     "name": "stdout",
     "output_type": "stream",
     "text": [
      "['1', True, 12, 1.5]\n"
     ]
    }
   ],
   "source": [
    "# 원소 타입에 관계없이 출력 가능하다.\n",
    "b = ['1', True, 12, 1.5]\n",
    "print(b)"
   ]
  },
  {
   "cell_type": "code",
   "execution_count": 3,
   "metadata": {},
   "outputs": [
    {
     "name": "stdout",
     "output_type": "stream",
     "text": [
      "3\n"
     ]
    }
   ],
   "source": [
    "# 원소별로 접근 가능하다. 0부터 시작함\n",
    "print(a[2])"
   ]
  },
  {
   "cell_type": "code",
   "execution_count": 4,
   "metadata": {},
   "outputs": [
    {
     "name": "stdout",
     "output_type": "stream",
     "text": [
      "new\n",
      "['new', 2, 3, 4]\n"
     ]
    }
   ],
   "source": [
    "# 특정 원소를 변경할 수 있음\n",
    "a[0] = 'new'\n",
    "print(a[0])\n",
    "print(a)"
   ]
  },
  {
   "cell_type": "code",
   "execution_count": 5,
   "metadata": {},
   "outputs": [
    {
     "name": "stdout",
     "output_type": "stream",
     "text": [
      "['new', 2, 3, 4, 5]\n"
     ]
    }
   ],
   "source": [
    "# 원소를 추가할 수 있음\n",
    "a.append(5)\n",
    "print(a)"
   ]
  },
  {
   "cell_type": "code",
   "execution_count": 6,
   "metadata": {},
   "outputs": [
    {
     "name": "stdout",
     "output_type": "stream",
     "text": [
      "['new', 2, '인서트', 3, 4, 5]\n"
     ]
    }
   ],
   "source": [
    "# 중간에 원소를 추가할 수도 있음\n",
    "a.insert(2, '인서트')\n",
    "print(a)"
   ]
  },
  {
   "cell_type": "code",
   "execution_count": 7,
   "metadata": {},
   "outputs": [
    {
     "name": "stdout",
     "output_type": "stream",
     "text": [
      "5\n",
      "['new', 2, '인서트', 3, 4]\n"
     ]
    }
   ],
   "source": [
    "# 맨 마지막에 더한 원소를 빼줌\n",
    "print(a.pop())\n",
    "print(a)"
   ]
  },
  {
   "cell_type": "code",
   "execution_count": 8,
   "metadata": {},
   "outputs": [
    {
     "name": "stdout",
     "output_type": "stream",
     "text": [
      "인서트\n",
      "['new', 2, 3, 4]\n"
     ]
    }
   ],
   "source": [
    "# 중간 원소를 빼줄 수 있음\n",
    "print(a.pop(2))\n",
    "print(a)"
   ]
  },
  {
   "cell_type": "code",
   "execution_count": 9,
   "metadata": {},
   "outputs": [
    {
     "name": "stdout",
     "output_type": "stream",
     "text": [
      "[2, 3, 4]\n"
     ]
    }
   ],
   "source": [
    "# 특정 원소를 지울 수 있음\n",
    "# del이 이 역할이지만 보통 pop을 사용\n",
    "del a[0]\n",
    "print(a)"
   ]
  },
  {
   "cell_type": "code",
   "execution_count": 10,
   "metadata": {},
   "outputs": [
    {
     "name": "stdout",
     "output_type": "stream",
     "text": [
      "4\n",
      "0\n"
     ]
    }
   ],
   "source": [
    "'''배열 인덱싱'''\n",
    "\n",
    "b = [0,1,2,3,4]\n",
    "print(b[len(b)-1])\n",
    "print(b[-5])"
   ]
  },
  {
   "cell_type": "code",
   "execution_count": 16,
   "metadata": {},
   "outputs": [
    {
     "name": "stdout",
     "output_type": "stream",
     "text": [
      "[3, 4, 5, 6]\n",
      "[1, 2, 3, 4, 5, 6]\n",
      "7\n",
      "[2, 4, 6, 8, 10]\n",
      "[1, 3, 5, 7]\n",
      "[1, 2, 3, 4, 5, 6, 7, 8, 9]\n",
      "[10, 9, 8, 7, 6, 5, 4, 3, 2, 1]\n"
     ]
    }
   ],
   "source": [
    "'''배열 슬라이싱'''\n",
    "a = [1,2,3,4,5,6,7,8,9,10]\n",
    "\n",
    "print(a[2:6]) # 시작은 원하는 원소, 끝은 원하는 원소보다 하나 더 지정\n",
    "print(a[:6])\n",
    "print(a[6])\n",
    "# 홀수 원소만\n",
    "print(a[1::2]) # 2번째 원소부터 2칸 간격으로 가져오겠다\n",
    "print(a[0:8:2]) # 1번째부터 9번째까지 2칸 간격\n",
    "\n",
    "print(a[0:-1]) # 처음부터 마지막까지\n",
    "\n",
    "print(a[::-1]) # 역순으로 가져오기"
   ]
  },
  {
   "cell_type": "code",
   "execution_count": 19,
   "metadata": {},
   "outputs": [
    {
     "name": "stdout",
     "output_type": "stream",
     "text": [
      "[0, 1, 2, 3]\n",
      "[0, 1, 2, 3, 'last']\n",
      "[0, 1, 2, 3, 'last']\n",
      "[0, 1, 2, 3]\n",
      "[0, 1, 2, 3, 'last']\n",
      "[0, 1, 2, 3]\n"
     ]
    }
   ],
   "source": [
    "'''리스트 얕은 복사'''\n",
    "# 보통 메모리 주소를 복사하기 때문에 얕은 복사로는 연동되게 된다.\n",
    "\n",
    "a = [0,1,2,3]\n",
    "b = a\n",
    "print(b)\n",
    "b.append('last')\n",
    "print(b)\n",
    "print(a)\n",
    "\n",
    "# 지정해서 복사 분리\n",
    "a = [0,1,2,3]\n",
    "b = a[:]\n",
    "print(b)\n",
    "b.append('last')\n",
    "print(b)\n",
    "print(a)"
   ]
  },
  {
   "cell_type": "code",
   "execution_count": 21,
   "metadata": {},
   "outputs": [
    {
     "name": "stdout",
     "output_type": "stream",
     "text": [
      "7\n",
      "4\n"
     ]
    }
   ],
   "source": [
    "'''다차원 리스트'''\n",
    "\n",
    "lst = [[1, 2, 3], [4, 5, 6], [7, 8, 9]]\n",
    "print(lst[2][0])\n",
    "\n",
    "lst3 = [[[1, 2, 3], [4, 5, 6], [7, 8, 9]], [[1, 2, 3], [4, 5, 6], [7, 8, 9]]]\n",
    "print(lst3[1][1][0])"
   ]
  },
  {
   "cell_type": "code",
   "execution_count": 22,
   "metadata": {},
   "outputs": [
    {
     "name": "stdout",
     "output_type": "stream",
     "text": [
      "[1, 2, 3, 1, 2, 3, 1, 2, 3]\n",
      "[1, 2, 3, 4, 5]\n"
     ]
    }
   ],
   "source": [
    "'''리스트 연산'''\n",
    "\n",
    "print([1, 2, 3] * 3)\n",
    "print([1, 2, 3] + [4, 5])"
   ]
  }
 ],
 "metadata": {
  "kernelspec": {
   "display_name": "venv",
   "language": "python",
   "name": "python3"
  },
  "language_info": {
   "codemirror_mode": {
    "name": "ipython",
    "version": 3
   },
   "file_extension": ".py",
   "mimetype": "text/x-python",
   "name": "python",
   "nbconvert_exporter": "python",
   "pygments_lexer": "ipython3",
   "version": "3.9.12"
  }
 },
 "nbformat": 4,
 "nbformat_minor": 2
}
