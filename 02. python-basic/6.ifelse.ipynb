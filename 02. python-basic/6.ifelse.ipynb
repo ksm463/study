{
 "cells": [
  {
   "cell_type": "code",
   "execution_count": 3,
   "metadata": {},
   "outputs": [
    {
     "name": "stdout",
     "output_type": "stream",
     "text": [
      "아래\n"
     ]
    }
   ],
   "source": [
    "'''조건문'''\n",
    "\n",
    "A = '발'\n",
    "if A == '손':\n",
    "    print('위')\n",
    "elif A == '발':\n",
    "    print('아래')\n",
    "else:\n",
    "    print('모름')"
   ]
  },
  {
   "cell_type": "code",
   "execution_count": 4,
   "metadata": {},
   "outputs": [
    {
     "name": "stdout",
     "output_type": "stream",
     "text": [
      "일반인\n"
     ]
    }
   ],
   "source": [
    "성적 = 3.0\n",
    "\n",
    "if 성적 >= 4.2:\n",
    "    print('과탐')\n",
    "elif 성적 >= 3.7:\n",
    "    print('장학금')\n",
    "elif 성적 >= 2.7:\n",
    "    print('일반인')\n",
    "else:\n",
    "    print('혁명가')"
   ]
  },
  {
   "cell_type": "code",
   "execution_count": 5,
   "metadata": {},
   "outputs": [
    {
     "name": "stdout",
     "output_type": "stream",
     "text": [
      "1\n",
      "1\n"
     ]
    }
   ],
   "source": [
    "'''변수'''\n",
    "\n",
    "if True:\n",
    "    print('1')\n",
    "\n",
    "if 3:\n",
    "    print('1')\n",
    "\n",
    "if 0:\n",
    "    print('1')"
   ]
  },
  {
   "cell_type": "code",
   "execution_count": 7,
   "metadata": {},
   "outputs": [
    {
     "name": "stdout",
     "output_type": "stream",
     "text": [
      "0 아님\n"
     ]
    }
   ],
   "source": [
    "a = 0\n",
    "if not a:\n",
    "    print('0 아님')\n",
    "    \n",
    "b = ''\n",
    "if b:\n",
    "    print('출력 됨?') # 빈 경우는 False로 평가됨. 문자가 있으면 True\n",
    "\n",
    "if 0.0:\n",
    "    print('0.0도 숫자임')"
   ]
  }
 ],
 "metadata": {
  "kernelspec": {
   "display_name": "venv",
   "language": "python",
   "name": "python3"
  },
  "language_info": {
   "codemirror_mode": {
    "name": "ipython",
    "version": 3
   },
   "file_extension": ".py",
   "mimetype": "text/x-python",
   "name": "python",
   "nbconvert_exporter": "python",
   "pygments_lexer": "ipython3",
   "version": "3.9.12"
  }
 },
 "nbformat": 4,
 "nbformat_minor": 2
}
