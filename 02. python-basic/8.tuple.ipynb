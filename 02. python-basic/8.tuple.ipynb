{
 "cells": [
  {
   "cell_type": "code",
   "execution_count": 3,
   "metadata": {},
   "outputs": [
    {
     "name": "stdout",
     "output_type": "stream",
     "text": [
      "(0, 1, 2, 3, 4, 5)\n",
      "(1, 2)\n",
      "0\n"
     ]
    },
    {
     "ename": "TypeError",
     "evalue": "'tuple' object does not support item assignment",
     "output_type": "error",
     "traceback": [
      "\u001b[1;31m---------------------------------------------------------------------------\u001b[0m",
      "\u001b[1;31mTypeError\u001b[0m                                 Traceback (most recent call last)",
      "\u001b[1;32mc:\\workspace\\python-basic\\8.tuple.ipynb 셀 1\u001b[0m line \u001b[0;36m8\n\u001b[0;32m      <a href='vscode-notebook-cell:/c%3A/workspace/python-basic/8.tuple.ipynb#W0sZmlsZQ%3D%3D?line=4'>5</a>\u001b[0m \u001b[39mprint\u001b[39m((\u001b[39m1\u001b[39m, \u001b[39m2\u001b[39m))\n\u001b[0;32m      <a href='vscode-notebook-cell:/c%3A/workspace/python-basic/8.tuple.ipynb#W0sZmlsZQ%3D%3D?line=6'>7</a>\u001b[0m \u001b[39mprint\u001b[39m(a[\u001b[39m0\u001b[39m])\n\u001b[1;32m----> <a href='vscode-notebook-cell:/c%3A/workspace/python-basic/8.tuple.ipynb#W0sZmlsZQ%3D%3D?line=7'>8</a>\u001b[0m a[\u001b[39m0\u001b[39;49m] \u001b[39m=\u001b[39m \u001b[39m1\u001b[39m\n",
      "\u001b[1;31mTypeError\u001b[0m: 'tuple' object does not support item assignment"
     ]
    }
   ],
   "source": [
    "'''튜플'''\n",
    "# 리스트와 달리 불변을 가정하고 만든다.\n",
    "# 속도에서 이득을 볼 수 있는 경우가 있음\n",
    "\n",
    "a = (0, 1, 2, 3, 4, 5)\n",
    "print(a)\n",
    "print((1, 2))\n",
    "\n",
    "print(a[0])\n",
    "a[0] = 1"
   ]
  },
  {
   "cell_type": "code",
   "execution_count": 4,
   "metadata": {},
   "outputs": [
    {
     "name": "stdout",
     "output_type": "stream",
     "text": [
      "([1, 2, 3], [3, 4, 5])\n",
      "(['first', 2, 3], [3, 4, 5])\n"
     ]
    }
   ],
   "source": [
    "'''튜플과 리스트'''\n",
    "# 튜플 자체는 변경할 수 없지만 내부 원소는 변경할 수 있다.\n",
    "\n",
    "b = ([1, 2, 3], [3, 4, 5])\n",
    "print(b)\n",
    "b[0][0] = 'first'\n",
    "print(b)"
   ]
  }
 ],
 "metadata": {
  "kernelspec": {
   "display_name": "venv",
   "language": "python",
   "name": "python3"
  },
  "language_info": {
   "codemirror_mode": {
    "name": "ipython",
    "version": 3
   },
   "file_extension": ".py",
   "mimetype": "text/x-python",
   "name": "python",
   "nbconvert_exporter": "python",
   "pygments_lexer": "ipython3",
   "version": "3.9.12"
  }
 },
 "nbformat": 4,
 "nbformat_minor": 2
}
