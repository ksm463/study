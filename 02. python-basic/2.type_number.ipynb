{
 "cells": [
  {
   "cell_type": "code",
   "execution_count": 1,
   "metadata": {},
   "outputs": [
    {
     "name": "stdout",
     "output_type": "stream",
     "text": [
      "<class 'int'> <class 'float'>\n"
     ]
    }
   ],
   "source": [
    "print(type(1), type(1.5))"
   ]
  },
  {
   "cell_type": "code",
   "execution_count": 4,
   "metadata": {},
   "outputs": [
    {
     "name": "stdout",
     "output_type": "stream",
     "text": [
      "3\n",
      "-1\n",
      "2\n",
      "9.9\n",
      "9\n",
      "-10\n",
      "<class 'float'>\n",
      "<class 'int'>\n",
      "<class 'int'>\n",
      "9\n",
      "0\n",
      "1\n",
      "25\n"
     ]
    }
   ],
   "source": [
    "'''\n",
    "(1) +\n",
    "(2) -\n",
    "(3) *\n",
    "(4) /\n",
    "(5) //\n",
    "(6) %\n",
    "(7) **\n",
    "'''\n",
    "\n",
    "print(1 + 2)\n",
    "print(1 - 2)\n",
    "print(1 * 2)\n",
    "print(99 / 10)\n",
    "print(99 // 10)\n",
    "print(-99 // 10) \n",
    "# 소수점 아래를 버린다기 보다는 \n",
    "# 나눈 값보다 작은 정수 중에서 가장 큰 수를 출력한다고 보면 됨\n",
    "print(type(99 / 10))\n",
    "print(type(99 // 10))\n",
    "print(type(-99 // 10))\n",
    "print(99 % 10)\n",
    "print(6 % 2)\n",
    "print(-99 % 10)\n",
    "print(5 ** 2)"
   ]
  },
  {
   "cell_type": "code",
   "execution_count": 5,
   "metadata": {},
   "outputs": [
    {
     "name": "stdout",
     "output_type": "stream",
     "text": [
      "7\n",
      "18\n"
     ]
    }
   ],
   "source": [
    "'''우선순위'''\n",
    "'''** > *,/,// > +,-'''\n",
    "\n",
    "print(1 + 3 * 2)\n",
    "print(2 * 3 ** 2)"
   ]
  }
 ],
 "metadata": {
  "kernelspec": {
   "display_name": "venv",
   "language": "python",
   "name": "python3"
  },
  "language_info": {
   "codemirror_mode": {
    "name": "ipython",
    "version": 3
   },
   "file_extension": ".py",
   "mimetype": "text/x-python",
   "name": "python",
   "nbconvert_exporter": "python",
   "pygments_lexer": "ipython3",
   "version": "3.9.12"
  }
 },
 "nbformat": 4,
 "nbformat_minor": 2
}
