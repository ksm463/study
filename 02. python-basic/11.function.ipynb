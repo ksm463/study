{
 "cells": [
  {
   "cell_type": "code",
   "execution_count": 2,
   "metadata": {},
   "outputs": [
    {
     "name": "stdout",
     "output_type": "stream",
     "text": [
      "4\n",
      "None\n"
     ]
    }
   ],
   "source": [
    "'''함수'''\n",
    "# 복잡한 수식을 연산할 수 있도록 만들 수 있다.\n",
    "# 변수가 들어갈 위치를 잘 지정해줘야 한다.\n",
    "# 기본값이 있는 변수는 뒤에 지정해준다.\n",
    "\n",
    "def f(x, y = 0, z = 0): \n",
    "    return x * x + y + 1\n",
    "\n",
    "a = 1\n",
    "b = 2\n",
    "c = 3\n",
    "\n",
    "print(f(1, 2))\n",
    "\n",
    "# 출력할 게 없으면 None을 출력함.\n",
    "def f():\n",
    "    pass\n",
    "print(f())\n"
   ]
  }
 ],
 "metadata": {
  "kernelspec": {
   "display_name": "venv",
   "language": "python",
   "name": "python3"
  },
  "language_info": {
   "codemirror_mode": {
    "name": "ipython",
    "version": 3
   },
   "file_extension": ".py",
   "mimetype": "text/x-python",
   "name": "python",
   "nbconvert_exporter": "python",
   "pygments_lexer": "ipython3",
   "version": "3.9.12"
  }
 },
 "nbformat": 4,
 "nbformat_minor": 2
}
