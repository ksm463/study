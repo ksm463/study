{
 "cells": [
  {
   "cell_type": "markdown",
   "metadata": {},
   "source": [
    "## 제3 유형 모집단 1개(집단의 평균 vs 특정값)\n",
    "\n",
    "### 검정방법\n",
    "1) 정규성 O -> 단일표본 t검정(1sample t-test)\n",
    "2) 정규성 X -> 윌콕슨 부호순위 검정"
   ]
  },
  {
   "cell_type": "markdown",
   "metadata": {},
   "source": [
    "### 가설검정 순서(중요)\n",
    "1. 가설설정 : 귀무, 대립\n",
    "2. 유의수준 확인 : 보통 5%. \n",
    "3. 정규성 검정 : 현재 예시문제엔 없음\n",
    "4. 검정실시 : 통계량, p-value 확인. p-value가 유의수준보다 크면 귀무, 작으면 대립\n",
    "5. 귀무가설 채택/기각"
   ]
  },
  {
   "cell_type": "markdown",
   "metadata": {},
   "source": [
    "데이터 불러오기"
   ]
  },
  {
   "cell_type": "code",
   "execution_count": 1,
   "metadata": {},
   "outputs": [],
   "source": [
    "import pandas as pd\n",
    "import numpy as np"
   ]
  },
  {
   "cell_type": "code",
   "execution_count": 3,
   "metadata": {},
   "outputs": [
    {
     "data": {
      "text/html": [
       "<div>\n",
       "<style scoped>\n",
       "    .dataframe tbody tr th:only-of-type {\n",
       "        vertical-align: middle;\n",
       "    }\n",
       "\n",
       "    .dataframe tbody tr th {\n",
       "        vertical-align: top;\n",
       "    }\n",
       "\n",
       "    .dataframe thead th {\n",
       "        text-align: right;\n",
       "    }\n",
       "</style>\n",
       "<table border=\"1\" class=\"dataframe\">\n",
       "  <thead>\n",
       "    <tr style=\"text-align: right;\">\n",
       "      <th></th>\n",
       "      <th>car</th>\n",
       "      <th>mpg</th>\n",
       "      <th>cyl</th>\n",
       "      <th>disp</th>\n",
       "      <th>hp</th>\n",
       "      <th>drat</th>\n",
       "      <th>wt</th>\n",
       "      <th>qsec</th>\n",
       "      <th>vs</th>\n",
       "      <th>am</th>\n",
       "      <th>gear</th>\n",
       "      <th>carb</th>\n",
       "    </tr>\n",
       "  </thead>\n",
       "  <tbody>\n",
       "    <tr>\n",
       "      <th>0</th>\n",
       "      <td>Mazda RX4</td>\n",
       "      <td>21.0</td>\n",
       "      <td>6</td>\n",
       "      <td>160.0</td>\n",
       "      <td>110</td>\n",
       "      <td>3.90</td>\n",
       "      <td>2.620</td>\n",
       "      <td>16.46</td>\n",
       "      <td>0</td>\n",
       "      <td>1</td>\n",
       "      <td>4</td>\n",
       "      <td>4</td>\n",
       "    </tr>\n",
       "    <tr>\n",
       "      <th>1</th>\n",
       "      <td>Mazda RX4 Wag</td>\n",
       "      <td>21.0</td>\n",
       "      <td>6</td>\n",
       "      <td>160.0</td>\n",
       "      <td>110</td>\n",
       "      <td>3.90</td>\n",
       "      <td>2.875</td>\n",
       "      <td>17.02</td>\n",
       "      <td>0</td>\n",
       "      <td>1</td>\n",
       "      <td>4</td>\n",
       "      <td>4</td>\n",
       "    </tr>\n",
       "    <tr>\n",
       "      <th>2</th>\n",
       "      <td>Datsun 710</td>\n",
       "      <td>22.8</td>\n",
       "      <td>4</td>\n",
       "      <td>108.0</td>\n",
       "      <td>93</td>\n",
       "      <td>3.85</td>\n",
       "      <td>2.320</td>\n",
       "      <td>18.61</td>\n",
       "      <td>1</td>\n",
       "      <td>1</td>\n",
       "      <td>4</td>\n",
       "      <td>1</td>\n",
       "    </tr>\n",
       "  </tbody>\n",
       "</table>\n",
       "</div>"
      ],
      "text/plain": [
       "             car   mpg  cyl   disp   hp  drat     wt   qsec  vs  am  gear  \\\n",
       "0      Mazda RX4  21.0    6  160.0  110  3.90  2.620  16.46   0   1     4   \n",
       "1  Mazda RX4 Wag  21.0    6  160.0  110  3.90  2.875  17.02   0   1     4   \n",
       "2     Datsun 710  22.8    4  108.0   93  3.85  2.320  18.61   1   1     4   \n",
       "\n",
       "   carb  \n",
       "0     4  \n",
       "1     4  \n",
       "2     1  "
      ]
     },
     "execution_count": 3,
     "metadata": {},
     "output_type": "execute_result"
    }
   ],
   "source": [
    "df = pd.read_csv(\"mtcars.csv\")\n",
    "df.head(3)"
   ]
  },
  {
   "cell_type": "markdown",
   "metadata": {},
   "source": [
    "예제문제\n",
    "\n",
    "1. mtcars 데이터셋의 mpg 열 데이터의 평균이 20과 같다고 할 수 있는지 검정하시오 (유의수준5%)"
   ]
  },
  {
   "cell_type": "code",
   "execution_count": 4,
   "metadata": {},
   "outputs": [],
   "source": [
    "import scipy.stats as stats\n",
    "from scipy.stats import shapiro"
   ]
  },
  {
   "cell_type": "code",
   "execution_count": 5,
   "metadata": {},
   "outputs": [],
   "source": [
    "# 1. 가설설정\n",
    "# H0 : mpg 열의 평균이 20과 같다.\n",
    "# H1 : mpg 열의 평균이 20과 같지 않다."
   ]
  },
  {
   "cell_type": "code",
   "execution_count": 6,
   "metadata": {},
   "outputs": [],
   "source": [
    "# 2. 유의수준 확인 : 유의수준 5%로 확인"
   ]
  },
  {
   "cell_type": "code",
   "execution_count": 7,
   "metadata": {},
   "outputs": [
    {
     "name": "stdout",
     "output_type": "stream",
     "text": [
      "0.9476 0.1229\n",
      "ShapiroResult(statistic=0.9475648403167725, pvalue=0.1228824257850647)\n"
     ]
    }
   ],
   "source": [
    "# 3. 정규성 검정\n",
    "# 단일표본 t-test를 하라는 지시가 있으면 안 해도 된다.\n",
    "# H0(귀무가설) : 정규분포를 따른다.\n",
    "# H1(대립가설) : 정규분포를 따르지 않는다.\n",
    "statistic, pvalue = stats.shapiro(df['mpg'])\n",
    "print(round(statistic, 4), round(pvalue, 4))\n",
    "\n",
    "result = stats.shapiro(df['mpg'])\n",
    "print(result)"
   ]
  },
  {
   "cell_type": "markdown",
   "metadata": {},
   "source": [
    "* p-value 값이 유의수준(0.05)보다 크다. 0.1229\n",
    "-> 귀무가설 (H0) 채택\n",
    "* 만약 정규분포를 따르지 않는다면 비모수 검정방법을 써야 함(윌콕슨의 부호순위 검정)"
   ]
  },
  {
   "cell_type": "code",
   "execution_count": 8,
   "metadata": {},
   "outputs": [
    {
     "name": "stdout",
     "output_type": "stream",
     "text": [
      "0.0851 0.9328\n"
     ]
    }
   ],
   "source": [
    "# 4.1 (정규성만족 O) t-검정 실시\n",
    "statistic, pvalue = stats.ttest_1samp(df['mpg'], popmean=20, alternative='two-sided') \n",
    "print(round(statistic,4), round(pvalue, 4))\n",
    "# popmean : 평균이 얼마라고 할 것인가. 여기선 20\n",
    "# alternative (대립가설 H1) 옵션 : 'two-sided' : 양측검정(default), 'greater', 'less'"
   ]
  },
  {
   "cell_type": "code",
   "execution_count": 9,
   "metadata": {},
   "outputs": [
    {
     "name": "stdout",
     "output_type": "stream",
     "text": [
      "249.0 0.7891\n"
     ]
    }
   ],
   "source": [
    "# 4.2 (정규성만족 X) wilcoxon 부호순위 검정\n",
    "statistic, pvalue = stats.wilcoxon(df['mpg']-20, alternative='two-sided')\n",
    "print(round(statistic,4), round(pvalue,4))"
   ]
  },
  {
   "cell_type": "code",
   "execution_count": 10,
   "metadata": {},
   "outputs": [],
   "source": [
    "# 5. 귀무가설 채택/기각\n",
    "# p-value 값이 0.05보다 크기 때문에(0.9328) 귀무가설을 채택한다\n",
    "# 즉,  mpg열의 평균이 20과 같다고 할 수 있다.\n",
    "\n",
    "# 답 : 채택"
   ]
  },
  {
   "cell_type": "code",
   "execution_count": 11,
   "metadata": {},
   "outputs": [
    {
     "data": {
      "text/plain": [
       "20.090625000000003"
      ]
     },
     "execution_count": 11,
     "metadata": {},
     "output_type": "execute_result"
    }
   ],
   "source": [
    "# 실제 평균\n",
    "df['mpg'].mean()"
   ]
  },
  {
   "cell_type": "markdown",
   "metadata": {},
   "source": [
    "2. mtcars 데이터셋의 mpg열 데이터의 평균이 17보다 크다고 할 수 있는지 겸정하시오.(유의수준 5%)"
   ]
  },
  {
   "cell_type": "code",
   "execution_count": 13,
   "metadata": {},
   "outputs": [],
   "source": [
    "# 1. 가설설정\n",
    "# H0 : mpg 열의 평균이 17보다 작거나 같다.\n",
    "# H1 : mpg 열의 평균이 17보다 크다."
   ]
  },
  {
   "cell_type": "code",
   "execution_count": 14,
   "metadata": {},
   "outputs": [],
   "source": [
    "# 2. 유의수준 확인 : 유의수준 5%로 확인"
   ]
  },
  {
   "cell_type": "code",
   "execution_count": 12,
   "metadata": {},
   "outputs": [
    {
     "name": "stdout",
     "output_type": "stream",
     "text": [
      "0.9476 0.1229\n"
     ]
    }
   ],
   "source": [
    "# 3. 정규성 검정\n",
    "# 단일표본 t-test를 하라는 지시가 있으면 안 해도 된다.\n",
    "# H0(귀무가설) : 정규분포를 따른다.\n",
    "# H1(대립가설) : 정규분포를 따르지 않는다.\n",
    "statistic, pvalue = stats.shapiro(df['mpg'])\n",
    "print(round(statistic, 4), round(pvalue, 4))"
   ]
  },
  {
   "cell_type": "code",
   "execution_count": 15,
   "metadata": {},
   "outputs": [
    {
     "name": "stdout",
     "output_type": "stream",
     "text": [
      "2.9008 0.0034\n"
     ]
    }
   ],
   "source": [
    "# 4.1 정규성 O t-검정 실시\n",
    "statistic, pvalue = stats.ttest_1samp(df['mpg'], popmean=17, alternative='greater') # 보다 크다.\n",
    "print(round(statistic, 4), round(pvalue, 4))"
   ]
  },
  {
   "cell_type": "code",
   "execution_count": 17,
   "metadata": {},
   "outputs": [
    {
     "name": "stdout",
     "output_type": "stream",
     "text": [
      "395.5 0.0066\n"
     ]
    }
   ],
   "source": [
    "# 4.2 (정규성만족 X) wilcoxon 부호순위 검정\n",
    "statistic, pvalue = stats.wilcoxon(df['mpg']-17, alternative='greater')\n",
    "print(round(statistic,4), round(pvalue,4))"
   ]
  },
  {
   "cell_type": "code",
   "execution_count": 18,
   "metadata": {},
   "outputs": [],
   "source": [
    "# 5. 귀무가설 채택/기각\n",
    "# p-value 값이 0.05보다 작기 때문에(0.0034) 귀무가설을 채택한다\n",
    "# 즉,  mpg열의 평균이 17보다 크다고 할 수 없다.\n",
    "\n",
    "# 답 : 기각"
   ]
  },
  {
   "cell_type": "markdown",
   "metadata": {},
   "source": [
    "3. mtcars 데이터셋의 mpg 열 데이터의 평균이 17보다 작다고 할 수 있는지 검정하시오.(유의수준 5%)"
   ]
  },
  {
   "cell_type": "code",
   "execution_count": 19,
   "metadata": {},
   "outputs": [],
   "source": [
    "# 1. 가설설정\n",
    "# H0 : mpg 열의 평균이 17보다 크거나 같다.\n",
    "# H1 : mpg 열의 평균이 17보다 작다."
   ]
  },
  {
   "cell_type": "code",
   "execution_count": 20,
   "metadata": {},
   "outputs": [],
   "source": [
    "# 2. 유의수준 확인 : 유의수준 5%로 확인"
   ]
  },
  {
   "cell_type": "code",
   "execution_count": 21,
   "metadata": {},
   "outputs": [
    {
     "name": "stdout",
     "output_type": "stream",
     "text": [
      "0.9476 0.1229\n"
     ]
    }
   ],
   "source": [
    "# 3. 정규성 검정\n",
    "# 단일표본 t-test를 하라는 지시가 있으면 안 해도 된다.\n",
    "# H0(귀무가설) : 정규분포를 따른다.\n",
    "# H1(대립가설) : 정규분포를 따르지 않는다.\n",
    "statistic, pvalue = stats.shapiro(df['mpg'])\n",
    "print(round(statistic, 4), round(pvalue, 4))"
   ]
  },
  {
   "cell_type": "code",
   "execution_count": 22,
   "metadata": {},
   "outputs": [
    {
     "name": "stdout",
     "output_type": "stream",
     "text": [
      "2.9008 0.9966\n"
     ]
    }
   ],
   "source": [
    "# 4.1 정규성 O t-검정 실시\n",
    "statistic, pvalue = stats.ttest_1samp(df['mpg'], popmean=17, alternative='less') # 왼쪽값이 오른쪽 값보다 작다.\n",
    "print(round(statistic, 4), round(pvalue, 4))"
   ]
  },
  {
   "cell_type": "code",
   "execution_count": 23,
   "metadata": {},
   "outputs": [
    {
     "name": "stdout",
     "output_type": "stream",
     "text": [
      "395.5 0.9938\n"
     ]
    }
   ],
   "source": [
    "# 4.2 (정규성만족 X) wilcoxon 부호순위 검정\n",
    "statistic, pvalue = stats.wilcoxon(df['mpg']-17, alternative='less')\n",
    "print(round(statistic,4), round(pvalue,4))"
   ]
  },
  {
   "cell_type": "code",
   "execution_count": null,
   "metadata": {},
   "outputs": [],
   "source": [
    "# 5. 귀무가설 채택/기각\n",
    "# p-value 값이 0.05보다 크기 때문에(0.9966) 귀무가설을 채택한다\n",
    "# 즉,  mpg열의 평균이 17보다 작다고 할 수 없다.\n",
    "\n",
    "# 답 : 채택"
   ]
  },
  {
   "cell_type": "markdown",
   "metadata": {},
   "source": [
    "## 제3 유형 모집단 2개\n",
    "\n",
    "### 검정방법\n",
    "\n",
    "1. 대응표본(쌍체) : 동일한 객체의 전 vs 후 평균비교\n",
    "1) 정규성 O -> 대응표본 t검정(paired t-test) : 동일한 객체의 전 vs 후 평균비교\n",
    "2) 정규성 X -> 윌콕슨 부호순위 검정(wilcoxon)\n",
    "\n",
    "2. 독립표본 : A집단의 평균 vs B집단의 평균\n",
    "1) 정규성 O -> 독립표본 t검정(2sample t-test)\n",
    "2) 정규성 X -> 윌콕슨의 순위합 검정(ranksums)"
   ]
  },
  {
   "cell_type": "markdown",
   "metadata": {},
   "source": [
    "### 가설검정 순서(중요)\n",
    "\n",
    "#### 1. 대응표본 t검정(paried t-test)\n",
    "1. 가설설정 : 귀무, 대립\n",
    "2. 유의수준 확인 : 보통 5%. \n",
    "3. 정규성 검정 : (주의) 차이값에 대한 정규성\n",
    "4. 검정실시 : 통계량, p-value 확인. p-value가 유의수준보다 크면 귀무, 작으면 대립\n",
    "5. 귀무가설 채택/기각"
   ]
  },
  {
   "cell_type": "markdown",
   "metadata": {},
   "source": [
    "#### 2. 독립표본 t검정(2sample t-test)\n",
    "1. 가설설정 : 귀무, 대립\n",
    "2. 유의수준 확인 : 보통 5%. \n",
    "3. 정규성 검정 : (주의) 두 집단 모두 정규성을 따를 경우\n",
    "4. 등분산 검정\n",
    "5. 검정실시 : 통계량, p-value 확인. (주의) 등분산여부 확인\n",
    "6. 귀무가설 채택/기각"
   ]
  },
  {
   "cell_type": "markdown",
   "metadata": {},
   "source": [
    "### 예제문제"
   ]
  },
  {
   "cell_type": "markdown",
   "metadata": {},
   "source": [
    "#### Case 1) 대응표본 검정(paired t-test)\n",
    "문제 1-1 \n",
    "다음은 혈압약을 먹은 전, 후의 혈압 데이터이다.\n",
    "\n",
    "혈압약을 먹기 전, 후의 차이가 있는지 쌍체 t 검정을 실시하시오.\n",
    "\n",
    "(유의수준 5%)\n",
    "* before : 혈압약을 먹기 전 혈압, after : 혈압약을 먹은 후의 혈압\n",
    "* H0(귀무가설) : after - before == 0\n",
    "* H1(대립가설) : after - before =/=0"
   ]
  },
  {
   "cell_type": "code",
   "execution_count": 24,
   "metadata": {},
   "outputs": [],
   "source": [
    "import pandas as pd\n",
    "import numpy as np\n",
    "import scipy.stats as stats\n",
    "from scipy.stats import shapiro"
   ]
  },
  {
   "cell_type": "code",
   "execution_count": 30,
   "metadata": {},
   "outputs": [
    {
     "name": "stdout",
     "output_type": "stream",
     "text": [
      "   before  after\n",
      "0     120    110\n",
      "1     135    132\n",
      "2     122    123\n"
     ]
    }
   ],
   "source": [
    "# 데이터 만들기\n",
    "df = pd.DataFrame({\n",
    "    'before': [120, 135, 122, 124, 135, 122, 145, 160, 155, 142, 144, 135, 167],\n",
    "    'after' : [110, 132, 123, 119, 123, 115, 140, 162, 142, 138, 135, 142, 160]\n",
    "})\n",
    "print(df.head(3))"
   ]
  },
  {
   "cell_type": "code",
   "execution_count": 31,
   "metadata": {},
   "outputs": [],
   "source": [
    "# 1. 가설설정\n",
    "# H0 : 약을 먹기 전과 먹은 후의 혈압 평균은 같다.(효과없음)\n",
    "# H1 : 약을 먹기 전과 먹은 후의 혈압 평균은 같지 않다.(효과있음)"
   ]
  },
  {
   "cell_type": "code",
   "execution_count": 32,
   "metadata": {},
   "outputs": [],
   "source": [
    "# 2. 유의수준 확인 : 유의수준 5%로 확인"
   ]
  },
  {
   "cell_type": "code",
   "execution_count": 33,
   "metadata": {},
   "outputs": [
    {
     "name": "stdout",
     "output_type": "stream",
     "text": [
      "0.9589 0.7363\n"
     ]
    }
   ],
   "source": [
    "# 3. 정규성 검정\n",
    "statistic, pvalue = stats.shapiro(df['after']-df['before'])\n",
    "print(round(statistic, 4), round(pvalue, 4))\n",
    "# p-value가 유의수준(0.05)보다 크니 귀무가설 채택(정규분포를 따른다.)"
   ]
  },
  {
   "cell_type": "code",
   "execution_count": 35,
   "metadata": {},
   "outputs": [
    {
     "name": "stdout",
     "output_type": "stream",
     "text": [
      "-3.1382 0.0086\n"
     ]
    }
   ],
   "source": [
    "# 4.1 정규성 O t-검정 실시\n",
    "statistic, pvalue = stats.ttest_rel(df['after'], df['before'], alternative='two-sided') # 왼쪽값이 오른쪽 값보다 작다.\n",
    "print(round(statistic, 4), round(pvalue, 4))"
   ]
  },
  {
   "cell_type": "code",
   "execution_count": 36,
   "metadata": {},
   "outputs": [
    {
     "name": "stdout",
     "output_type": "stream",
     "text": [
      "11.0 0.0134\n"
     ]
    }
   ],
   "source": [
    "# 4.2 (정규성만족 X) wilcoxon 부호순위 검정\n",
    "statistic, pvalue = stats.wilcoxon(df['after']-df['before'], alternative='two-sided')\n",
    "print(round(statistic,4), round(pvalue,4))"
   ]
  },
  {
   "cell_type": "code",
   "execution_count": 37,
   "metadata": {},
   "outputs": [],
   "source": [
    "# 5. 귀무가설 채택/기각\n",
    "# p-value 값이 0.05보다 작기 때문에(0.0086) 귀무가설을 기각한다.\n",
    "# 즉, 약을 먹기 전과 먹은 후의 혈압 평균은 같지 않다(효과가 있다)\n",
    "\n",
    "# 답 : 기각"
   ]
  },
  {
   "cell_type": "markdown",
   "metadata": {},
   "source": [
    "문제 1-2\n",
    "다음은 혈압약을 먹은 전, 후의 데이터이다.\n",
    "혈압약을 먹은 후 혈압이 감소했는지 확인하기 위해 쌍체 t검정을 실시하시오.\n",
    "\n",
    "(유의수준 5%)\n",
    "* before : 혈압약을 먹기 전 혈압, after : 혈압약을 먹은 후의 혈압\n",
    "* H0(귀무가설) : after - before >= 0\n",
    "* H1(대립가설) : after - before < 0"
   ]
  },
  {
   "cell_type": "code",
   "execution_count": 38,
   "metadata": {},
   "outputs": [
    {
     "name": "stdout",
     "output_type": "stream",
     "text": [
      "   before  after\n",
      "0     120    110\n",
      "1     135    132\n",
      "2     122    123\n"
     ]
    }
   ],
   "source": [
    "# 데이터 만들기\n",
    "df = pd.DataFrame({\n",
    "    'before': [120, 135, 122, 124, 135, 122, 145, 160, 155, 142, 144, 135, 167],\n",
    "    'after' : [110, 132, 123, 119, 123, 115, 140, 162, 142, 138, 135, 142, 160]\n",
    "})\n",
    "print(df.head(3))"
   ]
  },
  {
   "cell_type": "code",
   "execution_count": 39,
   "metadata": {},
   "outputs": [],
   "source": [
    "# 1. 가설설정\n",
    "# H0 : 약을 먹기 전보다 먹은 후의 혈압이 같거나 증가했다.(효과없음)\n",
    "# H1 : 약을 먹기 전보다 먹은 후의 혈압이 작다.(효과있음)"
   ]
  },
  {
   "cell_type": "code",
   "execution_count": 40,
   "metadata": {},
   "outputs": [],
   "source": [
    "# 2. 유의수준 확인 : 유의수준 5%로 확인"
   ]
  },
  {
   "cell_type": "code",
   "execution_count": 41,
   "metadata": {},
   "outputs": [
    {
     "name": "stdout",
     "output_type": "stream",
     "text": [
      "0.9589 0.7363\n"
     ]
    }
   ],
   "source": [
    "# 3. 정규성 검정\n",
    "statistic, pvalue = stats.shapiro(df['after']-df['before'])\n",
    "print(round(statistic, 4), round(pvalue, 4))\n",
    "# p-value가 유의수준(0.05)보다 크니 귀무가설 채택(정규분포를 따른다.)"
   ]
  },
  {
   "cell_type": "code",
   "execution_count": 42,
   "metadata": {},
   "outputs": [
    {
     "name": "stdout",
     "output_type": "stream",
     "text": [
      "-3.1382 0.0043\n"
     ]
    }
   ],
   "source": [
    "# 4.1 정규성 O t-검정 실시\n",
    "statistic, pvalue = stats.ttest_rel(df['after'], df['before'], alternative='less') # 왼쪽값이 오른쪽 값보다 작다.\n",
    "print(round(statistic, 4), round(pvalue, 4))"
   ]
  },
  {
   "cell_type": "code",
   "execution_count": 43,
   "metadata": {},
   "outputs": [
    {
     "name": "stdout",
     "output_type": "stream",
     "text": [
      "11.0 0.0067\n"
     ]
    }
   ],
   "source": [
    "# 4.2 (정규성만족 X) wilcoxon 부호순위 검정\n",
    "statistic, pvalue = stats.wilcoxon(df['after']-df['before'], alternative='less')\n",
    "print(round(statistic,4), round(pvalue,4))"
   ]
  },
  {
   "cell_type": "code",
   "execution_count": null,
   "metadata": {},
   "outputs": [],
   "source": [
    "# 5. 귀무가설 채택/기각\n",
    "# p-value 값이 0.05보다 작기 때문에(0.0043) 귀무가설을 기각한다.\n",
    "# 즉, 약을 먹은 후의 혈압이 감소했다고 할 수 없다.\n",
    "\n",
    "# 답 : 기각"
   ]
  },
  {
   "cell_type": "markdown",
   "metadata": {},
   "source": [
    "#### 독립표본 t검정(2sample t-test)\n",
    "\n",
    "문제 2-1\n",
    "다음은 A그룹과 B그룹 인원의 혈압데이터이다.\n",
    "\n",
    "두 그룹의 혈압 평균이 다르다고 할 수 있는지 독립표본 t검정을 실시하시오.\n",
    "\n",
    "(유의수준5%)\n",
    "* A : A그룹 인원의 혈압\n",
    "* B : B그룹 인원의 혈압\n",
    "* H0 : A == B\n",
    "* H1 : A =/= B"
   ]
  },
  {
   "cell_type": "code",
   "execution_count": 57,
   "metadata": {},
   "outputs": [
    {
     "name": "stdout",
     "output_type": "stream",
     "text": [
      "     A    B\n",
      "0  120  110\n",
      "1  135  132\n",
      "2  122  123\n"
     ]
    }
   ],
   "source": [
    "# 데이터 만들기\n",
    "df = pd.DataFrame({\n",
    "    'A': [120, 135, 122, 124, 135, 122, 145, 160, 155, 142, 144, 135, 167],\n",
    "    'B' : [110, 132, 123, 119, 123, 115, 140, 162, 142, 138, 135, 142, 160]\n",
    "})\n",
    "print(df.head(3))"
   ]
  },
  {
   "cell_type": "code",
   "execution_count": 58,
   "metadata": {},
   "outputs": [],
   "source": [
    "# 1. 가설설정\n",
    "# H0 : A그룹과 B그룹의 혈압 평균은 같다.(A == B)\n",
    "# H1 : A그룹과 B그룹의 혈압 평균은 다르다.(A =/= B)"
   ]
  },
  {
   "cell_type": "code",
   "execution_count": 59,
   "metadata": {},
   "outputs": [],
   "source": [
    "# 2. 유의수준 확인 : 유의수준 5%로 확인"
   ]
  },
  {
   "cell_type": "code",
   "execution_count": 60,
   "metadata": {},
   "outputs": [
    {
     "name": "stdout",
     "output_type": "stream",
     "text": [
      "0.9314 0.3559\n",
      "0.9498 0.5956\n"
     ]
    }
   ],
   "source": [
    "# 3. 정규성 검정\n",
    "# H0(귀무가설) : 정규분포를 따른다.\n",
    "# H1(대립가설) : 정규분포를 따르지 않는다.\n",
    "statisticA, pvalueA = stats.shapiro(df['A'])\n",
    "statisticB, pvalueB = stats.shapiro(df['B'])\n",
    "\n",
    "print(round(statisticA,4), round(pvalueA,4))\n",
    "print(round(statisticB,4), round(pvalueB,4))\n",
    "# p-value가 유의수준(0.05)보다 크니 귀무가설 채택(정규분포를 따른다.)\n",
    "# 둘 중 하나라도 따르지 않는다면 윌콕슨을 써야 함"
   ]
  },
  {
   "cell_type": "code",
   "execution_count": 61,
   "metadata": {},
   "outputs": [
    {
     "name": "stdout",
     "output_type": "stream",
     "text": [
      "0.0279 0.8673\n"
     ]
    }
   ],
   "source": [
    "# 4. 등분산성 검정\n",
    "# H0 : 등분산한다.\n",
    "# H1 : 등분산하지 않는다.\n",
    "statistic, pvalue = stats.bartlett(df['A'], df['B'])\n",
    "print(round(statistic,4), round(pvalue,4))\n",
    "# p-value가 유의수준(0.05)보다 크니 귀무가설 채택(등분산성을 따른다.)"
   ]
  },
  {
   "cell_type": "code",
   "execution_count": 63,
   "metadata": {},
   "outputs": [
    {
     "name": "stdout",
     "output_type": "stream",
     "text": [
      "0.8192 0.4207\n"
     ]
    }
   ],
   "source": [
    "# 5.1 정규성 O t-검정 실시\n",
    "statistic, pvalue = stats.ttest_ind(df['A'], df['B'], equal_var=True, alternative='two-sided') # 등분산하지 않으면 False.\n",
    "print(round(statistic, 4), round(pvalue, 4))"
   ]
  },
  {
   "cell_type": "code",
   "execution_count": 64,
   "metadata": {},
   "outputs": [
    {
     "name": "stdout",
     "output_type": "stream",
     "text": [
      "0.8462 0.3975\n"
     ]
    }
   ],
   "source": [
    "# 5.2 (정규성만족 X) wilcoxon 부호순위 검정\n",
    "statistic, pvalue = stats.ranksums(df['A'], df['B'], alternative='two-sided')\n",
    "print(round(statistic,4), round(pvalue,4))"
   ]
  },
  {
   "cell_type": "code",
   "execution_count": 65,
   "metadata": {},
   "outputs": [],
   "source": [
    "# 6. 귀무가설 채택/기각\n",
    "# p-value 값이 0.05보다 크기 때문에(0.4207) 귀무가설을 채택한다.\n",
    "# 즉, A그룹과 B그룹의 혈압 평균은 같다고 할 수 있다.\n",
    "\n",
    "# 답 : 채택"
   ]
  },
  {
   "cell_type": "code",
   "execution_count": 66,
   "metadata": {},
   "outputs": [
    {
     "name": "stdout",
     "output_type": "stream",
     "text": [
      "138.9231\n",
      "133.9231\n"
     ]
    }
   ],
   "source": [
    "# (참고) 평균 확인\n",
    "print(round(df['A'].mean(),4))\n",
    "print(round(df['B'].mean(),4))"
   ]
  },
  {
   "cell_type": "markdown",
   "metadata": {},
   "source": [
    "문제 2-2\n",
    "다음은 A그룹과 B그룹 인원의 혈압데이터이다.\n",
    "\n",
    "A 그룹의 혈압 평균이 B그룹보다 크다고 할 수 있는지 독립표본 t검정을 실시하시오.\n",
    "\n",
    "(유의수준5%)\n",
    "* A : A그룹 인원의 혈압\n",
    "* B : B그룹 인원의 혈압\n",
    "* H0 : A - B <= 0\n",
    "* H1 : A - B > 0"
   ]
  },
  {
   "cell_type": "code",
   "execution_count": 67,
   "metadata": {},
   "outputs": [
    {
     "name": "stdout",
     "output_type": "stream",
     "text": [
      "     A    B\n",
      "0  120  110\n",
      "1  135  132\n",
      "2  122  123\n"
     ]
    }
   ],
   "source": [
    "# 데이터 만들기\n",
    "df = pd.DataFrame({\n",
    "    'A': [120, 135, 122, 124, 135, 122, 145, 160, 155, 142, 144, 135, 167],\n",
    "    'B' : [110, 132, 123, 119, 123, 115, 140, 162, 142, 138, 135, 142, 160]\n",
    "})\n",
    "print(df.head(3))"
   ]
  },
  {
   "cell_type": "code",
   "execution_count": 70,
   "metadata": {},
   "outputs": [],
   "source": [
    "# 1. 가설설정\n",
    "# H0 : A그룹의 혈압 평균이 B그룹보다 작거나 같다.(A <= B)\n",
    "# H1 : A그룹의 혈압 평균이 B그룹보다 크다.(A > B)"
   ]
  },
  {
   "cell_type": "code",
   "execution_count": 71,
   "metadata": {},
   "outputs": [],
   "source": [
    "# 2. 유의수준 확인 : 유의수준 5%로 확인"
   ]
  },
  {
   "cell_type": "code",
   "execution_count": 72,
   "metadata": {},
   "outputs": [
    {
     "name": "stdout",
     "output_type": "stream",
     "text": [
      "0.9314 0.3559\n",
      "0.9498 0.5956\n"
     ]
    }
   ],
   "source": [
    "# 3. 정규성 검정\n",
    "# H0(귀무가설) : 정규분포를 따른다.\n",
    "# H1(대립가설) : 정규분포를 따르지 않는다.\n",
    "statisticA, pvalueA = stats.shapiro(df['A'])\n",
    "statisticB, pvalueB = stats.shapiro(df['B'])\n",
    "\n",
    "print(round(statisticA,4), round(pvalueA,4))\n",
    "print(round(statisticB,4), round(pvalueB,4))\n",
    "# p-value가 유의수준(0.05)보다 크니 귀무가설 채택(정규분포를 따른다.)\n",
    "# 둘 중 하나라도 따르지 않는다면 윌콕슨을 써야 함"
   ]
  },
  {
   "cell_type": "code",
   "execution_count": 73,
   "metadata": {},
   "outputs": [
    {
     "name": "stdout",
     "output_type": "stream",
     "text": [
      "0.0279 0.8673\n"
     ]
    }
   ],
   "source": [
    "# 4. 등분산성 검정\n",
    "# H0 : 등분산한다.\n",
    "# H1 : 등분산하지 않는다.\n",
    "statistic, pvalue = stats.bartlett(df['A'], df['B'])\n",
    "print(round(statistic,4), round(pvalue,4))\n",
    "# p-value가 유의수준(0.05)보다 크니 귀무가설 채택(등분산성을 따른다.)"
   ]
  },
  {
   "cell_type": "code",
   "execution_count": 74,
   "metadata": {},
   "outputs": [
    {
     "name": "stdout",
     "output_type": "stream",
     "text": [
      "0.8192 0.2104\n"
     ]
    }
   ],
   "source": [
    "# 5.1 정규성 O t-검정 실시\n",
    "statistic, pvalue = stats.ttest_ind(df['A'], df['B'], equal_var=True, alternative='greater') # 등분산하지 않으면 False.\n",
    "print(round(statistic, 4), round(pvalue, 4))"
   ]
  },
  {
   "cell_type": "code",
   "execution_count": 75,
   "metadata": {},
   "outputs": [
    {
     "name": "stdout",
     "output_type": "stream",
     "text": [
      "0.8462 0.1987\n"
     ]
    }
   ],
   "source": [
    "# 5.2 (정규성만족 X) wilcoxon 부호순위 검정\n",
    "statistic, pvalue = stats.ranksums(df['A'], df['B'], alternative='greater')\n",
    "print(round(statistic,4), round(pvalue,4))"
   ]
  },
  {
   "cell_type": "code",
   "execution_count": 76,
   "metadata": {},
   "outputs": [],
   "source": [
    "# 6. 귀무가설 채택/기각\n",
    "# p-value 값이 0.05보다 크기 때문에(0.2104) 귀무가설을 채택한다.\n",
    "# 즉, A그룹의 혈압 평균이 B그룹보다 작거나 같다고 할 수 있다.\n",
    "\n",
    "# 답 : 채택"
   ]
  },
  {
   "cell_type": "code",
   "execution_count": 77,
   "metadata": {},
   "outputs": [
    {
     "name": "stdout",
     "output_type": "stream",
     "text": [
      "138.9231\n",
      "133.9231\n"
     ]
    }
   ],
   "source": [
    "# (참고) 평균 확인\n",
    "print(round(df['A'].mean(),4))\n",
    "print(round(df['B'].mean(),4))"
   ]
  },
  {
   "cell_type": "code",
   "execution_count": null,
   "metadata": {},
   "outputs": [],
   "source": []
  }
 ],
 "metadata": {
  "kernelspec": {
   "display_name": "venv",
   "language": "python",
   "name": "python3"
  },
  "language_info": {
   "codemirror_mode": {
    "name": "ipython",
    "version": 3
   },
   "file_extension": ".py",
   "mimetype": "text/x-python",
   "name": "python",
   "nbconvert_exporter": "python",
   "pygments_lexer": "ipython3",
   "version": "3.9.12"
  }
 },
 "nbformat": 4,
 "nbformat_minor": 2
}
