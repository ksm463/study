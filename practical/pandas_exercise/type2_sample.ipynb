{
 "cells": [
  {
   "cell_type": "code",
   "execution_count": null,
   "metadata": {},
   "outputs": [],
   "source": [
    "# 데이터 파일 읽기 예제\n",
    "import pandas as pd\n",
    "train = pd.read_csv(\"data/customer_train.csv\")\n",
    "test = pd.read_csv(\"data/customer_test.csv\")"
   ]
  },
  {
   "cell_type": "code",
   "execution_count": null,
   "metadata": {},
   "outputs": [],
   "source": [
    "# 데이터 분리\n",
    "# 결측치가 많은 열 제거\n",
    "# 대상으로 쓸 성별 열 분리\n",
    "y_train = train['성별']\n",
    "x_train = train.drop(['환불금액'], axis=1)\n",
    "x_train = x_train.drop(['성별'], axis=1)\n",
    "x_test = test.drop(['환불금액'], axis=1)"
   ]
  },
  {
   "cell_type": "code",
   "execution_count": null,
   "metadata": {},
   "outputs": [],
   "source": [
    "# 원핫 인코딩\n",
    "x_train = pd.get_dummies(x_train)\n",
    "x_test = pd.get_dummies(x_test)\n",
    "\n",
    "# 칼럼 갯수 일치 (73 -> 72)\n",
    "x_train = x_train.reindex(columns=x_test.columns, fill_value=0)"
   ]
  },
  {
   "cell_type": "code",
   "execution_count": null,
   "metadata": {},
   "outputs": [],
   "source": [
    "# 검증용 데이터 분리\n",
    "from sklearn.model_selection import train_test_split\n",
    "x_train, x_val, y_train, y_val = train_test_split(x_train, y_train, test_size=0.2, stratify=y_train, random_state=2023)"
   ]
  },
  {
   "cell_type": "code",
   "execution_count": null,
   "metadata": {},
   "outputs": [],
   "source": [
    "# 랜덤포레스트분류 모델 불러오기\n",
    "from sklearn.ensemble import RandomForestClassifier\n",
    "model = RandomForestClassifier(random_state=2023)\n",
    "model.fit(x_train, y_train)\n",
    "\n",
    "y_pred = model.predict(x_val)"
   ]
  },
  {
   "cell_type": "code",
   "execution_count": null,
   "metadata": {},
   "outputs": [],
   "source": [
    "# 측정 지표 설정\n",
    "from sklearn.metrics import accuracy_score, f1_score, roc_auc_score\n",
    "acc = accuracy_score(y_val, y_pred)\n",
    "f1 = f1_score(y_val, y_pred)\n",
    "roc = roc_auc_score(y_val, y_pred)\n",
    "\n",
    "y_result = model.predict(x_test)"
   ]
  },
  {
   "cell_type": "code",
   "execution_count": null,
   "metadata": {},
   "outputs": [],
   "source": [
    "# csv 내보내기\n",
    "column_name = ['pred']\n",
    "result = pd.DataFrame(y_result, columns=column_name).to_csv('result.csv', index=False)\n",
    "result = pd.read_csv(\"result.csv\")\n",
    "print(result)"
   ]
  }
 ],
 "metadata": {
  "language_info": {
   "name": "python"
  }
 },
 "nbformat": 4,
 "nbformat_minor": 2
}
