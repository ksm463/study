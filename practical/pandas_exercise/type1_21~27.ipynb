{
 "cells": [
  {
   "cell_type": "code",
   "execution_count": 1,
   "metadata": {},
   "outputs": [],
   "source": [
    "import pandas as pd\n",
    "import numpy as np"
   ]
  },
  {
   "cell_type": "code",
   "execution_count": 2,
   "metadata": {},
   "outputs": [],
   "source": [
    "# 문제 21\n",
    "# 22년 1분기 A제품의 매출액을 구하시오\n",
    "# (매출액 = 판매수*개당수익)\n",
    "df = pd.DataFrame({\n",
    "    '날짜' : ['20220103', '20220105', '20230105', '20230127', '20220203', '20220205', '20230210','20230223', '20230312', '20230422', '20220505', '20230511'],\n",
    "    '제품' : ['A','B', 'A','B','A', 'B','A','B','A','B','A','A'],\n",
    "    '판매수' : [3, 5, 5, 10, 10, 10, 15, 15, 20, 25, 30, 40],\n",
    "    '개당수익' : [300, 400, 500, 600, 400, 500, 500, 600, 600, 700, 600, 600]\n",
    "})"
   ]
  },
  {
   "cell_type": "code",
   "execution_count": 3,
   "metadata": {},
   "outputs": [
    {
     "name": "stdout",
     "output_type": "stream",
     "text": [
      "           날짜 제품  판매수  개당수익  year  month  day    매출액\n",
      "0  2022-01-03  A    3   300  2022      1    3    900\n",
      "1  2022-01-05  B    5   400  2022      1    5   2000\n",
      "4  2022-02-03  A   10   400  2022      2    3   4000\n",
      "5  2022-02-05  B   10   500  2022      2    5   5000\n",
      "10 2022-05-05  A   30   600  2022      5    5  18000\n",
      "11900\n"
     ]
    }
   ],
   "source": [
    "# 풀이\n",
    "# 데이터 타입 datatime으로 변경\n",
    "df['날짜'] = pd.to_datetime(df['날짜'])\n",
    "\n",
    "# 년, 월, 일, 변수(열) 추가하기\n",
    "df['year'] = df['날짜'].dt.year\n",
    "df['month'] = df['날짜'].dt.month\n",
    "df['day'] = df['날짜'].dt.day\n",
    "\n",
    "# 매출액 변수 추가하기\n",
    "df['매출액'] = df['판매수']*df['개당수익']\n",
    "\n",
    "# df.info()\n",
    "\n",
    "# 22년으로 필터링\n",
    "df = df[df['year']==2022]\n",
    "print(df.head())\n",
    "\n",
    "m1 = df[df['month']==1]['매출액'].sum()\n",
    "m2 = df[df['month']==2]['매출액'].sum()\n",
    "m3 = df[df['month']==3]['매출액'].sum()\n",
    "print(m1+m2+m3)\n"
   ]
  },
  {
   "cell_type": "code",
   "execution_count": 4,
   "metadata": {},
   "outputs": [
    {
     "name": "stdout",
     "output_type": "stream",
     "text": [
      "11900\n"
     ]
    }
   ],
   "source": [
    "# 풀이2\n",
    "# 데이터 생성\n",
    "df = pd.DataFrame({\n",
    "    '날짜' : ['20220103', '20220105', '20230105', '20230127', '20220203', '20220205', '20230210','20230223', '20230312', '20230422', '20220505', '20230511'],\n",
    "    '제품' : ['A','B', 'A','B','A', 'B','A','B','A','B','A','A'],\n",
    "    '판매수' : [3, 5, 5, 10, 10, 10, 15, 15, 20, 25, 30, 40],\n",
    "    '개당수익' : [300, 400, 500, 600, 400, 500, 500, 600, 600, 700, 600, 600]\n",
    "})\n",
    "\n",
    "# 데이터 타입 datetime으로 변경(위와 동일)\n",
    "df['날짜'] = pd.to_datetime(df['날짜'])\n",
    "\n",
    "# 매출액 변수 추가하기(위와 동일)\n",
    "df['매출액'] = df['판매수']*df['개당수익']\n",
    "\n",
    "# 날짜 자체를 필터링 : df['변수'].between( , )\n",
    "df_after = df[df['날짜'].between('2022-01-01', '2022-04-01')] # 4월 1일 미포함\n",
    "print(df_after['매출액'].sum())"
   ]
  },
  {
   "cell_type": "code",
   "execution_count": 5,
   "metadata": {},
   "outputs": [
    {
     "name": "stdout",
     "output_type": "stream",
     "text": [
      "11900\n"
     ]
    }
   ],
   "source": [
    "# 풀이3\n",
    "# 데이터생성\n",
    "df = pd.DataFrame({\n",
    "    '날짜' : ['20220103', '20220105', '20230105', '20230127', '20220203', '20220205', '20230210','20230223', '20230312', '20230422', '20220505', '20230511'],\n",
    "    '제품' : ['A','B', 'A','B','A', 'B','A','B','A','B','A','A'],\n",
    "    '판매수' : [3, 5, 5, 10, 10, 10, 15, 15, 20, 25, 30, 40],\n",
    "    '개당수익' : [300, 400, 500, 600, 400, 500, 500, 600, 600, 700, 600, 600]\n",
    "})\n",
    "\n",
    "# 데이터 타입 datetime으로 변경(위와 동일)\n",
    "df['날짜'] = pd.to_datetime(df['날짜'])\n",
    "\n",
    "# 매출액 변수 추가하기(위와 동일)\n",
    "df['매출액'] = df['판매수']*df['개당수익']\n",
    "\n",
    "# 날짜를 인덱스로 설정 후 loc 함수 사용\n",
    "df = df.set_index('날짜')\n",
    "df_after = df.loc[(df.index<='2022-03-31')&(df.index>='2022-01-01')]\n",
    "print(df_after['매출액'].sum())"
   ]
  },
  {
   "cell_type": "code",
   "execution_count": 6,
   "metadata": {},
   "outputs": [],
   "source": [
    "# 문제 22\n",
    "# 22년과 23년의 총 매출액 차이를 절대값으로 구하시오.\n",
    "# 매출액 = 판매수*개당수익\n",
    "df = pd.DataFrame({\n",
    "    '날짜' : ['20220103', '20220105', '20230105', '20230127', '20220203', '20220205', '20230210','20230223', '20230312', '20230422', '20220505', '20230511'],\n",
    "    '제품' : ['A','B', 'A','B','A', 'B','A','B','A','B','A','A'],\n",
    "    '판매수' : [3, 5, 5, 10, 10, 10, 15, 15, 20, 25, 30, 40],\n",
    "    '개당수익' : [300, 400, 500, 600, 400, 500, 500, 600, 600, 700, 600, 600]\n",
    "})"
   ]
  },
  {
   "cell_type": "code",
   "execution_count": 7,
   "metadata": {},
   "outputs": [
    {
     "name": "stdout",
     "output_type": "stream",
     "text": [
      "48600\n"
     ]
    }
   ],
   "source": [
    "# 풀이\n",
    "# 데이터타입 datatime으로 변경\n",
    "df['날짜'] = pd.to_datetime(df['날짜'])\n",
    "\n",
    "# 년 변수 추가하기\n",
    "df['year'] = df['날짜'].dt.year\n",
    "\n",
    "# 매출액 변수 추가하기\n",
    "df['매출액'] = df['판매수']*df['개당수익']\n",
    "\n",
    "# 22년 매출액 구하기\n",
    "df22 = df[df['year']==2022]\n",
    "df22_sum = df22['매출액'].sum()\n",
    "\n",
    "# 23년 매출액\n",
    "df23 = df[df['year']==2023]\n",
    "df23_sum = df23['매출액'].sum()\n",
    "\n",
    "print(abs(df22_sum-df23_sum))"
   ]
  },
  {
   "cell_type": "code",
   "execution_count": 8,
   "metadata": {},
   "outputs": [
    {
     "data": {
      "text/html": [
       "<div>\n",
       "<style scoped>\n",
       "    .dataframe tbody tr th:only-of-type {\n",
       "        vertical-align: middle;\n",
       "    }\n",
       "\n",
       "    .dataframe tbody tr th {\n",
       "        vertical-align: top;\n",
       "    }\n",
       "\n",
       "    .dataframe thead th {\n",
       "        text-align: right;\n",
       "    }\n",
       "</style>\n",
       "<table border=\"1\" class=\"dataframe\">\n",
       "  <thead>\n",
       "    <tr style=\"text-align: right;\">\n",
       "      <th></th>\n",
       "      <th>날짜</th>\n",
       "      <th>제품</th>\n",
       "      <th>판매수</th>\n",
       "      <th>개당수익</th>\n",
       "    </tr>\n",
       "  </thead>\n",
       "  <tbody>\n",
       "    <tr>\n",
       "      <th>0</th>\n",
       "      <td>20220103</td>\n",
       "      <td>A</td>\n",
       "      <td>3</td>\n",
       "      <td>300</td>\n",
       "    </tr>\n",
       "    <tr>\n",
       "      <th>1</th>\n",
       "      <td>20220105</td>\n",
       "      <td>B</td>\n",
       "      <td>5</td>\n",
       "      <td>400</td>\n",
       "    </tr>\n",
       "    <tr>\n",
       "      <th>2</th>\n",
       "      <td>20230105</td>\n",
       "      <td>A</td>\n",
       "      <td>5</td>\n",
       "      <td>500</td>\n",
       "    </tr>\n",
       "    <tr>\n",
       "      <th>3</th>\n",
       "      <td>20230127</td>\n",
       "      <td>B</td>\n",
       "      <td>10</td>\n",
       "      <td>600</td>\n",
       "    </tr>\n",
       "    <tr>\n",
       "      <th>4</th>\n",
       "      <td>20220203</td>\n",
       "      <td>A</td>\n",
       "      <td>10</td>\n",
       "      <td>400</td>\n",
       "    </tr>\n",
       "  </tbody>\n",
       "</table>\n",
       "</div>"
      ],
      "text/plain": [
       "         날짜 제품  판매수  개당수익\n",
       "0  20220103  A    3   300\n",
       "1  20220105  B    5   400\n",
       "2  20230105  A    5   500\n",
       "3  20230127  B   10   600\n",
       "4  20220203  A   10   400"
      ]
     },
     "execution_count": 8,
     "metadata": {},
     "output_type": "execute_result"
    }
   ],
   "source": [
    "# 문제 23\n",
    "# 23년 총 매출액이 큰 제품의 23년 판매수를 구하시오.\n",
    "\n",
    "df = pd.DataFrame({\n",
    "    '날짜' : ['20220103', '20220105', '20230105', '20230127', '20220203', '20220205', '20230210','20230223', '20230312', '20230422', '20220505', '20230511'],\n",
    "    '제품' : ['A','B', 'A','B','A', 'B','A','B','A','B','A','A'],\n",
    "    '판매수' : [3, 5, 5, 10, 10, 10, 15, 15, 20, 25, 30, 40],\n",
    "    '개당수익' : [300, 400, 500, 600, 400, 500, 500, 600, 600, 700, 600, 600]\n",
    "})\n",
    "df.head()"
   ]
  },
  {
   "cell_type": "code",
   "execution_count": 9,
   "metadata": {},
   "outputs": [
    {
     "name": "stdout",
     "output_type": "stream",
     "text": [
      "80\n"
     ]
    }
   ],
   "source": [
    "# 풀이\n",
    "# 데이터타입 datatime으로 변경\n",
    "df['날짜'] = pd.to_datetime(df['날짜'])\n",
    "\n",
    "# 년 변수 추가하기\n",
    "df['year'] = df['날짜'].dt.year\n",
    "\n",
    "# 매출액 변수 추가하기\n",
    "df['매출액'] = df['판매수']*df['개당수익']\n",
    "\n",
    "# 2023년으로 필터링\n",
    "df = df[df['year']==2023]\n",
    "\n",
    "# 23년 A 매출액과 B 매출액 별도로 구하기\n",
    "# A매출액\n",
    "df_a = df[df['제품']=='A']\n",
    "A_sales = df_a['매출액'].sum()\n",
    "# print(A_sales) # 46000\n",
    "\n",
    "# B매출액\n",
    "df_b = df[df['제품']=='B']\n",
    "B_sales = df_b['매출액'].sum()\n",
    "# print(B_sales) # 32500\n",
    "\n",
    "# A 제품의 23년 판매수\n",
    "A_sum = df_a['판매수'].sum()\n",
    "print(A_sum)"
   ]
  },
  {
   "cell_type": "code",
   "execution_count": 10,
   "metadata": {},
   "outputs": [
    {
     "data": {
      "text/html": [
       "<div>\n",
       "<style scoped>\n",
       "    .dataframe tbody tr th:only-of-type {\n",
       "        vertical-align: middle;\n",
       "    }\n",
       "\n",
       "    .dataframe tbody tr th {\n",
       "        vertical-align: top;\n",
       "    }\n",
       "\n",
       "    .dataframe thead th {\n",
       "        text-align: right;\n",
       "    }\n",
       "</style>\n",
       "<table border=\"1\" class=\"dataframe\">\n",
       "  <thead>\n",
       "    <tr style=\"text-align: right;\">\n",
       "      <th></th>\n",
       "      <th>날짜</th>\n",
       "      <th>제품</th>\n",
       "      <th>판매수</th>\n",
       "      <th>개당수익</th>\n",
       "    </tr>\n",
       "  </thead>\n",
       "  <tbody>\n",
       "    <tr>\n",
       "      <th>0</th>\n",
       "      <td>20220103</td>\n",
       "      <td>A</td>\n",
       "      <td>3</td>\n",
       "      <td>300</td>\n",
       "    </tr>\n",
       "    <tr>\n",
       "      <th>1</th>\n",
       "      <td>20220105</td>\n",
       "      <td>B</td>\n",
       "      <td>5</td>\n",
       "      <td>400</td>\n",
       "    </tr>\n",
       "    <tr>\n",
       "      <th>2</th>\n",
       "      <td>20230105</td>\n",
       "      <td>A</td>\n",
       "      <td>5</td>\n",
       "      <td>500</td>\n",
       "    </tr>\n",
       "    <tr>\n",
       "      <th>3</th>\n",
       "      <td>20230127</td>\n",
       "      <td>B</td>\n",
       "      <td>10</td>\n",
       "      <td>600</td>\n",
       "    </tr>\n",
       "    <tr>\n",
       "      <th>4</th>\n",
       "      <td>20220203</td>\n",
       "      <td>A</td>\n",
       "      <td>10</td>\n",
       "      <td>400</td>\n",
       "    </tr>\n",
       "  </tbody>\n",
       "</table>\n",
       "</div>"
      ],
      "text/plain": [
       "         날짜 제품  판매수  개당수익\n",
       "0  20220103  A    3   300\n",
       "1  20220105  B    5   400\n",
       "2  20230105  A    5   500\n",
       "3  20230127  B   10   600\n",
       "4  20220203  A   10   400"
      ]
     },
     "execution_count": 10,
     "metadata": {},
     "output_type": "execute_result"
    }
   ],
   "source": [
    "# 문제 24\n",
    "# 매출액이 4천원 초과, 1만원 미만인 데이터 수를 출력하시오.\n",
    "\n",
    "df = pd.DataFrame({\n",
    "    '날짜' : ['20220103', '20220105', '20230105', '20230127', '20220203', '20220205', '20230210','20230223', '20230312', '20230422', '20220505', '20230511'],\n",
    "    '제품' : ['A','B', 'A','B','A', 'B','A','B','A','B','A','A'],\n",
    "    '판매수' : [3, 5, 5, 10, 10, 10, 15, 15, 20, 25, 30, 40],\n",
    "    '개당수익' : [300, 400, 500, 600, 400, 500, 500, 600, 600, 700, 600, 600]\n",
    "})\n",
    "df.head()"
   ]
  },
  {
   "cell_type": "code",
   "execution_count": 11,
   "metadata": {},
   "outputs": [
    {
     "name": "stdout",
     "output_type": "stream",
     "text": [
      "4\n"
     ]
    }
   ],
   "source": [
    "# 풀이\n",
    "df['매출액'] = df['판매수']*df['개당수익']\n",
    "cond1 = (df['매출액']>4000)\n",
    "cond2 = (df['매출액']<10000)\n",
    "df = df[cond1&cond2]\n",
    "print(len(df))"
   ]
  },
  {
   "cell_type": "code",
   "execution_count": 12,
   "metadata": {},
   "outputs": [
    {
     "data": {
      "text/html": [
       "<div>\n",
       "<style scoped>\n",
       "    .dataframe tbody tr th:only-of-type {\n",
       "        vertical-align: middle;\n",
       "    }\n",
       "\n",
       "    .dataframe tbody tr th {\n",
       "        vertical-align: top;\n",
       "    }\n",
       "\n",
       "    .dataframe thead th {\n",
       "        text-align: right;\n",
       "    }\n",
       "</style>\n",
       "<table border=\"1\" class=\"dataframe\">\n",
       "  <thead>\n",
       "    <tr style=\"text-align: right;\">\n",
       "      <th></th>\n",
       "      <th>time</th>\n",
       "      <th>물품</th>\n",
       "      <th>판매수</th>\n",
       "      <th>개당수익</th>\n",
       "    </tr>\n",
       "  </thead>\n",
       "  <tbody>\n",
       "    <tr>\n",
       "      <th>0</th>\n",
       "      <td>2023-09-24 12:25:00</td>\n",
       "      <td>A</td>\n",
       "      <td>5</td>\n",
       "      <td>500</td>\n",
       "    </tr>\n",
       "    <tr>\n",
       "      <th>1</th>\n",
       "      <td>2023-09-24 16:48:25</td>\n",
       "      <td>B</td>\n",
       "      <td>10</td>\n",
       "      <td>600</td>\n",
       "    </tr>\n",
       "    <tr>\n",
       "      <th>2</th>\n",
       "      <td>2023-09-24 21:11:50</td>\n",
       "      <td>A</td>\n",
       "      <td>15</td>\n",
       "      <td>500</td>\n",
       "    </tr>\n",
       "    <tr>\n",
       "      <th>3</th>\n",
       "      <td>2023-09-25 01:35:15</td>\n",
       "      <td>B</td>\n",
       "      <td>15</td>\n",
       "      <td>600</td>\n",
       "    </tr>\n",
       "    <tr>\n",
       "      <th>4</th>\n",
       "      <td>2023-09-25 05:58:40</td>\n",
       "      <td>A</td>\n",
       "      <td>20</td>\n",
       "      <td>600</td>\n",
       "    </tr>\n",
       "    <tr>\n",
       "      <th>5</th>\n",
       "      <td>2023-09-25 10:22:05</td>\n",
       "      <td>B</td>\n",
       "      <td>25</td>\n",
       "      <td>700</td>\n",
       "    </tr>\n",
       "    <tr>\n",
       "      <th>6</th>\n",
       "      <td>2023-09-25 14:45:30</td>\n",
       "      <td>A</td>\n",
       "      <td>40</td>\n",
       "      <td>600</td>\n",
       "    </tr>\n",
       "  </tbody>\n",
       "</table>\n",
       "</div>"
      ],
      "text/plain": [
       "                 time 물품  판매수  개당수익\n",
       "0 2023-09-24 12:25:00  A    5   500\n",
       "1 2023-09-24 16:48:25  B   10   600\n",
       "2 2023-09-24 21:11:50  A   15   500\n",
       "3 2023-09-25 01:35:15  B   15   600\n",
       "4 2023-09-25 05:58:40  A   20   600\n",
       "5 2023-09-25 10:22:05  B   25   700\n",
       "6 2023-09-25 14:45:30  A   40   600"
      ]
     },
     "execution_count": 12,
     "metadata": {},
     "output_type": "execute_result"
    }
   ],
   "source": [
    "# 문제 25\n",
    "# 23년 9월 24일 16:00~22:00 사이에 전체 제품의 판매수를 구하시오.\n",
    "\n",
    "df = pd.DataFrame({\n",
    "    '물품' : ['A','B', 'A', 'B','A', 'B','A'],\n",
    "    '판매수' : [5, 10, 15, 15, 20, 25, 40],\n",
    "    '개당수익' : [500, 600, 500, 600, 600, 700, 600,]\n",
    "})\n",
    "time = pd.date_range('2023-09-24 12:25:00', '2023-09-25 14:45:30', periods=7)\n",
    "df['time']=time\n",
    "df = df[['time', '물품', '판매수', '개당수익']]\n",
    "df"
   ]
  },
  {
   "cell_type": "code",
   "execution_count": 13,
   "metadata": {},
   "outputs": [
    {
     "name": "stdout",
     "output_type": "stream",
     "text": [
      "25\n"
     ]
    }
   ],
   "source": [
    "# 풀이1\n",
    "# 컬럼과 인덱스에 둘 다 time 변수를 놓고 풀이\n",
    "# 데이터 타입 datetime으로 변경 (항상 df.info()로 데이터 타입 확인할 것)\n",
    "df['time'] = pd.to_datetime(df['time'])\n",
    "\n",
    "# index 새로 지정\n",
    "df = df.set_index('time', drop=False) # 디폴트 True\n",
    "# print(df.head())\n",
    "\n",
    "# 9월 24일 필터링\n",
    "df_after = df[df['time'].between('2023-09-24', '2023-09-25')] # 25일은 미포함됨\n",
    "\n",
    "# 시간 필터링 16 ~ 22 (주의:시간이 index에 위치해야 함)\n",
    "df = df_after.between_time(start_time='16:00', end_time='22:00') # 포함 기준\n",
    "\n",
    "# 전체 판매수 확인하기\n",
    "print(df['판매수'].sum())"
   ]
  },
  {
   "cell_type": "code",
   "execution_count": 14,
   "metadata": {},
   "outputs": [
    {
     "name": "stdout",
     "output_type": "stream",
     "text": [
      "25\n"
     ]
    }
   ],
   "source": [
    "# 풀이 2\n",
    "df = pd.DataFrame({\n",
    "    '물품' : ['A','B', 'A', 'B','A', 'B','A'],\n",
    "    '판매수' : [5, 10, 15, 15, 20, 25, 40],\n",
    "    '개당수익' : [500, 600, 500, 600, 600, 700, 600,]\n",
    "})\n",
    "time = pd.date_range('2023-09-24 12:25:00', '2023-09-25 14:45:30', periods=7)\n",
    "df['time']=time\n",
    "df = df[['time', '물품', '판매수', '개당수익']]\n",
    "\n",
    "# 데이터 타입 datetime으로 변경 (항상 df.info()로 데이터 타입 확인할 것)\n",
    "df['time'] = pd.to_datetime(df['time'])\n",
    "\n",
    "# index 새로 지정\n",
    "df = df.set_index('time')\n",
    "\n",
    "# loc 함수로 필터링\n",
    "df = df.loc[(df.index>='2023-09-24 16:00:00') & (df.index<='2023-09-24 22:00:00')]\n",
    "\n",
    "# 전체 판매수 구하기\n",
    "print(df['판매수'].sum())"
   ]
  },
  {
   "cell_type": "code",
   "execution_count": 15,
   "metadata": {},
   "outputs": [
    {
     "data": {
      "text/html": [
       "<div>\n",
       "<style scoped>\n",
       "    .dataframe tbody tr th:only-of-type {\n",
       "        vertical-align: middle;\n",
       "    }\n",
       "\n",
       "    .dataframe tbody tr th {\n",
       "        vertical-align: top;\n",
       "    }\n",
       "\n",
       "    .dataframe thead th {\n",
       "        text-align: right;\n",
       "    }\n",
       "</style>\n",
       "<table border=\"1\" class=\"dataframe\">\n",
       "  <thead>\n",
       "    <tr style=\"text-align: right;\">\n",
       "      <th></th>\n",
       "      <th>물품</th>\n",
       "      <th>판매수</th>\n",
       "      <th>개당수익</th>\n",
       "    </tr>\n",
       "    <tr>\n",
       "      <th>time</th>\n",
       "      <th></th>\n",
       "      <th></th>\n",
       "      <th></th>\n",
       "    </tr>\n",
       "  </thead>\n",
       "  <tbody>\n",
       "    <tr>\n",
       "      <th>2023-09-24 12:25:00</th>\n",
       "      <td>A</td>\n",
       "      <td>5</td>\n",
       "      <td>500</td>\n",
       "    </tr>\n",
       "    <tr>\n",
       "      <th>2023-09-24 16:48:25</th>\n",
       "      <td>B</td>\n",
       "      <td>10</td>\n",
       "      <td>600</td>\n",
       "    </tr>\n",
       "    <tr>\n",
       "      <th>2023-09-24 21:11:50</th>\n",
       "      <td>A</td>\n",
       "      <td>15</td>\n",
       "      <td>500</td>\n",
       "    </tr>\n",
       "    <tr>\n",
       "      <th>2023-09-25 01:35:15</th>\n",
       "      <td>B</td>\n",
       "      <td>15</td>\n",
       "      <td>600</td>\n",
       "    </tr>\n",
       "    <tr>\n",
       "      <th>2023-09-25 05:58:40</th>\n",
       "      <td>A</td>\n",
       "      <td>20</td>\n",
       "      <td>600</td>\n",
       "    </tr>\n",
       "    <tr>\n",
       "      <th>2023-09-25 10:22:05</th>\n",
       "      <td>B</td>\n",
       "      <td>25</td>\n",
       "      <td>700</td>\n",
       "    </tr>\n",
       "    <tr>\n",
       "      <th>2023-09-25 14:45:30</th>\n",
       "      <td>A</td>\n",
       "      <td>40</td>\n",
       "      <td>600</td>\n",
       "    </tr>\n",
       "  </tbody>\n",
       "</table>\n",
       "</div>"
      ],
      "text/plain": [
       "                    물품  판매수  개당수익\n",
       "time                             \n",
       "2023-09-24 12:25:00  A    5   500\n",
       "2023-09-24 16:48:25  B   10   600\n",
       "2023-09-24 21:11:50  A   15   500\n",
       "2023-09-25 01:35:15  B   15   600\n",
       "2023-09-25 05:58:40  A   20   600\n",
       "2023-09-25 10:22:05  B   25   700\n",
       "2023-09-25 14:45:30  A   40   600"
      ]
     },
     "execution_count": 15,
     "metadata": {},
     "output_type": "execute_result"
    }
   ],
   "source": [
    "# 문제 26\n",
    "# 9월 25일 00:00~12:00 까지의 B물품의 매출액 총합을 구하시오.\n",
    "\n",
    "# 시간 데이터 만들기\n",
    "df = pd.DataFrame({\n",
    "    '물품' : ['A','B', 'A', 'B','A', 'B','A'],\n",
    "    '판매수' : [5, 10, 15, 15, 20, 25, 40],\n",
    "    '개당수익' : [500, 600, 500, 600, 600, 700, 600,]\n",
    "})\n",
    "time = pd.date_range('2023-09-24 12:25:00', '2023-09-25 14:45:30', periods=7)\n",
    "df['time']=time\n",
    "df = df[['time', '물품', '판매수', '개당수익']]\n",
    "df = df.set_index('time', drop=True)\n",
    "df"
   ]
  },
  {
   "cell_type": "code",
   "execution_count": 16,
   "metadata": {},
   "outputs": [
    {
     "name": "stdout",
     "output_type": "stream",
     "text": [
      "26500\n"
     ]
    }
   ],
   "source": [
    "# 풀이1\n",
    "# 매출액 변수 추가\n",
    "df['매출액'] = df['판매수']*df['개당수익']\n",
    "\n",
    "# time 변수 추가하기, index 초기화 (인덱스를 컬럼으로)\n",
    "df = df.reset_index() # 디폴트 drop=False\n",
    "# print(df.head())\n",
    "\n",
    "# index 새로 지정\n",
    "df = df.set_index('time', drop=False)\n",
    "\n",
    "# 데이터 타입 datetime 으로 변경\n",
    "df['time'] = pd.to_datetime(df['time'])\n",
    "\n",
    "# 9월 25일 필터링\n",
    "df_after = df[df['time'].between('2023-09-25', '2023-09-26') ] # 26일은 미포함\n",
    "\n",
    "# 시간 필터링 00 ~ 12 (주의:시간이 index위치여야 함)\n",
    "df = df_after.between_time(start_time='00:00', end_time='12:00') # 포함 기준\n",
    "\n",
    "# B 물품의 매출액 총합\n",
    "df = df[df['물품']=='B']\n",
    "print(df['매출액'].sum())"
   ]
  },
  {
   "cell_type": "code",
   "execution_count": 18,
   "metadata": {},
   "outputs": [
    {
     "name": "stdout",
     "output_type": "stream",
     "text": [
      "26500\n"
     ]
    }
   ],
   "source": [
    "# 풀이 2\n",
    "# 시간 데이터 만들기\n",
    "df = pd.DataFrame({\n",
    "    '물품' : ['A','B', 'A', 'B','A', 'B','A'],\n",
    "    '판매수' : [5, 10, 15, 15, 20, 25, 40],\n",
    "    '개당수익' : [500, 600, 500, 600, 600, 700, 600,]\n",
    "})\n",
    "time = pd.date_range('2023-09-24 12:25:00', '2023-09-25 14:45:30', periods=7)\n",
    "df['time']=time\n",
    "df = df[['time', '물품', '판매수', '개당수익']]\n",
    "df = df.set_index('time', drop=True)\n",
    "\n",
    "# 데이터 타입 datetime 으로 변경 (df.info()로 항상 확인)\n",
    "# df['time'] = pd.to_datetime(df['time'])\n",
    "\n",
    "# 매출액 변수 추가\n",
    "df['매출액'] = df['판매수']*df['개당수익']\n",
    "\n",
    "# loc 함수로 필터링\n",
    "df = df.loc[(df.index>='2023-09-25 00:00:00') & (df.index<='2023-09-25 12:00:00')]\n",
    "\n",
    "# B 물품의 매출액 총합\n",
    "df = df[df['물품']=='B']\n",
    "print(df['매출액'].sum())"
   ]
  },
  {
   "cell_type": "code",
   "execution_count": 29,
   "metadata": {},
   "outputs": [
    {
     "data": {
      "text/html": [
       "<div>\n",
       "<style scoped>\n",
       "    .dataframe tbody tr th:only-of-type {\n",
       "        vertical-align: middle;\n",
       "    }\n",
       "\n",
       "    .dataframe tbody tr th {\n",
       "        vertical-align: top;\n",
       "    }\n",
       "\n",
       "    .dataframe thead th {\n",
       "        text-align: right;\n",
       "    }\n",
       "</style>\n",
       "<table border=\"1\" class=\"dataframe\">\n",
       "  <thead>\n",
       "    <tr style=\"text-align: right;\">\n",
       "      <th></th>\n",
       "      <th>물품</th>\n",
       "      <th>판매수</th>\n",
       "      <th>개당수익</th>\n",
       "    </tr>\n",
       "    <tr>\n",
       "      <th>time</th>\n",
       "      <th></th>\n",
       "      <th></th>\n",
       "      <th></th>\n",
       "    </tr>\n",
       "  </thead>\n",
       "  <tbody>\n",
       "    <tr>\n",
       "      <th>2023-09-24 12:25:00</th>\n",
       "      <td>A</td>\n",
       "      <td>5</td>\n",
       "      <td>500</td>\n",
       "    </tr>\n",
       "    <tr>\n",
       "      <th>2023-09-24 16:48:25</th>\n",
       "      <td>B</td>\n",
       "      <td>10</td>\n",
       "      <td>600</td>\n",
       "    </tr>\n",
       "    <tr>\n",
       "      <th>2023-09-24 21:11:50</th>\n",
       "      <td>A</td>\n",
       "      <td>15</td>\n",
       "      <td>500</td>\n",
       "    </tr>\n",
       "    <tr>\n",
       "      <th>2023-09-25 01:35:15</th>\n",
       "      <td>B</td>\n",
       "      <td>15</td>\n",
       "      <td>600</td>\n",
       "    </tr>\n",
       "    <tr>\n",
       "      <th>2023-09-25 05:58:40</th>\n",
       "      <td>A</td>\n",
       "      <td>20</td>\n",
       "      <td>600</td>\n",
       "    </tr>\n",
       "    <tr>\n",
       "      <th>2023-09-25 10:22:05</th>\n",
       "      <td>B</td>\n",
       "      <td>25</td>\n",
       "      <td>700</td>\n",
       "    </tr>\n",
       "    <tr>\n",
       "      <th>2023-09-25 14:45:30</th>\n",
       "      <td>A</td>\n",
       "      <td>40</td>\n",
       "      <td>600</td>\n",
       "    </tr>\n",
       "  </tbody>\n",
       "</table>\n",
       "</div>"
      ],
      "text/plain": [
       "                    물품  판매수  개당수익\n",
       "time                             \n",
       "2023-09-24 12:25:00  A    5   500\n",
       "2023-09-24 16:48:25  B   10   600\n",
       "2023-09-24 21:11:50  A   15   500\n",
       "2023-09-25 01:35:15  B   15   600\n",
       "2023-09-25 05:58:40  A   20   600\n",
       "2023-09-25 10:22:05  B   25   700\n",
       "2023-09-25 14:45:30  A   40   600"
      ]
     },
     "execution_count": 29,
     "metadata": {},
     "output_type": "execute_result"
    }
   ],
   "source": [
    "# 문제 27\n",
    "# 9월 24일 12:00~24:00 까지의 A물품의 매출액 총합을 구하시오.\n",
    "# 시간 데이터 만들기\n",
    "df = pd.DataFrame({\n",
    "    '물품' : ['A','B', 'A', 'B', 'A', 'B','A'],\n",
    "    '판매수' : [5, 10, 15, 15, 20, 25, 40],\n",
    "    '개당수익' : [500, 600, 500, 600, 600, 700, 600,]\n",
    "})\n",
    "df['time']=pd.date_range('2023-09-24 12:25:00', '2023-09-25 14:45:30', periods=7)\n",
    "df = df[['time', '물품', '판매수', '개당수익']]\n",
    "df = df.set_index('time', drop=True)\n",
    "df"
   ]
  },
  {
   "cell_type": "code",
   "execution_count": 30,
   "metadata": {},
   "outputs": [
    {
     "name": "stdout",
     "output_type": "stream",
     "text": [
      "10000\n"
     ]
    }
   ],
   "source": [
    "# 풀이1\n",
    "# 매출액 변수 추가\n",
    "df['매출액'] = df['판매수']*df['개당수익']\n",
    "\n",
    "# time 변수 추가\n",
    "df = df.reset_index()\n",
    "\n",
    "# index 새로 지정\n",
    "df = df.set_index('time', drop=False)\n",
    "\n",
    "# 데이터 타입 datetime 으로 변경\n",
    "df['time'] = pd.to_datetime(df['time'])\n",
    "\n",
    "# 9월 24일 필터링 // df['변수'].between( . )\n",
    "df_after = df[df['time'].between('2023-09-24', '2023-09-25')] # 25일은 미포함\n",
    "df_after\n",
    "\n",
    "# 시간 필터링 12:00 ~ 24:00\n",
    "df = df_after.between_time(start_time='12:00', end_time='23:59') # 포함 기준\n",
    "# 24:00 으로 하면 에러 발생 -> 그 전 시간으로 카운팅\n",
    "\n",
    "# A물품의 매출액 총합\n",
    "df = df[df['물품']=='A']\n",
    "print(df['매출액'].sum())"
   ]
  },
  {
   "cell_type": "code",
   "execution_count": 32,
   "metadata": {},
   "outputs": [
    {
     "name": "stdout",
     "output_type": "stream",
     "text": [
      "10000\n"
     ]
    }
   ],
   "source": [
    "# 풀이2\n",
    "# 시간 데이터 만들기\n",
    "df = pd.DataFrame({\n",
    "    '물품' : ['A','B', 'A', 'B', 'A', 'B','A'],\n",
    "    '판매수' : [5, 10, 15, 15, 20, 25, 40],\n",
    "    '개당수익' : [500, 600, 500, 600, 600, 700, 600,]\n",
    "})\n",
    "df['time']=pd.date_range('2023-09-24 12:25:00', '2023-09-25 14:45:30', periods=7)\n",
    "df = df[['time', '물품', '판매수', '개당수익']]\n",
    "\n",
    "# 데이터 타입 datetime 으로 변경\n",
    "df['time'] = pd.to_datetime(df['time'])\n",
    "\n",
    "# index 새로 지정\n",
    "df = df.set_index('time')\n",
    "\n",
    "# 매출액 변수 추가\n",
    "df['매출액'] = df['판매수']*df['개당수익']\n",
    "\n",
    "# loc 함수로 필터링\n",
    "df = df.loc[(df.index>='2023-09-24 12:00:00')&(df.index<='2023-09-24 23:59:59')]\n",
    "\n",
    "# A 물품의 매출액 총합\n",
    "df = df[df['물품']=='A']\n",
    "print(df['매출액'].sum())"
   ]
  }
 ],
 "metadata": {
  "kernelspec": {
   "display_name": "venv",
   "language": "python",
   "name": "python3"
  },
  "language_info": {
   "codemirror_mode": {
    "name": "ipython",
    "version": 3
   },
   "file_extension": ".py",
   "mimetype": "text/x-python",
   "name": "python",
   "nbconvert_exporter": "python",
   "pygments_lexer": "ipython3",
   "version": "3.9.12"
  }
 },
 "nbformat": 4,
 "nbformat_minor": 2
}
