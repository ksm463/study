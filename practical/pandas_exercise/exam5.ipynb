{
 "cells": [
  {
   "cell_type": "markdown",
   "metadata": {},
   "source": [
    "## 빅데이터 분석기사 5회 실기 기출 유형\n",
    "\n",
    "#### [가격 예측] 중고 자동차\n",
    "* 자동차 가격을 예측해주세요!\n",
    "* 예측할 값(y): price\n",
    "* 평가: RMSE (Root Mean Squared Error)\n",
    "* data: train.csv, test.csv\n",
    "\n",
    "* 제출 형식: result.csv파일을 아래와 같은 형식(수치형)으로 제출\n",
    "```\n",
    "pred\n",
    "11000\n",
    "20500\n",
    "...\n",
    "11995\n",
    "```"
   ]
  },
  {
   "cell_type": "code",
   "execution_count": 2,
   "metadata": {},
   "outputs": [],
   "source": [
    "import pandas as pd\n",
    "import numpy as np\n",
    "\n",
    "train = pd.read_csv(\"exam5_train.csv\")\n",
    "test = pd.read_csv(\"exam5_test.csv\")"
   ]
  },
  {
   "cell_type": "code",
   "execution_count": 3,
   "metadata": {},
   "outputs": [
    {
     "data": {
      "text/html": [
       "<div>\n",
       "<style scoped>\n",
       "    .dataframe tbody tr th:only-of-type {\n",
       "        vertical-align: middle;\n",
       "    }\n",
       "\n",
       "    .dataframe tbody tr th {\n",
       "        vertical-align: top;\n",
       "    }\n",
       "\n",
       "    .dataframe thead th {\n",
       "        text-align: right;\n",
       "    }\n",
       "</style>\n",
       "<table border=\"1\" class=\"dataframe\">\n",
       "  <thead>\n",
       "    <tr style=\"text-align: right;\">\n",
       "      <th></th>\n",
       "      <th>model</th>\n",
       "      <th>year</th>\n",
       "      <th>price</th>\n",
       "      <th>transmission</th>\n",
       "      <th>mileage</th>\n",
       "      <th>fuelType</th>\n",
       "      <th>tax</th>\n",
       "      <th>mpg</th>\n",
       "      <th>engineSize</th>\n",
       "    </tr>\n",
       "  </thead>\n",
       "  <tbody>\n",
       "    <tr>\n",
       "      <th>0</th>\n",
       "      <td>EcoSport</td>\n",
       "      <td>2017</td>\n",
       "      <td>10298</td>\n",
       "      <td>Manual</td>\n",
       "      <td>25013</td>\n",
       "      <td>Petrol</td>\n",
       "      <td>150</td>\n",
       "      <td>53.3</td>\n",
       "      <td>1.0</td>\n",
       "    </tr>\n",
       "    <tr>\n",
       "      <th>1</th>\n",
       "      <td>Focus</td>\n",
       "      <td>2016</td>\n",
       "      <td>10491</td>\n",
       "      <td>Manual</td>\n",
       "      <td>30970</td>\n",
       "      <td>Diesel</td>\n",
       "      <td>0</td>\n",
       "      <td>74.3</td>\n",
       "      <td>1.5</td>\n",
       "    </tr>\n",
       "    <tr>\n",
       "      <th>2</th>\n",
       "      <td>S-MAX</td>\n",
       "      <td>2017</td>\n",
       "      <td>13498</td>\n",
       "      <td>Manual</td>\n",
       "      <td>60200</td>\n",
       "      <td>Diesel</td>\n",
       "      <td>150</td>\n",
       "      <td>56.5</td>\n",
       "      <td>2.0</td>\n",
       "    </tr>\n",
       "  </tbody>\n",
       "</table>\n",
       "</div>"
      ],
      "text/plain": [
       "       model  year  price transmission  mileage fuelType  tax   mpg  \\\n",
       "0   EcoSport  2017  10298       Manual    25013   Petrol  150  53.3   \n",
       "1      Focus  2016  10491       Manual    30970   Diesel    0  74.3   \n",
       "2      S-MAX  2017  13498       Manual    60200   Diesel  150  56.5   \n",
       "\n",
       "   engineSize  \n",
       "0         1.0  \n",
       "1         1.5  \n",
       "2         2.0  "
      ]
     },
     "execution_count": 3,
     "metadata": {},
     "output_type": "execute_result"
    }
   ],
   "source": [
    "# 2. EDA\n",
    "train.head(3)"
   ]
  },
  {
   "cell_type": "code",
   "execution_count": 6,
   "metadata": {},
   "outputs": [
    {
     "name": "stdout",
     "output_type": "stream",
     "text": [
      "<class 'pandas.core.frame.DataFrame'>\n",
      "RangeIndex: 3759 entries, 0 to 3758\n",
      "Data columns (total 9 columns):\n",
      " #   Column        Non-Null Count  Dtype  \n",
      "---  ------        --------------  -----  \n",
      " 0   model         3759 non-null   object \n",
      " 1   year          3759 non-null   int64  \n",
      " 2   price         3759 non-null   int64  \n",
      " 3   transmission  3759 non-null   object \n",
      " 4   mileage       3759 non-null   int64  \n",
      " 5   fuelType      3759 non-null   object \n",
      " 6   tax           3759 non-null   int64  \n",
      " 7   mpg           3759 non-null   float64\n",
      " 8   engineSize    3759 non-null   float64\n",
      "dtypes: float64(2), int64(4), object(3)\n",
      "memory usage: 264.4+ KB\n",
      "None\n"
     ]
    }
   ],
   "source": [
    "print(train.info())"
   ]
  },
  {
   "cell_type": "code",
   "execution_count": 7,
   "metadata": {},
   "outputs": [
    {
     "name": "stdout",
     "output_type": "stream",
     "text": [
      "<class 'pandas.core.frame.DataFrame'>\n",
      "RangeIndex: 1617 entries, 0 to 1616\n",
      "Data columns (total 8 columns):\n",
      " #   Column        Non-Null Count  Dtype  \n",
      "---  ------        --------------  -----  \n",
      " 0   model         1617 non-null   object \n",
      " 1   year          1617 non-null   int64  \n",
      " 2   transmission  1617 non-null   object \n",
      " 3   mileage       1617 non-null   int64  \n",
      " 4   fuelType      1617 non-null   object \n",
      " 5   tax           1617 non-null   int64  \n",
      " 6   mpg           1617 non-null   float64\n",
      " 7   engineSize    1617 non-null   float64\n",
      "dtypes: float64(2), int64(3), object(3)\n",
      "memory usage: 101.2+ KB\n",
      "None\n"
     ]
    }
   ],
   "source": [
    "print(test.info())"
   ]
  },
  {
   "cell_type": "code",
   "execution_count": 8,
   "metadata": {},
   "outputs": [
    {
     "name": "stdout",
     "output_type": "stream",
     "text": [
      "<class 'pandas.core.frame.DataFrame'>\n",
      "RangeIndex: 3759 entries, 0 to 3758\n",
      "Data columns (total 8 columns):\n",
      " #   Column        Non-Null Count  Dtype  \n",
      "---  ------        --------------  -----  \n",
      " 0   model         3759 non-null   object \n",
      " 1   year          3759 non-null   int64  \n",
      " 2   transmission  3759 non-null   object \n",
      " 3   mileage       3759 non-null   int64  \n",
      " 4   fuelType      3759 non-null   object \n",
      " 5   tax           3759 non-null   int64  \n",
      " 6   mpg           3759 non-null   float64\n",
      " 7   engineSize    3759 non-null   float64\n",
      "dtypes: float64(2), int64(3), object(3)\n",
      "memory usage: 235.1+ KB\n",
      "None\n"
     ]
    }
   ],
   "source": [
    "y_train = train['price']\n",
    "x_train = train.drop('price', axis=1)\n",
    "x_test = test\n",
    "print(x_train.info())"
   ]
  },
  {
   "cell_type": "code",
   "execution_count": 10,
   "metadata": {},
   "outputs": [
    {
     "name": "stdout",
     "output_type": "stream",
     "text": [
      "              year        mileage          tax          mpg   engineSize\n",
      "count  3759.000000    3759.000000  3759.000000  3759.000000  3759.000000\n",
      "mean   2016.887736   23191.786379   114.444001    57.793083     1.352807\n",
      "std       2.151811   19223.258713    61.713682    10.099221     0.437130\n",
      "min    2002.000000       5.000000     0.000000    20.900000     0.000000\n",
      "25%    2016.000000    9997.500000    75.000000    52.300000     1.000000\n",
      "50%    2017.000000   18180.000000   145.000000    58.900000     1.200000\n",
      "75%    2018.000000   31000.000000   145.000000    65.700000     1.500000\n",
      "max    2060.000000  144000.000000   570.000000   201.800000     5.000000\n",
      "              year        mileage          tax          mpg   engineSize\n",
      "count  1617.000000    1617.000000  1617.000000  1617.000000  1617.000000\n",
      "mean   2016.752628   23817.544836   113.089054    57.804082     1.362894\n",
      "std       2.182152   20130.026364    63.584868    10.567025     0.436878\n",
      "min    2005.000000       5.000000     0.000000    20.900000     0.000000\n",
      "25%    2016.000000   10422.000000    30.000000    52.300000     1.000000\n",
      "50%    2017.000000   18471.000000   145.000000    58.900000     1.200000\n",
      "75%    2018.000000   31098.000000   145.000000    65.700000     1.600000\n",
      "max    2020.000000  150890.000000   570.000000   201.800000     5.000000\n"
     ]
    }
   ],
   "source": [
    "print(x_train.describe())\n",
    "print(x_test.describe())"
   ]
  },
  {
   "cell_type": "code",
   "execution_count": 11,
   "metadata": {},
   "outputs": [
    {
     "name": "stdout",
     "output_type": "stream",
     "text": [
      "          model transmission fuelType\n",
      "count      3759         3759     3759\n",
      "unique       19            3        3\n",
      "top      Fiesta       Manual   Petrol\n",
      "freq       1372         3234     2541\n",
      "          model transmission fuelType\n",
      "count      1617         1617     1617\n",
      "unique       19            3        3\n",
      "top      Fiesta       Manual   Petrol\n",
      "freq        591         1385     1085\n"
     ]
    }
   ],
   "source": [
    "print(x_train.describe(include='object'))\n",
    "print(x_test.describe(include='object'))"
   ]
  },
  {
   "cell_type": "code",
   "execution_count": 13,
   "metadata": {},
   "outputs": [
    {
     "name": "stdout",
     "output_type": "stream",
     "text": [
      "<class 'pandas.core.frame.DataFrame'>\n",
      "RangeIndex: 3759 entries, 0 to 3758\n",
      "Data columns (total 30 columns):\n",
      " #   Column                        Non-Null Count  Dtype  \n",
      "---  ------                        --------------  -----  \n",
      " 0   year                          3759 non-null   int64  \n",
      " 1   mileage                       3759 non-null   int64  \n",
      " 2   tax                           3759 non-null   int64  \n",
      " 3   mpg                           3759 non-null   float64\n",
      " 4   engineSize                    3759 non-null   float64\n",
      " 5   model_ B-MAX                  3759 non-null   bool   \n",
      " 6   model_ C-MAX                  3759 non-null   bool   \n",
      " 7   model_ EcoSport               3759 non-null   bool   \n",
      " 8   model_ Edge                   3759 non-null   bool   \n",
      " 9   model_ Fiesta                 3759 non-null   bool   \n",
      " 10  model_ Focus                  3759 non-null   bool   \n",
      " 11  model_ Fusion                 3759 non-null   bool   \n",
      " 12  model_ Galaxy                 3759 non-null   bool   \n",
      " 13  model_ Grand C-MAX            3759 non-null   bool   \n",
      " 14  model_ Grand Tourneo Connect  3759 non-null   bool   \n",
      " 15  model_ KA                     3759 non-null   bool   \n",
      " 16  model_ Ka+                    3759 non-null   bool   \n",
      " 17  model_ Kuga                   3759 non-null   bool   \n",
      " 18  model_ Mondeo                 3759 non-null   bool   \n",
      " 19  model_ Mustang                3759 non-null   bool   \n",
      " 20  model_ Puma                   3759 non-null   bool   \n",
      " 21  model_ S-MAX                  3759 non-null   bool   \n",
      " 22  model_ Tourneo Connect        3759 non-null   bool   \n",
      " 23  model_ Tourneo Custom         3759 non-null   bool   \n",
      " 24  transmission_Automatic        3759 non-null   bool   \n",
      " 25  transmission_Manual           3759 non-null   bool   \n",
      " 26  transmission_Semi-Auto        3759 non-null   bool   \n",
      " 27  fuelType_Diesel               3759 non-null   bool   \n",
      " 28  fuelType_Hybrid               3759 non-null   bool   \n",
      " 29  fuelType_Petrol               3759 non-null   bool   \n",
      "dtypes: bool(25), float64(2), int64(3)\n",
      "memory usage: 238.7 KB\n",
      "None\n"
     ]
    }
   ],
   "source": [
    "# 3. 전처리 및 분리\n",
    "x_train = pd.get_dummies(x_train)\n",
    "x_test = pd.get_dummies(x_test)\n",
    "\n",
    "print(x_train.info())"
   ]
  },
  {
   "cell_type": "code",
   "execution_count": 14,
   "metadata": {},
   "outputs": [
    {
     "name": "stdout",
     "output_type": "stream",
     "text": [
      "<class 'pandas.core.frame.DataFrame'>\n",
      "RangeIndex: 1617 entries, 0 to 1616\n",
      "Data columns (total 30 columns):\n",
      " #   Column                        Non-Null Count  Dtype  \n",
      "---  ------                        --------------  -----  \n",
      " 0   year                          1617 non-null   int64  \n",
      " 1   mileage                       1617 non-null   int64  \n",
      " 2   tax                           1617 non-null   int64  \n",
      " 3   mpg                           1617 non-null   float64\n",
      " 4   engineSize                    1617 non-null   float64\n",
      " 5   model_ B-MAX                  1617 non-null   bool   \n",
      " 6   model_ C-MAX                  1617 non-null   bool   \n",
      " 7   model_ EcoSport               1617 non-null   bool   \n",
      " 8   model_ Edge                   1617 non-null   bool   \n",
      " 9   model_ Fiesta                 1617 non-null   bool   \n",
      " 10  model_ Focus                  1617 non-null   bool   \n",
      " 11  model_ Fusion                 1617 non-null   bool   \n",
      " 12  model_ Galaxy                 1617 non-null   bool   \n",
      " 13  model_ Grand C-MAX            1617 non-null   bool   \n",
      " 14  model_ Grand Tourneo Connect  1617 non-null   bool   \n",
      " 15  model_ KA                     1617 non-null   bool   \n",
      " 16  model_ Ka+                    1617 non-null   bool   \n",
      " 17  model_ Kuga                   1617 non-null   bool   \n",
      " 18  model_ Mondeo                 1617 non-null   bool   \n",
      " 19  model_ Mustang                1617 non-null   bool   \n",
      " 20  model_ Puma                   1617 non-null   bool   \n",
      " 21  model_ S-MAX                  1617 non-null   bool   \n",
      " 22  model_ Tourneo Connect        1617 non-null   bool   \n",
      " 23  model_ Tourneo Custom         1617 non-null   bool   \n",
      " 24  transmission_Automatic        1617 non-null   bool   \n",
      " 25  transmission_Manual           1617 non-null   bool   \n",
      " 26  transmission_Semi-Auto        1617 non-null   bool   \n",
      " 27  fuelType_Diesel               1617 non-null   bool   \n",
      " 28  fuelType_Hybrid               1617 non-null   bool   \n",
      " 29  fuelType_Petrol               1617 non-null   bool   \n",
      "dtypes: bool(25), float64(2), int64(3)\n",
      "memory usage: 102.8 KB\n",
      "None\n"
     ]
    }
   ],
   "source": [
    "print(x_test.info())"
   ]
  },
  {
   "cell_type": "code",
   "execution_count": 16,
   "metadata": {},
   "outputs": [
    {
     "name": "stdout",
     "output_type": "stream",
     "text": [
      "(3007, 30)\n",
      "(752, 30)\n",
      "(3007,)\n",
      "(752,)\n"
     ]
    }
   ],
   "source": [
    "# 데이터 분리\n",
    "from sklearn.model_selection import train_test_split\n",
    "x_train, x_val, y_train, y_val = train_test_split(x_train, y_train, test_size=0.2, random_state=2023)\n",
    "\n",
    "print(x_train.shape)\n",
    "print(x_val.shape)\n",
    "print(y_train.shape)\n",
    "print(y_val.shape)"
   ]
  },
  {
   "cell_type": "code",
   "execution_count": 18,
   "metadata": {},
   "outputs": [
    {
     "data": {
      "text/html": [
       "<style>#sk-container-id-1 {color: black;}#sk-container-id-1 pre{padding: 0;}#sk-container-id-1 div.sk-toggleable {background-color: white;}#sk-container-id-1 label.sk-toggleable__label {cursor: pointer;display: block;width: 100%;margin-bottom: 0;padding: 0.3em;box-sizing: border-box;text-align: center;}#sk-container-id-1 label.sk-toggleable__label-arrow:before {content: \"▸\";float: left;margin-right: 0.25em;color: #696969;}#sk-container-id-1 label.sk-toggleable__label-arrow:hover:before {color: black;}#sk-container-id-1 div.sk-estimator:hover label.sk-toggleable__label-arrow:before {color: black;}#sk-container-id-1 div.sk-toggleable__content {max-height: 0;max-width: 0;overflow: hidden;text-align: left;background-color: #f0f8ff;}#sk-container-id-1 div.sk-toggleable__content pre {margin: 0.2em;color: black;border-radius: 0.25em;background-color: #f0f8ff;}#sk-container-id-1 input.sk-toggleable__control:checked~div.sk-toggleable__content {max-height: 200px;max-width: 100%;overflow: auto;}#sk-container-id-1 input.sk-toggleable__control:checked~label.sk-toggleable__label-arrow:before {content: \"▾\";}#sk-container-id-1 div.sk-estimator input.sk-toggleable__control:checked~label.sk-toggleable__label {background-color: #d4ebff;}#sk-container-id-1 div.sk-label input.sk-toggleable__control:checked~label.sk-toggleable__label {background-color: #d4ebff;}#sk-container-id-1 input.sk-hidden--visually {border: 0;clip: rect(1px 1px 1px 1px);clip: rect(1px, 1px, 1px, 1px);height: 1px;margin: -1px;overflow: hidden;padding: 0;position: absolute;width: 1px;}#sk-container-id-1 div.sk-estimator {font-family: monospace;background-color: #f0f8ff;border: 1px dotted black;border-radius: 0.25em;box-sizing: border-box;margin-bottom: 0.5em;}#sk-container-id-1 div.sk-estimator:hover {background-color: #d4ebff;}#sk-container-id-1 div.sk-parallel-item::after {content: \"\";width: 100%;border-bottom: 1px solid gray;flex-grow: 1;}#sk-container-id-1 div.sk-label:hover label.sk-toggleable__label {background-color: #d4ebff;}#sk-container-id-1 div.sk-serial::before {content: \"\";position: absolute;border-left: 1px solid gray;box-sizing: border-box;top: 0;bottom: 0;left: 50%;z-index: 0;}#sk-container-id-1 div.sk-serial {display: flex;flex-direction: column;align-items: center;background-color: white;padding-right: 0.2em;padding-left: 0.2em;position: relative;}#sk-container-id-1 div.sk-item {position: relative;z-index: 1;}#sk-container-id-1 div.sk-parallel {display: flex;align-items: stretch;justify-content: center;background-color: white;position: relative;}#sk-container-id-1 div.sk-item::before, #sk-container-id-1 div.sk-parallel-item::before {content: \"\";position: absolute;border-left: 1px solid gray;box-sizing: border-box;top: 0;bottom: 0;left: 50%;z-index: -1;}#sk-container-id-1 div.sk-parallel-item {display: flex;flex-direction: column;z-index: 1;position: relative;background-color: white;}#sk-container-id-1 div.sk-parallel-item:first-child::after {align-self: flex-end;width: 50%;}#sk-container-id-1 div.sk-parallel-item:last-child::after {align-self: flex-start;width: 50%;}#sk-container-id-1 div.sk-parallel-item:only-child::after {width: 0;}#sk-container-id-1 div.sk-dashed-wrapped {border: 1px dashed gray;margin: 0 0.4em 0.5em 0.4em;box-sizing: border-box;padding-bottom: 0.4em;background-color: white;}#sk-container-id-1 div.sk-label label {font-family: monospace;font-weight: bold;display: inline-block;line-height: 1.2em;}#sk-container-id-1 div.sk-label-container {text-align: center;}#sk-container-id-1 div.sk-container {/* jupyter's `normalize.less` sets `[hidden] { display: none; }` but bootstrap.min.css set `[hidden] { display: none !important; }` so we also need the `!important` here to be able to override the default hidden behavior on the sphinx rendered scikit-learn.org. See: https://github.com/scikit-learn/scikit-learn/issues/21755 */display: inline-block !important;position: relative;}#sk-container-id-1 div.sk-text-repr-fallback {display: none;}</style><div id=\"sk-container-id-1\" class=\"sk-top-container\"><div class=\"sk-text-repr-fallback\"><pre>RandomForestRegressor()</pre><b>In a Jupyter environment, please rerun this cell to show the HTML representation or trust the notebook. <br />On GitHub, the HTML representation is unable to render, please try loading this page with nbviewer.org.</b></div><div class=\"sk-container\" hidden><div class=\"sk-item\"><div class=\"sk-estimator sk-toggleable\"><input class=\"sk-toggleable__control sk-hidden--visually\" id=\"sk-estimator-id-1\" type=\"checkbox\" checked><label for=\"sk-estimator-id-1\" class=\"sk-toggleable__label sk-toggleable__label-arrow\">RandomForestRegressor</label><div class=\"sk-toggleable__content\"><pre>RandomForestRegressor()</pre></div></div></div></div></div>"
      ],
      "text/plain": [
       "RandomForestRegressor()"
      ]
     },
     "execution_count": 18,
     "metadata": {},
     "output_type": "execute_result"
    }
   ],
   "source": [
    "# 4. 모델링 및 성능평가\n",
    "from sklearn.ensemble import RandomForestRegressor\n",
    "model = RandomForestRegressor()\n",
    "model.fit(x_train, y_train)"
   ]
  },
  {
   "cell_type": "code",
   "execution_count": 22,
   "metadata": {},
   "outputs": [
    {
     "name": "stdout",
     "output_type": "stream",
     "text": [
      "0.9302187998479431\n",
      "1554153.2499622905\n",
      "1246.6568292687007\n"
     ]
    }
   ],
   "source": [
    "# 평가\n",
    "y_pred = model.predict(x_val)\n",
    "\n",
    "from sklearn.metrics import r2_score, mean_squared_error\n",
    "r2 = r2_score(y_val, y_pred)\n",
    "mse = mean_squared_error(y_val, y_pred)\n",
    "rmse = mse**0.5\n",
    "\n",
    "print(r2)\n",
    "print(mse)\n",
    "print(rmse)"
   ]
  },
  {
   "cell_type": "code",
   "execution_count": 23,
   "metadata": {},
   "outputs": [
    {
     "name": "stdout",
     "output_type": "stream",
     "text": [
      "          pred\n",
      "0     15577.18\n",
      "1     16007.76\n",
      "2     15503.43\n",
      "3     18312.93\n",
      "4      6301.17\n",
      "...        ...\n",
      "1612  11598.62\n",
      "1613  18440.75\n",
      "1614   9615.78\n",
      "1615  14311.60\n",
      "1616   4936.33\n",
      "\n",
      "[1617 rows x 1 columns]\n"
     ]
    }
   ],
   "source": [
    "# 5. 결과물 제출\n",
    "y_result = model.predict(x_test)\n",
    "column_name = ['pred']\n",
    "result = pd.DataFrame(y_result, columns=column_name).to_csv('exam5_result.csv', index=False)\n",
    "read = pd.read_csv('exam5_result.csv')\n",
    "print(read)"
   ]
  }
 ],
 "metadata": {
  "kernelspec": {
   "display_name": "venv",
   "language": "python",
   "name": "python3"
  },
  "language_info": {
   "codemirror_mode": {
    "name": "ipython",
    "version": 3
   },
   "file_extension": ".py",
   "mimetype": "text/x-python",
   "name": "python",
   "nbconvert_exporter": "python",
   "pygments_lexer": "ipython3",
   "version": "3.8.10"
  }
 },
 "nbformat": 4,
 "nbformat_minor": 2
}
