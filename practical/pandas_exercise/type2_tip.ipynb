{
 "cells": [
  {
   "cell_type": "markdown",
   "metadata": {},
   "source": [
    "## 제 2유형_팁 예측하기(회귀)"
   ]
  },
  {
   "cell_type": "markdown",
   "metadata": {},
   "source": [
    "## 데이터 분석 순서\n",
    "\n",
    "1. 라이브러리 및 데이터 확인\n",
    "2. 데이터 탐색(EDA)\n",
    "3. 데이터 전처리 및 분리\n",
    "4. 모델링 및 성능평가\n",
    "5. 예측값 제출"
   ]
  },
  {
   "cell_type": "markdown",
   "metadata": {},
   "source": [
    "### 1. 라이브러리 및 데이터 확인"
   ]
  },
  {
   "cell_type": "code",
   "execution_count": 1,
   "metadata": {},
   "outputs": [],
   "source": [
    "#### 복사 영역\n",
    "# 실기 시험 데이터셋으로 세팅하기 (수정금지)\n",
    "import pandas as pd\n",
    "import numpy as np\n",
    "\n",
    "import seaborn as sns\n",
    "# tips 데이터셋 로드\n",
    "df = sns.load_dataset('tips')\n",
    "\n",
    "x = df.drop(['tip'], axis=1)\n",
    "y = df['tip']\n",
    "\n",
    "# 실기 시험 데이터셋으로 세팅하기 (수정금지)\n",
    "from sklearn.model_selection import train_test_split\n",
    "x_train, x_test, y_train, y_Test = train_test_split(x, y, test_size=0.2, random_state=2023)\n",
    "\n",
    "x_test = pd.DataFrame(x_test.reset_index())\n",
    "x_train = pd.DataFrame(x_train.reset_index())\n",
    "y_train = pd.DataFrame(y_train.reset_index())\n",
    "\n",
    "x_test.rename(columns={'index':'cust_id'}, inplace=True)\n",
    "x_train.rename(columns={'index':'cust_id'}, inplace=True)\n",
    "y_train.columns = ['cust_id', 'target']\n",
    "\n",
    "#### 참고사항 ####\n",
    "# y_test는 주어지지 않음\n",
    "# X를 대문자로 쓰지 말고 소문자 x로 쓸것. 타이핑할때 실수하기 쉽다."
   ]
  },
  {
   "cell_type": "markdown",
   "metadata": {},
   "source": [
    "### 레스토랑의 tip 예측 문제\n",
    "- 데이터의 결측치, 이상치, 변수에 대해 처리하고\n",
    "- 회귀모델을 사용하여 Rsq, MSE 값을 산출하시오.\n",
    "\n",
    "#### 데이터셋 설명\n",
    "* total_bill : 식사 총 청구액\n",
    "* tip : 팁의 양\n",
    "* sex : 손님의 성별\n",
    "* smoker : 손님의 흡연 여부\n",
    "* day : 식사 요일\n",
    "* time : 점심 or 저녁\n",
    "* size : 식사 인원"
   ]
  },
  {
   "cell_type": "code",
   "execution_count": 2,
   "metadata": {},
   "outputs": [
    {
     "name": "stdout",
     "output_type": "stream",
     "text": [
      "(195, 7)\n",
      "(49, 7)\n",
      "(195, 2)\n"
     ]
    }
   ],
   "source": [
    "# 데이터의 행 / 열 확인\n",
    "\n",
    "print(x_train.shape)\n",
    "print(x_test.shape)\n",
    "print(y_train.shape)"
   ]
  },
  {
   "cell_type": "code",
   "execution_count": 3,
   "metadata": {},
   "outputs": [
    {
     "name": "stdout",
     "output_type": "stream",
     "text": [
      "   cust_id  total_bill     sex smoker  day    time  size\n",
      "0      158       13.39  Female     No  Sun  Dinner     2\n",
      "1      186       20.90  Female    Yes  Sun  Dinner     3\n",
      "2       21       20.29  Female     No  Sat  Dinner     2\n",
      "   cust_id  total_bill     sex smoker  day    time  size\n",
      "0      154       19.77    Male     No  Sun  Dinner     4\n",
      "1        4       24.59  Female     No  Sun  Dinner     4\n",
      "2       30        9.55    Male     No  Sat  Dinner     2\n",
      "   cust_id  target\n",
      "0      158    2.61\n",
      "1      186    3.50\n",
      "2       21    2.75\n"
     ]
    }
   ],
   "source": [
    "# 초기 데이터 확인\n",
    "\n",
    "print(x_train.head(3))\n",
    "print(x_test.head(3))\n",
    "print(y_train.head(3))"
   ]
  },
  {
   "cell_type": "code",
   "execution_count": 4,
   "metadata": {},
   "outputs": [
    {
     "name": "stdout",
     "output_type": "stream",
     "text": [
      "<class 'pandas.core.frame.DataFrame'>\n",
      "RangeIndex: 195 entries, 0 to 194\n",
      "Data columns (total 7 columns):\n",
      " #   Column      Non-Null Count  Dtype   \n",
      "---  ------      --------------  -----   \n",
      " 0   cust_id     195 non-null    int64   \n",
      " 1   total_bill  195 non-null    float64 \n",
      " 2   sex         195 non-null    category\n",
      " 3   smoker      195 non-null    category\n",
      " 4   day         195 non-null    category\n",
      " 5   time        195 non-null    category\n",
      " 6   size        195 non-null    int64   \n",
      "dtypes: category(4), float64(1), int64(2)\n",
      "memory usage: 6.0 KB\n",
      "None\n",
      "<class 'pandas.core.frame.DataFrame'>\n",
      "RangeIndex: 49 entries, 0 to 48\n",
      "Data columns (total 7 columns):\n",
      " #   Column      Non-Null Count  Dtype   \n",
      "---  ------      --------------  -----   \n",
      " 0   cust_id     49 non-null     int64   \n",
      " 1   total_bill  49 non-null     float64 \n",
      " 2   sex         49 non-null     category\n",
      " 3   smoker      49 non-null     category\n",
      " 4   day         49 non-null     category\n",
      " 5   time        49 non-null     category\n",
      " 6   size        49 non-null     int64   \n",
      "dtypes: category(4), float64(1), int64(2)\n",
      "memory usage: 2.0 KB\n",
      "None\n",
      "<class 'pandas.core.frame.DataFrame'>\n",
      "RangeIndex: 195 entries, 0 to 194\n",
      "Data columns (total 2 columns):\n",
      " #   Column   Non-Null Count  Dtype  \n",
      "---  ------   --------------  -----  \n",
      " 0   cust_id  195 non-null    int64  \n",
      " 1   target   195 non-null    float64\n",
      "dtypes: float64(1), int64(1)\n",
      "memory usage: 3.2 KB\n",
      "None\n"
     ]
    }
   ],
   "source": [
    "# 데이터 매칭, 결측치 확인\n",
    "# 범주형(category) 데이터가 많이 나오면 원핫인코딩\n",
    "\n",
    "print(x_train.info())\n",
    "print(x_test.info())\n",
    "print(y_train.info())"
   ]
  },
  {
   "cell_type": "code",
   "execution_count": 5,
   "metadata": {},
   "outputs": [
    {
     "name": "stdout",
     "output_type": "stream",
     "text": [
      "          cust_id  total_bill        size\n",
      "count  195.000000  195.000000  195.000000\n",
      "mean   122.056410   20.054667    2.543590\n",
      "std     70.668034    8.961645    0.942631\n",
      "min      0.000000    3.070000    1.000000\n",
      "25%     59.500000   13.420000    2.000000\n",
      "50%    121.000000   17.920000    2.000000\n",
      "75%    182.500000   24.395000    3.000000\n",
      "max    243.000000   50.810000    6.000000\n",
      "          cust_id  total_bill       size\n",
      "count   49.000000   49.000000  49.000000\n",
      "mean   119.285714   18.716531   2.673469\n",
      "std     70.918674    8.669864   0.987162\n",
      "min      2.000000    5.750000   2.000000\n",
      "25%     62.000000   12.740000   2.000000\n",
      "50%    123.000000   16.660000   2.000000\n",
      "75%    180.000000   21.010000   3.000000\n",
      "max    239.000000   44.300000   6.000000\n",
      "          cust_id      target\n",
      "count  195.000000  195.000000\n",
      "mean   122.056410    3.021692\n",
      "std     70.668034    1.402690\n",
      "min      0.000000    1.000000\n",
      "25%     59.500000    2.000000\n",
      "50%    121.000000    2.920000\n",
      "75%    182.500000    3.530000\n",
      "max    243.000000   10.000000\n"
     ]
    }
   ],
   "source": [
    "# x_train과 x_test 데이터의 기초통계량을 잘 비교해보세요.\n",
    "\n",
    "print(x_train.describe())\n",
    "print(x_test.describe())\n",
    "print(y_train.describe())"
   ]
  },
  {
   "cell_type": "code",
   "execution_count": 6,
   "metadata": {},
   "outputs": [
    {
     "name": "stdout",
     "output_type": "stream",
     "text": [
      "         sex smoker  day    time\n",
      "count    195    195  195     195\n",
      "unique     2      2    4       2\n",
      "top     Male     No  Sat  Dinner\n",
      "freq     125    120   71     142\n",
      "         sex smoker  day    time\n",
      "count     49     49   49      49\n",
      "unique     2      2    4       2\n",
      "top     Male     No  Sat  Dinner\n",
      "freq      32     31   16      34\n"
     ]
    }
   ],
   "source": [
    "# object, category 데이터도 추가 확인\n",
    "# print(x_train.describe(include='objdect'))\n",
    "# print(x_test.describe(include='objdect'))\n",
    "\n",
    "print(x_train.describe(include='category'))\n",
    "print(x_test.describe(include='category'))"
   ]
  },
  {
   "cell_type": "code",
   "execution_count": 7,
   "metadata": {},
   "outputs": [
    {
     "name": "stdout",
     "output_type": "stream",
     "text": [
      "   cust_id  target\n",
      "0      158    2.61\n",
      "1      186    3.50\n",
      "2       21    2.75\n",
      "3       74    2.20\n",
      "4       43    1.32\n"
     ]
    }
   ],
   "source": [
    "# y 데이터 살펴보기\n",
    "print(y_train.head())"
   ]
  },
  {
   "cell_type": "code",
   "execution_count": 8,
   "metadata": {},
   "outputs": [
    {
     "name": "stdout",
     "output_type": "stream",
     "text": [
      "         count        mean        std  min   25%     50%     75%    max\n",
      "cust_id  195.0  122.056410  70.668034  0.0  59.5  121.00  182.50  243.0\n",
      "target   195.0    3.021692   1.402690  1.0   2.0    2.92    3.53   10.0\n"
     ]
    }
   ],
   "source": [
    "print(y_train.describe().T)"
   ]
  },
  {
   "cell_type": "markdown",
   "metadata": {},
   "source": [
    "2. 데이터 전처리 및 분리\n",
    "\n",
    "1) 결측치 \n",
    "2) 이상치 \n",
    "3) 변수 처리하기"
   ]
  },
  {
   "cell_type": "code",
   "execution_count": 9,
   "metadata": {},
   "outputs": [],
   "source": [
    "# 변수처리\n",
    "# cust_id는 불필요한 변수이므로 제거\n",
    "# 단 test 셋의 cust_id가 나중에 제출이 필요하다면 별도로 저장\n",
    "\n",
    "cust_id = x_test['cust_id'].copy()\n",
    "\n",
    "# 각 데이터에서 cust_id 변수 제거\n",
    "x_train = x_train.drop(columns = ['cust_id'])\n",
    "x_test = x_test.drop(columns = ['cust_id'])"
   ]
  },
  {
   "cell_type": "code",
   "execution_count": 10,
   "metadata": {},
   "outputs": [
    {
     "name": "stdout",
     "output_type": "stream",
     "text": [
      "<class 'pandas.core.frame.DataFrame'>\n",
      "RangeIndex: 195 entries, 0 to 194\n",
      "Data columns (total 6 columns):\n",
      " #   Column      Non-Null Count  Dtype   \n",
      "---  ------      --------------  -----   \n",
      " 0   total_bill  195 non-null    float64 \n",
      " 1   sex         195 non-null    category\n",
      " 2   smoker      195 non-null    category\n",
      " 3   day         195 non-null    category\n",
      " 4   time        195 non-null    category\n",
      " 5   size        195 non-null    int64   \n",
      "dtypes: category(4), float64(1), int64(1)\n",
      "memory usage: 4.5 KB\n",
      "None\n"
     ]
    }
   ],
   "source": [
    "# 변수처리(원핫인코딩)\n",
    "print(x_train.info())"
   ]
  },
  {
   "cell_type": "code",
   "execution_count": 11,
   "metadata": {},
   "outputs": [
    {
     "name": "stdout",
     "output_type": "stream",
     "text": [
      "<class 'pandas.core.frame.DataFrame'>\n",
      "RangeIndex: 195 entries, 0 to 194\n",
      "Data columns (total 12 columns):\n",
      " #   Column       Non-Null Count  Dtype  \n",
      "---  ------       --------------  -----  \n",
      " 0   total_bill   195 non-null    float64\n",
      " 1   size         195 non-null    int64  \n",
      " 2   sex_Male     195 non-null    bool   \n",
      " 3   sex_Female   195 non-null    bool   \n",
      " 4   smoker_Yes   195 non-null    bool   \n",
      " 5   smoker_No    195 non-null    bool   \n",
      " 6   day_Thur     195 non-null    bool   \n",
      " 7   day_Fri      195 non-null    bool   \n",
      " 8   day_Sat      195 non-null    bool   \n",
      " 9   day_Sun      195 non-null    bool   \n",
      " 10  time_Lunch   195 non-null    bool   \n",
      " 11  time_Dinner  195 non-null    bool   \n",
      "dtypes: bool(10), float64(1), int64(1)\n",
      "memory usage: 5.1 KB\n",
      "None\n",
      "<class 'pandas.core.frame.DataFrame'>\n",
      "RangeIndex: 49 entries, 0 to 48\n",
      "Data columns (total 12 columns):\n",
      " #   Column       Non-Null Count  Dtype  \n",
      "---  ------       --------------  -----  \n",
      " 0   total_bill   49 non-null     float64\n",
      " 1   size         49 non-null     int64  \n",
      " 2   sex_Male     49 non-null     bool   \n",
      " 3   sex_Female   49 non-null     bool   \n",
      " 4   smoker_Yes   49 non-null     bool   \n",
      " 5   smoker_No    49 non-null     bool   \n",
      " 6   day_Thur     49 non-null     bool   \n",
      " 7   day_Fri      49 non-null     bool   \n",
      " 8   day_Sat      49 non-null     bool   \n",
      " 9   day_Sun      49 non-null     bool   \n",
      " 10  time_Lunch   49 non-null     bool   \n",
      " 11  time_Dinner  49 non-null     bool   \n",
      "dtypes: bool(10), float64(1), int64(1)\n",
      "memory usage: 1.4 KB\n",
      "None\n"
     ]
    }
   ],
   "source": [
    "# 원핫인코딩\n",
    "x_train = pd.get_dummies(x_train)\n",
    "x_test = pd.get_dummies(x_test)\n",
    "print(x_train.info())\n",
    "print(x_test.info())"
   ]
  },
  {
   "cell_type": "code",
   "execution_count": 12,
   "metadata": {},
   "outputs": [
    {
     "name": "stdout",
     "output_type": "stream",
     "text": [
      "(156, 12)\n",
      "(39, 12)\n",
      "(156,)\n",
      "(39,)\n"
     ]
    }
   ],
   "source": [
    "# 데이터를 훈련과 검증용 분할 (8:2)\n",
    "from sklearn.model_selection import train_test_split\n",
    "x_train, x_val, y_train, y_val = train_test_split(x_train, y_train['target'], test_size=0.2, random_state=23)\n",
    "\n",
    "print(x_train.shape)\n",
    "print(x_val.shape)\n",
    "print(y_train.shape)\n",
    "print(y_val.shape)"
   ]
  },
  {
   "cell_type": "markdown",
   "metadata": {},
   "source": [
    "4. 모델링 및 성능평가"
   ]
  },
  {
   "cell_type": "code",
   "execution_count": 13,
   "metadata": {},
   "outputs": [
    {
     "data": {
      "text/html": [
       "<style>#sk-container-id-1 {color: black;}#sk-container-id-1 pre{padding: 0;}#sk-container-id-1 div.sk-toggleable {background-color: white;}#sk-container-id-1 label.sk-toggleable__label {cursor: pointer;display: block;width: 100%;margin-bottom: 0;padding: 0.3em;box-sizing: border-box;text-align: center;}#sk-container-id-1 label.sk-toggleable__label-arrow:before {content: \"▸\";float: left;margin-right: 0.25em;color: #696969;}#sk-container-id-1 label.sk-toggleable__label-arrow:hover:before {color: black;}#sk-container-id-1 div.sk-estimator:hover label.sk-toggleable__label-arrow:before {color: black;}#sk-container-id-1 div.sk-toggleable__content {max-height: 0;max-width: 0;overflow: hidden;text-align: left;background-color: #f0f8ff;}#sk-container-id-1 div.sk-toggleable__content pre {margin: 0.2em;color: black;border-radius: 0.25em;background-color: #f0f8ff;}#sk-container-id-1 input.sk-toggleable__control:checked~div.sk-toggleable__content {max-height: 200px;max-width: 100%;overflow: auto;}#sk-container-id-1 input.sk-toggleable__control:checked~label.sk-toggleable__label-arrow:before {content: \"▾\";}#sk-container-id-1 div.sk-estimator input.sk-toggleable__control:checked~label.sk-toggleable__label {background-color: #d4ebff;}#sk-container-id-1 div.sk-label input.sk-toggleable__control:checked~label.sk-toggleable__label {background-color: #d4ebff;}#sk-container-id-1 input.sk-hidden--visually {border: 0;clip: rect(1px 1px 1px 1px);clip: rect(1px, 1px, 1px, 1px);height: 1px;margin: -1px;overflow: hidden;padding: 0;position: absolute;width: 1px;}#sk-container-id-1 div.sk-estimator {font-family: monospace;background-color: #f0f8ff;border: 1px dotted black;border-radius: 0.25em;box-sizing: border-box;margin-bottom: 0.5em;}#sk-container-id-1 div.sk-estimator:hover {background-color: #d4ebff;}#sk-container-id-1 div.sk-parallel-item::after {content: \"\";width: 100%;border-bottom: 1px solid gray;flex-grow: 1;}#sk-container-id-1 div.sk-label:hover label.sk-toggleable__label {background-color: #d4ebff;}#sk-container-id-1 div.sk-serial::before {content: \"\";position: absolute;border-left: 1px solid gray;box-sizing: border-box;top: 0;bottom: 0;left: 50%;z-index: 0;}#sk-container-id-1 div.sk-serial {display: flex;flex-direction: column;align-items: center;background-color: white;padding-right: 0.2em;padding-left: 0.2em;position: relative;}#sk-container-id-1 div.sk-item {position: relative;z-index: 1;}#sk-container-id-1 div.sk-parallel {display: flex;align-items: stretch;justify-content: center;background-color: white;position: relative;}#sk-container-id-1 div.sk-item::before, #sk-container-id-1 div.sk-parallel-item::before {content: \"\";position: absolute;border-left: 1px solid gray;box-sizing: border-box;top: 0;bottom: 0;left: 50%;z-index: -1;}#sk-container-id-1 div.sk-parallel-item {display: flex;flex-direction: column;z-index: 1;position: relative;background-color: white;}#sk-container-id-1 div.sk-parallel-item:first-child::after {align-self: flex-end;width: 50%;}#sk-container-id-1 div.sk-parallel-item:last-child::after {align-self: flex-start;width: 50%;}#sk-container-id-1 div.sk-parallel-item:only-child::after {width: 0;}#sk-container-id-1 div.sk-dashed-wrapped {border: 1px dashed gray;margin: 0 0.4em 0.5em 0.4em;box-sizing: border-box;padding-bottom: 0.4em;background-color: white;}#sk-container-id-1 div.sk-label label {font-family: monospace;font-weight: bold;display: inline-block;line-height: 1.2em;}#sk-container-id-1 div.sk-label-container {text-align: center;}#sk-container-id-1 div.sk-container {/* jupyter's `normalize.less` sets `[hidden] { display: none; }` but bootstrap.min.css set `[hidden] { display: none !important; }` so we also need the `!important` here to be able to override the default hidden behavior on the sphinx rendered scikit-learn.org. See: https://github.com/scikit-learn/scikit-learn/issues/21755 */display: inline-block !important;position: relative;}#sk-container-id-1 div.sk-text-repr-fallback {display: none;}</style><div id=\"sk-container-id-1\" class=\"sk-top-container\"><div class=\"sk-text-repr-fallback\"><pre>RandomForestRegressor(random_state=2023)</pre><b>In a Jupyter environment, please rerun this cell to show the HTML representation or trust the notebook. <br />On GitHub, the HTML representation is unable to render, please try loading this page with nbviewer.org.</b></div><div class=\"sk-container\" hidden><div class=\"sk-item\"><div class=\"sk-estimator sk-toggleable\"><input class=\"sk-toggleable__control sk-hidden--visually\" id=\"sk-estimator-id-1\" type=\"checkbox\" checked><label for=\"sk-estimator-id-1\" class=\"sk-toggleable__label sk-toggleable__label-arrow\">RandomForestRegressor</label><div class=\"sk-toggleable__content\"><pre>RandomForestRegressor(random_state=2023)</pre></div></div></div></div></div>"
      ],
      "text/plain": [
       "RandomForestRegressor(random_state=2023)"
      ]
     },
     "execution_count": 13,
     "metadata": {},
     "output_type": "execute_result"
    }
   ],
   "source": [
    "# 랜덤포레스트 회귀 모델 사용\n",
    "from sklearn.ensemble import RandomForestRegressor\n",
    "model = RandomForestRegressor(random_state=2023)\n",
    "model.fit(x_train, y_train)"
   ]
  },
  {
   "cell_type": "code",
   "execution_count": 14,
   "metadata": {},
   "outputs": [],
   "source": [
    "# 모델을 사용하여 테스트 데이터 예측\n",
    "y_pred = model.predict(x_val)"
   ]
  },
  {
   "cell_type": "code",
   "execution_count": 15,
   "metadata": {},
   "outputs": [],
   "source": [
    "# 모델 성능 평가 (R-squared, MSE 등)\n",
    "from sklearn.metrics import r2_score, mean_squared_error\n",
    "r2 = r2_score(y_val, y_pred)\n",
    "mse = mean_squared_error(y_val, y_pred) # (실제값, 예측값)"
   ]
  },
  {
   "cell_type": "code",
   "execution_count": 16,
   "metadata": {},
   "outputs": [
    {
     "name": "stdout",
     "output_type": "stream",
     "text": [
      "0.9812277338461534\n"
     ]
    }
   ],
   "source": [
    "# MSE\n",
    "print(mse)"
   ]
  },
  {
   "cell_type": "code",
   "execution_count": 17,
   "metadata": {},
   "outputs": [
    {
     "name": "stdout",
     "output_type": "stream",
     "text": [
      "0.990569398803614\n"
     ]
    }
   ],
   "source": [
    "# RMSE\n",
    "rmse = mse**0.5\n",
    "print(rmse)"
   ]
  },
  {
   "cell_type": "code",
   "execution_count": 18,
   "metadata": {},
   "outputs": [
    {
     "name": "stdout",
     "output_type": "stream",
     "text": [
      "0.4286497615634072\n"
     ]
    }
   ],
   "source": [
    "# Rsq\n",
    "print(r2)"
   ]
  },
  {
   "cell_type": "markdown",
   "metadata": {},
   "source": [
    "5. 예측값 제출"
   ]
  },
  {
   "cell_type": "code",
   "execution_count": 19,
   "metadata": {},
   "outputs": [
    {
     "name": "stdout",
     "output_type": "stream",
     "text": [
      "   cust_id  target\n",
      "0      154  3.2266\n",
      "1        4  4.1160\n",
      "2       30  1.8966\n",
      "3       75  1.8735\n",
      "4       33  3.0267\n"
     ]
    }
   ],
   "source": [
    "# 모델을 사용하여 테스트 데이터 예측\n",
    "y_result = model.predict(x_test)\n",
    "result = pd.DataFrame({'cust_id': cust_id, 'target': y_result})\n",
    "print(result[:5])"
   ]
  },
  {
   "cell_type": "code",
   "execution_count": null,
   "metadata": {},
   "outputs": [],
   "source": []
  }
 ],
 "metadata": {
  "kernelspec": {
   "display_name": "venv",
   "language": "python",
   "name": "python3"
  },
  "language_info": {
   "codemirror_mode": {
    "name": "ipython",
    "version": 3
   },
   "file_extension": ".py",
   "mimetype": "text/x-python",
   "name": "python",
   "nbconvert_exporter": "python",
   "pygments_lexer": "ipython3",
   "version": "3.9.12"
  }
 },
 "nbformat": 4,
 "nbformat_minor": 2
}
